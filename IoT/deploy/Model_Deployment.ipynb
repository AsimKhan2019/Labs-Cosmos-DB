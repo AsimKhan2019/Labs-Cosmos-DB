{
  "metadata": {
    "saveOutput": true,
    "kernelspec": {
      "name": "python3-azureml",
      "display_name": "Python 3.6 - AzureML"
    },
    "language_info": {
      "name": "python"
    }
  },
  "nbformat": 4,
  "nbformat_minor": 2,
  "cells": [
    {
      "cell_type": "markdown",
      "metadata": {},
      "source": [
        "# Deployment of Automated Machine Learning Model"
      ]
    },
    {
      "cell_type": "markdown",
      "metadata": {},
      "source": [
        "## Quick Start Overview\n",
        "\n",
        "In this quickstart, you will start with a model that was trained using Automated Machine Learning. Learn how to use the Azure ML Python SDK to register, package, and deploy the trained model to Azure Container Instance as a scoring web service. Finally, test the deployed model (1) by make direct calls on service object, (2) by calling the service end point (Scoring URI) over http.\n",
        "\n",
        "Because you will be using the Azure Machine Learning SDK, you will be able to provision all your required Azure resources directly from this notebook, without having to use the Azure Portal to create any resources."
      ]
    },
    {
      "cell_type": "markdown",
      "metadata": {},
      "source": [
        "Run the following cell and verify that your:\n",
        "- Azure ML SDK version is 1.0.62 or later."
      ]
    },
    {
      "cell_type": "code",
      "execution_count": 8,
      "outputs": [
        {
          "output_type": "execute_result",
          "execution_count": 8,
          "data": {
            "text/plain": "SDK Version: 1.3.0"
          },
          "metadata": {}
        }
      ],
      "metadata": {},
      "source": [
        "import os\n",
        "import azureml\n",
        "from azureml.core import Run\n",
        "from azureml.core import Workspace\n",
        "from azureml.core.model import Model\n",
        "from azureml.core.run import Run\n",
        "from azureml.core.experiment import Experiment\n",
        "\n",
        "from azureml.core.webservice import Webservice, AksWebservice\n",
        "from azureml.core.image import Image\n",
        "\n",
        "# Verify AML SDK Installed\n",
        "# view version history at https://pypi.org/project/azureml-sdk/#history \n",
        "print(\"SDK Version:\", azureml.core.VERSION)"
      ]
    },
    {
      "cell_type": "markdown",
      "metadata": {},
      "source": [
        "## Configure access to the Azure Machine Learning resources\n",
        "\n",
        "Run the following cell to load the Azure Machine Learning service shared configuration."
      ]
    },
    {
      "cell_type": "code",
      "execution_count": 9,
      "outputs": [
        {
          "output_type": "execute_result",
          "execution_count": 9,
          "data": {
            "text/plain": "Finished setting Azure Machine Learning service variables."
          },
          "metadata": {}
        }
      ],
      "metadata": {},
      "source": [
        "#Provide the Subscription ID of your existing Azure subscription\n",
        "subscription_id = \"220fc532-6091-423c-8ba0-66c2397d591b\"\n",
        "\n",
        "#Provide values for the existing Resource Group \n",
        "resource_group = \"iot-lab-2020\"\n",
        "\n",
        "#Provide the Workspace Name and Azure Region of the Azure Machine Learning Workspace\n",
        "workspace_name = \"Cosmos-DB-IoT-ML-2klrbk7bxl3tk\"\n",
        "workspace_region = \"East US\"\n",
        "\n",
        "print(\"Finished setting Azure Machine Learning service variables.\")"
      ]
    },
    {
      "cell_type": "code",
      "execution_count": 10,
      "outputs": [],
      "metadata": {},
      "source": [
        "# constants, you can leave these values as they are or experiment with changing them after you have completed the notebook once\n",
        "deployment_folder = './deploy'\n",
        "\n",
        "# this is the name of the web service deployed on the AKS cluster\n",
        "aci_service_name ='maint-service'\n",
        "\n",
        "os.makedirs(deployment_folder, exist_ok=True)"
      ]
    },
    {
      "cell_type": "markdown",
      "metadata": {},
      "source": [
        "## Define deployment helpers\n",
        "Run the following cells to define the helper methods that will be used to perform deployment"
      ]
    },
    {
      "cell_type": "code",
      "execution_count": 11,
      "outputs": [],
      "metadata": {},
      "source": [
        "def getOrCreateWorkspace(subscription_id, resource_group, workspace_name, workspace_region):\n",
        "    # By using the exist_ok param, if the workspace already exists we get a reference to the existing workspace instead of an error\n",
        "    ws = Workspace.create(\n",
        "        name = workspace_name,\n",
        "        subscription_id = subscription_id,\n",
        "        resource_group = resource_group, \n",
        "        location = workspace_region,\n",
        "        exist_ok = True)\n",
        "    return ws"
      ]
    },
    {
      "cell_type": "code",
      "execution_count": 12,
      "outputs": [],
      "metadata": {},
      "source": [
        "def deployModelAsWebService(ws, model_name, \n",
        "                scoring_script_filename=\"scoring_service.py\", \n",
        "                conda_packages=['numpy','pandas','scikit-learn','py-xgboost<=0.80'],\n",
        "                pip_packages=['azureml-train-automl==1.0.60','inference-schema'],\n",
        "                conda_file=\"dependencies.yml\", runtime=\"python\",\n",
        "                cpu_cores=1, memory_gb=1, tags={'name':'scoring'},\n",
        "                description='Forecast',\n",
        "                service_name = \"scoring\"\n",
        "               ):\n",
        "    # retrieve a reference to the already registered model\n",
        "    print(\"Retrieving model reference...\")\n",
        "    registered_model = Model(workspace=ws, name=model_name)\n",
        "\n",
        "    # create a Conda dependencies environment file\n",
        "    print(\"Creating conda dependencies file locally...\")\n",
        "    from azureml.core.conda_dependencies import CondaDependencies \n",
        "    mycondaenv = CondaDependencies.create(conda_packages=conda_packages, pip_packages=pip_packages)\n",
        "    with open(conda_file,\"w\") as f:\n",
        "        f.write(mycondaenv.serialize_to_string())\n",
        "        \n",
        "    # create container image configuration\n",
        "    print(\"Creating container image configuration...\")\n",
        "    from azureml.core.image import ContainerImage\n",
        "    image_config = ContainerImage.image_configuration(execution_script = scoring_script_filename,\n",
        "                                                      runtime = runtime,\n",
        "                                                      conda_file = conda_file)\n",
        "    \n",
        "    # create ACI configuration\n",
        "    print(\"Creating ACI configuration...\")\n",
        "    from azureml.core.webservice import AciWebservice, Webservice\n",
        "    aci_config = AciWebservice.deploy_configuration(\n",
        "        cpu_cores = cpu_cores, \n",
        "        memory_gb = memory_gb, \n",
        "        tags = tags, \n",
        "        description = description)\n",
        "\n",
        "    # deploy the webservice to ACI\n",
        "    print(\"Deploying webservice to ACI...\")\n",
        "    webservice = Webservice.deploy_from_model(\n",
        "      workspace=ws, \n",
        "      name=service_name, \n",
        "      deployment_config=aci_config,\n",
        "      models = [registered_model], \n",
        "      image_config=image_config\n",
        "    )\n",
        "    webservice.wait_for_deployment(show_output=True)\n",
        "    \n",
        "    return webservice"
      ]
    },
    {
      "cell_type": "markdown",
      "metadata": {},
      "source": [
        "## Create the scoring web service script\n",
        "Run the following cell to generate the web service script that will be deployed and uses the model for prediction."
      ]
    },
    {
      "cell_type": "code",
      "execution_count": 13,
      "outputs": [
        {
          "output_type": "execute_result",
          "execution_count": 13,
          "data": {
            "text/plain": "1174"
          },
          "metadata": {}
        }
      ],
      "metadata": {},
      "source": [
        "#save script to  $deployment_folder/scoring_service.py\n",
        "scoring_service = \"\"\"\n",
        "import json\n",
        "import pickle\n",
        "import numpy as np\n",
        "import pandas as pd\n",
        "import azureml.train.automl\n",
        "from sklearn.externals import joblib\n",
        "from azureml.core.model import Model\n",
        "\n",
        "# from inference_schema.schema_decorators import input_schema, output_schema\n",
        "# from inference_schema.parameter_types.numpy_parameter_type import NumpyParameterType\n",
        "# from inference_schema.parameter_types.pandas_parameter_type import PandasParameterType\n",
        "\n",
        "input_sample = pd.DataFrame({'battery_Age_Days': 120, 'daily_Trip_Duration': 590})\n",
        "### input_sample = pd.DataFrame(data=[{\"Date\":\"2013-01-01T00:00:00.000Z\",\"Battery_ID\":0,\"Battery_Age_Days\":0,\"Daily_Trip_Duration\":67.8456075842}])\n",
        "\n",
        "def init():\n",
        "    global model\n",
        "    # This name is model.id of model that we want to deploy deserialize the model file back\n",
        "    # into a sklearn model\n",
        "    model_path = Model.get_model_path(model_name = 'batt-cycles-7')\n",
        "    model = joblib.load(model_path)\n",
        "\n",
        "@input_schema('data', PandasParameterType(input_sample))\n",
        "def run(data):\n",
        "    try:\n",
        "        result = model.predict(data)\n",
        "    except Exception as e:\n",
        "        result = str(e)\n",
        "        return json.dumps({\"error\": result})\n",
        "\n",
        "    return json.dumps({\"result\": result.tolist()})\n",
        "\"\"\"\n",
        "\n",
        "with open(\"scoring_service.py\", \"w\") as file:\n",
        "  file.write(scoring_service)"
      ]
    },
    {
      "cell_type": "markdown",
      "metadata": {},
      "source": [
        "Run the following to get a reference to your Azure Machine Learning workspace and retrieve the model."
      ]
    },
    {
      "cell_type": "code",
      "execution_count": 14,
      "outputs": [
        {
          "output_type": "execute_result",
          "execution_count": 14,
          "data": {
            "text/plain": "Model(workspace=Workspace.create(name='Cosmos-DB-IoT-ML-2klrbk7bxl3tk', subscription_id='220fc532-6091-423c-8ba0-66c2397d591b', resource_group='iot-lab-2020'), name=batt-cycles-7, id=batt-cycles-7:3, version=3, tags={}, properties={})"
          },
          "metadata": {}
        }
      ],
      "metadata": {},
      "source": [
        "ws =  getOrCreateWorkspace(subscription_id, resource_group, \n",
        "                   workspace_name, workspace_region)\n",
        "\n",
        "registredModel = Model(workspace = ws, name = \"batt-cycles-7\")\n",
        "registredModel"
      ]
    },
    {
      "cell_type": "markdown",
      "metadata": {},
      "source": [
        "Run the following to deploy the web service. This will take about **5-7 minutes**."
      ]
    },
    {
      "cell_type": "code",
      "execution_count": null,
      "outputs": [],
      "metadata": {},
      "source": [
        "webservice = deployModelAsWebService(ws, model_name=\"batt-cycles-7\", service_name = aci_service_name)"
      ]
    },
    {
      "cell_type": "markdown",
      "metadata": {},
      "source": [
        "You have completed this notebook and can return to the lab guide."
      ]
    }
  ]
}