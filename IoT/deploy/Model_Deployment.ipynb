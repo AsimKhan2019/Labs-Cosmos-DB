{
  "metadata": {
    "kernelspec": {
      "name": "synapse_pyspark",
      "display_name": "Synapse PySpark"
    },
    "language_info": {
      "name": "python"
    },
    "sessionKeepAliveTimeout": 30
  },
  "nbformat": 4,
  "nbformat_minor": 2,
  "cells": [
    {
      "cell_type": "code",
      "execution_count": 1,
      "outputs": [
        {
          "output_type": "display_data",
          "data": {
            "application/vnd.livy.statement-meta+json": {
              "spark_pool": "spark5",
              "session_id": 0,
              "statement_id": 3,
              "state": "finished",
              "livy_statement_state": "available",
              "queued_time": "2020-08-14T17:50:10.2372581Z",
              "execution_start_time": "2020-08-14T17:53:14.5636661Z",
              "execution_finish_time": "2020-08-14T17:53:18.671387Z"
            },
            "text/plain": "StatementMeta(spark5, 0, 3, Finished, Available)"
          },
          "metadata": {}
        },
        {
          "execution_count": 1,
          "output_type": "execute_result",
          "data": {
            "text/plain": ""
          },
          "metadata": {}
        }
      ],
      "metadata": {
        "jupyter": {
          "source_hidden": false,
          "outputs_hidden": false
        },
        "nteract": {
          "transient": {
            "deleting": false
          }
        },
        "collapsed": true
      },
      "source": [
        "import azureml\r\n",
        "\r\n",
        "from azureml.core import Run\r\n",
        "from azureml.core import Workspace\r\n",
        "\r\n",
        "from azureml.core.conda_dependencies import CondaDependencies\r\n",
        "\r\n",
        "from azureml.core.environment import Environment\r\n",
        "\r\n",
        "from azureml.core.experiment import Experiment\r\n",
        "\r\n",
        "from azureml.core.image import Image\r\n",
        "\r\n",
        "from azureml.core.model import InferenceConfig\r\n",
        "from azureml.core.model import Model\r\n",
        "\r\n",
        "from azureml.core.run import Run\r\n",
        "\r\n",
        "from azureml.core.webservice import AciWebservice, Webservice"
      ]
    },
    {
      "cell_type": "code",
      "execution_count": 2,
      "outputs": [
        {
          "output_type": "display_data",
          "data": {
            "application/vnd.livy.statement-meta+json": {
              "spark_pool": "spark5",
              "session_id": 0,
              "statement_id": 4,
              "state": "finished",
              "livy_statement_state": "available",
              "queued_time": "2020-08-14T17:54:51.6119564Z",
              "execution_start_time": "2020-08-14T17:54:51.6547635Z",
              "execution_finish_time": "2020-08-14T17:54:54.0854601Z"
            },
            "text/plain": "StatementMeta(spark5, 0, 4, Finished, Available)"
          },
          "metadata": {}
        },
        {
          "execution_count": 2,
          "output_type": "execute_result",
          "data": {
            "text/plain": ""
          },
          "metadata": {}
        }
      ],
      "metadata": {},
      "source": [
        "#Provide the Subscription ID of your existing Azure subscription\r\n",
        "subscription_id = b\"\r\n",
        "\r\n",
        "#Provide values for the existing Resource Group \r\n",
        "resource_group09-1\"\r\n",
        "\r\n",
        "#Provide the Workspace Name and Azure Region of the Azure Machine Learning Workspace\r\n",
        "workspace_n6tqjlmi\"\r\n",
        "workspace_region = \"East US\"\r\n",
        "\r\n",
        "model_name = \"batt-cycles-7\"\r\n",
        "\r\n",
        "description = 'Forecast'\r\n",
        "cpu_cores = 1\r\n",
        "memory_gb = 1\r\n",
        "tags = {'name':'scoring'}\r\n",
        "\r\n",
        "conda_packages = ['numpy', 'pandas', 'scikit-learn', 'py-xgboost<=0.80']\r\n",
        "pip_packages = ['azureml-train-automl==1.0.60', 'inference-schema']\r\n",
        "conda_file = \"dependencies.yml\"\r\n",
        "\r\n",
        "env_name = \"myenv\"\r\n",
        "scoring_file = \"scoring_service.py\"\r\n",
        "\r\n",
        "se-aciservice-3uka6z6tqjlmi\""
      ]
    },
    {
      "cell_type": "code",
      "execution_count": 3,
      "outputs": [
        {
          "output_type": "display_data",
          "data": {
            "application/vnd.livy.statement-meta+json": {
              "spark_pool": "spark5",
              "session_id": 0,
              "statement_id": 5,
              "state": "submitted",
              "livy_statement_state": "available",
              "queued_time": "2020-08-14T17:54:55.3455624Z",
              "execution_start_time": "2020-08-14T17:54:55.7038038Z",
              "execution_finish_time": null
            },
            "text/plain": "StatementMeta(spark5, 0, 5, Submitted, Available)"
          },
          "metadata": {}
        },
        {
          "execution_count": 3,
          "output_type": "execute_result",
          "data": {
            "text/plain": ""
          },
          "metadata": {}
        }
      ],
      "metadata": {
        "jupyter": {
          "source_hidden": false,
          "outputs_hidden": false
        },
        "nteract": {
          "transient": {
            "deleting": false
          }
        },
        "collapsed": true
      },
      "source": [
        "# Values from `Setup Service Principal Authentication` in the Batch_Scoring notebook - do that first, then get those values and paste them here\r\n",
        "tenant_id = \"72f988bf-86f1-41af-91ab-2d7cd011db47\" # Use \"tenantId\" value\r\n",
        "service_principal_id = \"df87bb49-ae74-40f8-baf8-e7e4474d4ad7\" # Use \"clientId\" value\r\n",
        "service_principal_password = \"A~GWfa7VAvqJp.9UT5aCGPyiP6LAVVgZkh\" # Use \"clientSecret\" value\r\n",
        ""
      ]
    },
    {
      "cell_type": "code",
      "execution_count": null,
      "outputs": [],
      "metadata": {
        "jupyter": {
          "source_hidden": false,
          "outputs_hidden": false
        },
        "nteract": {
          "transient": {
            "deleting": false
          }
        },
        "collapsed": true
      },
      "source": [
        "# ws = Workspace.create(\r\n",
        "#     name = workspace_name,\r\n",
        "#     subscription_id = subscription_id,\r\n",
        "#     resource_group = resource_group,\r\n",
        "#     location = workspace_region,\r\n",
        "#     exist_ok = True)"
      ]
    },
    {
      "cell_type": "code",
      "execution_count": 4,
      "outputs": [
        {
          "output_type": "display_data",
          "data": {
            "application/vnd.livy.statement-meta+json": {
              "spark_pool": "spark5",
              "session_id": 0,
              "statement_id": 6,
              "state": "finished",
              "livy_statement_state": "available",
              "queued_time": "2020-08-14T17:54:59.0601207Z",
              "execution_start_time": "2020-08-14T17:54:59.5711175Z",
              "execution_finish_time": "2020-08-14T17:55:01.9919843Z"
            },
            "text/plain": "StatementMeta(spark5, 0, 6, Finished, Available)"
          },
          "metadata": {}
        },
        {
          "execution_count": 4,
          "output_type": "execute_result",
          "data": {
            "text/plain": ""
          },
          "metadata": {}
        }
      ],
      "metadata": {
        "jupyter": {
          "source_hidden": false,
          "outputs_hidden": false
        },
        "nteract": {
          "transient": {
            "deleting": false
          }
        },
        "collapsed": true
      },
      "source": [
        "from azureml.core.authentication import ServicePrincipalAuthentication\r\n",
        "\r\n",
        "sp = ServicePrincipalAuthentication(\r\n",
        "    tenant_id=tenant_id,\r\n",
        "    service_principal_id=service_principal_id,\r\n",
        "    service_principal_password=service_principal_password)"
      ]
    },
    {
      "cell_type": "code",
      "execution_count": 5,
      "outputs": [
        {
          "output_type": "display_data",
          "data": {
            "application/vnd.livy.statement-meta+json": {
              "spark_pool": "spark5",
              "session_id": 0,
              "statement_id": 7,
              "state": "finished",
              "livy_statement_state": "available",
              "queued_time": "2020-08-14T17:54:59.5616264Z",
              "execution_start_time": "2020-08-14T17:55:02.4078067Z",
              "execution_finish_time": "2020-08-14T17:55:12.3090774Z"
            },
            "text/plain": "StatementMeta(spark5, 0, 7, Finished, Available)"
          },
          "metadata": {}
        },
        {
          "execution_count": 5,
          "output_type": "execute_result",
          "data": {
            "text/plain": ""
          },
          "metadata": {}
        }
      ],
      "metadata": {
        "jupyter": {
          "source_hidden": false,
          "outputs_hidden": false
        },
        "nteract": {
          "transient": {
            "deleting": false
          }
        },
        "collapsed": true
      },
      "source": [
        "from azureml.core import Workspace\r\n",
        "\r\n",
        "ws = Workspace.get(\r\n",
        "    name=workspace_name, \r\n",
        "    auth=sp,\r\n",
        "    subscription_id=subscription_id)"
      ]
    },
    {
      "cell_type": "code",
      "execution_count": 6,
      "outputs": [
        {
          "output_type": "display_data",
          "data": {
            "application/vnd.livy.statement-meta+json": {
              "spark_pool": "spark5",
              "session_id": 0,
              "statement_id": 8,
              "state": "finished",
              "livy_statement_state": "available",
              "queued_time": "2020-08-14T17:55:13.0597184Z",
              "execution_start_time": "2020-08-14T17:55:13.4972032Z",
              "execution_finish_time": "2020-08-14T17:55:15.9659822Z"
            },
            "text/plain": "StatementMeta(spark5, 0, 8, Finished, Available)"
          },
          "metadata": {}
        },
        {
          "execution_count": 6,
          "output_type": "execute_result",
          "data": {
            "text/plain": "{'id': '/subscriptions/220fc532-6091-423c-8ba0-66c2397d591b/resourceGroups/pz-iot-20200709-1/providers/Microsoft.MachineLearningServices/workspaces/Cosmos-DB-IoT-ML-3uka6z6tqjlmi', 'name': 'Cosmos-DB-IoT-ML-3uka6z6tqjlmi', 'location': 'eastus', 'type': 'Microsoft.MachineLearningServices/workspaces', 'sku': 'Basic', 'workspaceid': 'c8caadf6-18ce-499d-8553-e7c4c4278cc2', 'description': '', 'friendlyName': 'Cosmos-DB-IoT-ML-3uka6z6tqjlmi', 'creationTime': '2020-08-14T17:11:44.9449442+00:00', 'keyVault': '/subscriptions/220fc532-6091-423c-8ba0-66c2397d591b/resourcegroups/pz-iot-20200709-1/providers/microsoft.keyvault/vaults/iot-vault-3uka6z6tqjlmi', 'applicationInsights': '/subscriptions/220fc532-6091-423c-8ba0-66c2397d591b/resourcegroups/pz-iot-20200709-1/providers/microsoft.insights/components/cosmos-db-iot-insights-3uka6z6tqjlmi', 'identityPrincipalId': 'a3f287df-5c11-4c7f-8ed9-f783cf48be57', 'identityTenantId': '72f988bf-86f1-41af-91ab-2d7cd011db47', 'identityType': 'SystemAssigned', 'storageAccount': '/subscriptions/220fc532-6091-423c-8ba0-66c2397d591b/resourcegroups/pz-iot-20200709-1/providers/microsoft.storage/storageaccounts/mlstore3uka6z6tqjlmi', 'hbiWorkspace': False, 'discoveryUrl': 'https://eastus.experiments.azureml.net/discovery'}"
          },
          "metadata": {}
        }
      ],
      "metadata": {
        "jupyter": {
          "source_hidden": false,
          "outputs_hidden": false
        },
        "nteract": {
          "transient": {
            "deleting": false
          }
        },
        "collapsed": true
      },
      "source": [
        "ws.get_details()"
      ]
    },
    {
      "cell_type": "code",
      "execution_count": 19,
      "outputs": [
        {
          "output_type": "display_data",
          "data": {
            "application/vnd.livy.statement-meta+json": {
              "spark_pool": "spark5",
              "session_id": 0,
              "statement_id": 21,
              "state": "finished",
              "livy_statement_state": "available",
              "queued_time": "2020-08-14T18:10:55.1294029Z",
              "execution_start_time": "2020-08-14T18:10:55.1643233Z",
              "execution_finish_time": "2020-08-14T18:10:57.2009123Z"
            },
            "text/plain": "StatementMeta(spark5, 0, 21, Finished, Available)"
          },
          "metadata": {}
        },
        {
          "execution_count": 19,
          "output_type": "execute_result",
          "data": {
            "text/plain": "1174"
          },
          "metadata": {}
        }
      ],
      "metadata": {
        "jupyter": {
          "source_hidden": false,
          "outputs_hidden": false
        },
        "nteract": {
          "transient": {
            "deleting": false
          }
        },
        "collapsed": true
      },
      "source": [
        "scoring_service = \"\"\"\r\n",
        "import json\r\n",
        "import pickle\r\n",
        "import numpy as np\r\n",
        "import pandas as pd\r\n",
        "import azureml.train.automl\r\n",
        "from sklearn.externals import joblib\r\n",
        "from azureml.core.model import Model\r\n",
        "\r\n",
        "# from inference_schema.schema_decorators import input_schema, output_schema\r\n",
        "# from inference_schema.parameter_types.numpy_parameter_type import NumpyParameterType\r\n",
        "# from inference_schema.parameter_types.pandas_parameter_type import PandasParameterType\r\n",
        "\r\n",
        "input_sample = pd.DataFrame({'battery_Age_Days': 120, 'daily_Trip_Duration': 590})\r\n",
        "### input_sample = pd.DataFrame(data=[{\"Date\":\"2013-01-01T00:00:00.000Z\",\"Battery_ID\":0,\"Battery_Age_Days\":0,\"Daily_Trip_Duration\":67.8456075842}])\r\n",
        "\r\n",
        "def init():\r\n",
        "    global model\r\n",
        "    # This name is model.id of model that we want to deploy deserialize the model file back\r\n",
        "    # into a sklearn model\r\n",
        "    model_path = Model.get_model_path(model_name = 'batt-cycles-7')\r\n",
        "    model = joblib.load(model_path)\r\n",
        "\r\n",
        "@input_schema('data', PandasParameterType(input_sample))\r\n",
        "def run(data):\r\n",
        "    try:\r\n",
        "        result = model.predict(data)\r\n",
        "    except Exception as e:\r\n",
        "        result = str(e)\r\n",
        "        return json.dumps({\"error\": result})\r\n",
        "\r\n",
        "    return json.dumps({\"result\": result.tolist()})\r\n",
        "\"\"\"\r\n",
        "\r\n",
        "with open(scoring_file, \"w\") as file:\r\n",
        "  file.write(scoring_service)"
      ]
    },
    {
      "cell_type": "code",
      "execution_count": 20,
      "outputs": [
        {
          "output_type": "display_data",
          "data": {
            "application/vnd.livy.statement-meta+json": {
              "spark_pool": "spark5",
              "session_id": 0,
              "statement_id": 22,
              "state": "finished",
              "livy_statement_state": "available",
              "queued_time": "2020-08-14T18:10:58.5515029Z",
              "execution_start_time": "2020-08-14T18:10:58.5905611Z",
              "execution_finish_time": "2020-08-14T18:11:00.6317292Z"
            },
            "text/plain": "StatementMeta(spark5, 0, 22, Finished, Available)"
          },
          "metadata": {}
        },
        {
          "execution_count": 20,
          "output_type": "execute_result",
          "data": {
            "text/plain": ""
          },
          "metadata": {}
        }
      ],
      "metadata": {
        "jupyter": {
          "source_hidden": false,
          "outputs_hidden": false
        },
        "nteract": {
          "transient": {
            "deleting": false
          }
        },
        "collapsed": true
      },
      "source": [
        "registeredModel = Model(workspace = ws, name = model_name)"
      ]
    },
    {
      "cell_type": "code",
      "execution_count": 21,
      "outputs": [
        {
          "output_type": "display_data",
          "data": {
            "application/vnd.livy.statement-meta+json": {
              "spark_pool": "spark5",
              "session_id": 0,
              "statement_id": 23,
              "state": "finished",
              "livy_statement_state": "available",
              "queued_time": "2020-08-14T18:11:02.4711127Z",
              "execution_start_time": "2020-08-14T18:11:02.5073413Z",
              "execution_finish_time": "2020-08-14T18:11:04.559286Z"
            },
            "text/plain": "StatementMeta(spark5, 0, 23, Finished, Available)"
          },
          "metadata": {}
        },
        {
          "execution_count": 21,
          "output_type": "execute_result",
          "data": {
            "text/plain": "Model(workspace=Workspace.create(name='Cosmos-DB-IoT-ML-3uka6z6tqjlmi', subscription_id='220fc532-6091-423c-8ba0-66c2397d591b', resource_group='pz-iot-20200709-1'), name=batt-cycles-7, id=batt-cycles-7:1, version=1, tags={}, properties={})"
          },
          "metadata": {}
        }
      ],
      "metadata": {
        "jupyter": {
          "source_hidden": false,
          "outputs_hidden": false
        },
        "nteract": {
          "transient": {
            "deleting": false
          }
        },
        "collapsed": true
      },
      "source": [
        "registeredModel"
      ]
    },
    {
      "cell_type": "code",
      "execution_count": 22,
      "outputs": [
        {
          "output_type": "display_data",
          "data": {
            "application/vnd.livy.statement-meta+json": {
              "spark_pool": "spark5",
              "session_id": 0,
              "statement_id": 24,
              "state": "finished",
              "livy_statement_state": "available",
              "queued_time": "2020-08-14T18:11:03.0581419Z",
              "execution_start_time": "2020-08-14T18:11:04.5936506Z",
              "execution_finish_time": "2020-08-14T18:11:06.6362917Z"
            },
            "text/plain": "StatementMeta(spark5, 0, 24, Finished, Available)"
          },
          "metadata": {}
        },
        {
          "execution_count": 22,
          "output_type": "execute_result",
          "data": {
            "text/plain": ""
          },
          "metadata": {}
        }
      ],
      "metadata": {
        "jupyter": {
          "source_hidden": false,
          "outputs_hidden": false
        },
        "nteract": {
          "transient": {
            "deleting": false
          }
        },
        "collapsed": true
      },
      "source": [
        "deployment_config = AciWebservice.deploy_configuration(\r\n",
        "    cpu_cores = cpu_cores, \r\n",
        "    memory_gb = memory_gb, \r\n",
        "    tags = tags, \r\n",
        "    description = description)"
      ]
    },
    {
      "cell_type": "code",
      "execution_count": 23,
      "outputs": [
        {
          "output_type": "display_data",
          "data": {
            "application/vnd.livy.statement-meta+json": {
              "spark_pool": "spark5",
              "session_id": 0,
              "statement_id": 25,
              "state": "finished",
              "livy_statement_state": "available",
              "queued_time": "2020-08-14T18:11:07.2374372Z",
              "execution_start_time": "2020-08-14T18:11:07.2773554Z",
              "execution_finish_time": "2020-08-14T18:11:09.3178213Z"
            },
            "text/plain": "StatementMeta(spark5, 0, 25, Finished, Available)"
          },
          "metadata": {}
        },
        {
          "execution_count": 23,
          "output_type": "execute_result",
          "data": {
            "text/plain": "596"
          },
          "metadata": {}
        }
      ],
      "metadata": {
        "jupyter": {
          "source_hidden": false,
          "outputs_hidden": false
        },
        "nteract": {
          "transient": {
            "deleting": false
          }
        },
        "collapsed": true
      },
      "source": [
        "conda_env = CondaDependencies.create(conda_packages = conda_packages, pip_packages = pip_packages)\r\n",
        "\r\n",
        "with open(conda_file, \"w\") as f:\r\n",
        "    f.write(conda_env.serialize_to_string())"
      ]
    },
    {
      "cell_type": "code",
      "execution_count": null,
      "outputs": [],
      "metadata": {
        "jupyter": {
          "source_hidden": false,
          "outputs_hidden": false
        },
        "nteract": {
          "transient": {
            "deleting": false
          }
        },
        "collapsed": true
      },
      "source": [
        "import os\r\n",
        "\r\n",
        "files = [f for f in os.listdir('.') if os.path.isfile(f)]\r\n",
        "\r\n",
        "for f in files:\r\n",
        "    print(f)"
      ]
    },
    {
      "cell_type": "code",
      "execution_count": 24,
      "outputs": [
        {
          "output_type": "display_data",
          "data": {
            "application/vnd.livy.statement-meta+json": {
              "spark_pool": "spark5",
              "session_id": 0,
              "statement_id": 26,
              "state": "finished",
              "livy_statement_state": "available",
              "queued_time": "2020-08-14T18:11:14.5340695Z",
              "execution_start_time": "2020-08-14T18:11:14.5710614Z",
              "execution_finish_time": "2020-08-14T18:11:16.6176982Z"
            },
            "text/plain": "StatementMeta(spark5, 0, 26, Finished, Available)"
          },
          "metadata": {}
        },
        {
          "execution_count": 24,
          "output_type": "execute_result",
          "data": {
            "text/plain": "{\n    \"databricks\": {\n        \"eggLibraries\": [],\n        \"jarLibraries\": [],\n        \"mavenLibraries\": [],\n        \"pypiLibraries\": [],\n        \"rcranLibraries\": []\n    },\n    \"docker\": {\n        \"arguments\": [],\n        \"baseDockerfile\": null,\n        \"baseImage\": \"mcr.microsoft.com/azureml/base:intelmpi2018.3-ubuntu16.04\",\n        \"baseImageRegistry\": {\n            \"address\": null,\n            \"password\": null,\n            \"registryIdentity\": null,\n            \"username\": null\n        },\n        \"enabled\": false,\n        \"sharedVolumes\": true,\n        \"shmSize\": null\n    },\n    \"environmentVariables\": {\n        \"EXAMPLE_ENV_VAR\": \"EXAMPLE_VALUE\"\n    },\n    \"inferencingStackVersion\": null,\n    \"name\": \"myenv\",\n    \"python\": {\n        \"baseCondaEnvironment\": null,\n        \"condaDependencies\": {\n            \"channels\": [\n                \"anaconda\",\n                \"conda-forge\"\n            ],\n            \"dependencies\": [\n                \"python=3.6.2\",\n                {\n                    \"pip\": [\n                        \"azureml-train-automl~=1.6.0\",\n                        \"inference-schema\"\n                    ]\n                },\n                \"numpy\",\n                \"pandas\",\n                \"scikit-learn\",\n                \"py-xgboost<=0.80\"\n            ],\n            \"name\": \"azureml_9a21a1cbec42a6eb2d074e2c479b9348\"\n        },\n        \"condaDependenciesFile\": null,\n        \"interpreterPath\": \"python\",\n        \"userManagedDependencies\": false\n    },\n    \"r\": null,\n    \"spark\": {\n        \"packages\": [],\n        \"precachePackages\": true,\n        \"repositories\": []\n    },\n    \"version\": \"1\"\n}"
          },
          "metadata": {}
        }
      ],
      "metadata": {
        "jupyter": {
          "source_hidden": false,
          "outputs_hidden": false
        },
        "nteract": {
          "transient": {
            "deleting": false
          }
        },
        "collapsed": true
      },
      "source": [
        "myenv = Environment.from_conda_specification(name = env_name, file_path = conda_file)\r\n",
        "\r\n",
        "myenv.register(workspace = ws)"
      ]
    },
    {
      "cell_type": "code",
      "execution_count": 25,
      "outputs": [
        {
          "output_type": "display_data",
          "data": {
            "application/vnd.livy.statement-meta+json": {
              "spark_pool": "spark5",
              "session_id": 0,
              "statement_id": 27,
              "state": "finished",
              "livy_statement_state": "available",
              "queued_time": "2020-08-14T18:11:17.9134141Z",
              "execution_start_time": "2020-08-14T18:11:17.950952Z",
              "execution_finish_time": "2020-08-14T18:11:19.9937494Z"
            },
            "text/plain": "StatementMeta(spark5, 0, 27, Finished, Available)"
          },
          "metadata": {}
        },
        {
          "execution_count": 25,
          "output_type": "execute_result",
          "data": {
            "text/plain": ""
          },
          "metadata": {}
        }
      ],
      "metadata": {
        "jupyter": {
          "source_hidden": false,
          "outputs_hidden": false
        },
        "nteract": {
          "transient": {
            "deleting": false
          }
        },
        "collapsed": true
      },
      "source": [
        "inference_config = InferenceConfig(entry_script = scoring_file, environment = myenv)"
      ]
    },
    {
      "cell_type": "code",
      "execution_count": 26,
      "outputs": [
        {
          "output_type": "display_data",
          "data": {
            "application/vnd.livy.statement-meta+json": {
              "spark_pool": "spark5",
              "session_id": 0,
              "statement_id": 28,
              "state": "finished",
              "livy_statement_state": "available",
              "queued_time": "2020-08-14T18:11:21.1808298Z",
              "execution_start_time": "2020-08-14T18:11:21.2179663Z",
              "execution_finish_time": "2020-08-14T18:11:23.2652244Z"
            },
            "text/plain": "StatementMeta(spark5, 0, 28, Finished, Available)"
          },
          "metadata": {}
        },
        {
          "execution_count": 26,
          "output_type": "execute_result",
          "data": {
            "text/plain": "InferenceConfig(entry_script=scoring_service.py, runtime=None, conda_file=None, extra_docker_file_steps=None, source_directory=None, enable_gpu=None, base_image=None, base_image_registry=<azureml.core.container_registry.ContainerRegistry object at 0x7fe5c4cdb9e8>)"
          },
          "metadata": {}
        }
      ],
      "metadata": {
        "jupyter": {
          "source_hidden": false,
          "outputs_hidden": false
        },
        "nteract": {
          "transient": {
            "deleting": false
          }
        },
        "collapsed": true
      },
      "source": [
        "inference_config"
      ]
    },
    {
      "cell_type": "code",
      "execution_count": 27,
      "outputs": [
        {
          "output_type": "display_data",
          "data": {
            "application/vnd.livy.statement-meta+json": {
              "spark_pool": "spark5",
              "session_id": 0,
              "statement_id": 29,
              "state": "finished",
              "livy_statement_state": "available",
              "queued_time": "2020-08-14T18:11:23.2710554Z",
              "execution_start_time": "2020-08-14T18:11:23.303693Z",
              "execution_finish_time": "2020-08-14T18:11:25.3427986Z"
            },
            "text/plain": "StatementMeta(spark5, 0, 29, Finished, Available)"
          },
          "metadata": {}
        },
        {
          "execution_count": 27,
          "output_type": "execute_result",
          "data": {
            "text/plain": ""
          },
          "metadata": {}
        }
      ],
      "metadata": {
        "jupyter": {
          "source_hidden": false,
          "outputs_hidden": false
        },
        "nteract": {
          "transient": {
            "deleting": false
          }
        },
        "collapsed": true
      },
      "source": [
        "deployment_config = AciWebservice.deploy_configuration(cpu_cores = 1, memory_gb = 1)"
      ]
    },
    {
      "cell_type": "code",
      "execution_count": 28,
      "outputs": [
        {
          "output_type": "display_data",
          "data": {
            "application/vnd.livy.statement-meta+json": {
              "spark_pool": "spark5",
              "session_id": 0,
              "statement_id": 30,
              "state": "finished",
              "livy_statement_state": "available",
              "queued_time": "2020-08-14T18:11:23.9500472Z",
              "execution_start_time": "2020-08-14T18:11:25.3775214Z",
              "execution_finish_time": "2020-08-14T18:11:27.4162555Z"
            },
            "text/plain": "StatementMeta(spark5, 0, 30, Finished, Available)"
          },
          "metadata": {}
        },
        {
          "execution_count": 28,
          "output_type": "execute_result",
          "data": {
            "text/plain": "<azureml.core.webservice.aci.AciServiceDeploymentConfiguration object at 0x7fe5c4b61b38>"
          },
          "metadata": {}
        }
      ],
      "metadata": {
        "jupyter": {
          "source_hidden": false,
          "outputs_hidden": false
        },
        "nteract": {
          "transient": {
            "deleting": false
          }
        },
        "collapsed": true
      },
      "source": [
        "deployment_config"
      ]
    },
    {
      "cell_type": "code",
      "execution_count": 29,
      "outputs": [
        {
          "output_type": "display_data",
          "data": {
            "application/vnd.livy.statement-meta+json": {
              "spark_pool": "spark5",
              "session_id": 0,
              "statement_id": 31,
              "state": "finished",
              "livy_statement_state": "available",
              "queued_time": "2020-08-14T18:11:28.1948925Z",
              "execution_start_time": "2020-08-14T18:11:28.232718Z",
              "execution_finish_time": "2020-08-14T18:11:34.3712758Z"
            },
            "text/plain": "StatementMeta(spark5, 0, 31, Finished, Available)"
          },
          "metadata": {}
        },
        {
          "execution_count": 29,
          "output_type": "execute_result",
          "data": {
            "text/plain": ""
          },
          "metadata": {}
        }
      ],
      "metadata": {
        "jupyter": {
          "source_hidden": false,
          "outputs_hidden": false
        },
        "nteract": {
          "transient": {
            "deleting": false
          }
        },
        "collapsed": true
      },
      "source": [
        "service = Model.deploy(ws, service_name, [registeredModel], inference_config, deployment_config, overwrite = True)"
      ]
    },
    {
      "cell_type": "code",
      "execution_count": 30,
      "outputs": [
        {
          "output_type": "display_data",
          "data": {
            "application/vnd.livy.statement-meta+json": {
              "spark_pool": "spark5",
              "session_id": 0,
              "statement_id": 32,
              "state": "finished",
              "livy_statement_state": "available",
              "queued_time": "2020-08-14T18:11:33.4615821Z",
              "execution_start_time": "2020-08-14T18:11:34.4054999Z",
              "execution_finish_time": "2020-08-14T18:11:56.8650157Z"
            },
            "text/plain": "StatementMeta(spark5, 0, 32, Finished, Available)"
          },
          "metadata": {}
        },
        {
          "output_type": "error",
          "ename": "WebserviceException",
          "evalue": "WebserviceException:\n\tMessage: Service deployment polling reached non-successful terminal state, current service state: Failed\nOperation ID: cb4cd878-2dbb-43a0-b794-744789b408fb\nMore information can be found using '.get_logs()'\nError:\n{\n  \"code\": \"AciDeploymentFailed\",\n  \"message\": \"Aci Deployment failed with exception: Your container application crashed. This may be caused by errors in your scoring file's init() function.\\nPlease check the logs for your container instance: aciservice-3uka6z6tqjlmi. From the AML SDK, you can run print(service.get_logs()) if you have service object to fetch the logs. \\nYou can also try to run image c8caadf618ce499d8553e7c4c4278cc2.azurecr.io/azureml/azureml_3d65de966e82d21990ac57cf225e7267 locally. Please refer to https://aka.ms/debugimage#service-launch-fails for more information.\",\n  \"details\": [\n    {\n      \"code\": \"CrashLoopBackOff\",\n      \"message\": \"Your container application crashed. This may be caused by errors in your scoring file's init() function.\\nPlease check the logs for your container instance: aciservice-3uka6z6tqjlmi. From the AML SDK, you can run print(service.get_logs()) if you have service object to fetch the logs. \\nYou can also try to run image c8caadf618ce499d8553e7c4c4278cc2.azurecr.io/azureml/azureml_3d65de966e82d21990ac57cf225e7267 locally. Please refer to https://aka.ms/debugimage#service-launch-fails for more information.\"\n    },\n    {\n      \"code\": \"AciDeploymentFailed\",\n      \"message\": \"Your container application crashed. Please follow the steps to debug:\\n1. From the AML SDK, you can run print(service.get_logs()) if you have service object to fetch the logs. Please refer to https://aka.ms/debugimage#dockerlog for more information.\\n2. If your container application crashed. This may be caused by errors in your scoring file's init() function. You can try debugging locally first. Please refer to https://aka.ms/debugimage#debug-locally for more information.\\n3. View the diagnostic events to check status of container, it may help you to debug the issue. {\\\"restartCount\\\":1,\\\"currentState\\\":{\\\"state\\\":\\\"Waiting\\\",\\\"startTime\\\":null,\\\"exitCode\\\":null,\\\"finishTime\\\":null,\\\"detailStatus\\\":\\\"CrashLoopBackOff: Back-off 10s restarting failed\\\"},\\\"previousState\\\":{\\\"state\\\":\\\"Terminated\\\",\\\"startTime\\\":\\\"2020-08-14T18:11:43Z\\\",\\\"exitCode\\\":111,\\\"finishTime\\\":\\\"2020-08-14T18:11:44Z\\\",\\\"detailStatus\\\":\\\"Error\\\"},\\\"events\\\":[{\\\"count\\\":2,\\\"firstTimestamp\\\":\\\"2020-08-14T18:11:41Z\\\",\\\"lastTimestamp\\\":\\\"2020-08-14T18:11:42Z\\\",\\\"name\\\":\\\"Pulling\\\",\\\"message\\\":\\\"pulling image \\\\\\\"c8caadf618ce499d8553e7c4c4278cc2.azurecr.io/azureml/azureml_3d65de966e82d21990ac57cf225e7267\\\\\\\"\\\",\\\"type\\\":\\\"Normal\\\"},{\\\"count\\\":2,\\\"firstTimestamp\\\":\\\"2020-08-14T18:11:41Z\\\",\\\"lastTimestamp\\\":\\\"2020-08-14T18:11:43Z\\\",\\\"name\\\":\\\"Pulled\\\",\\\"message\\\":\\\"Successfully pulled image \\\\\\\"c8caadf618ce499d8553e7c4c4278cc2.azurecr.io/azureml/azureml_3d65de966e82d21990ac57cf225e7267\\\\\\\"\\\",\\\"type\\\":\\\"Normal\\\"},{\\\"count\\\":2,\\\"firstTimestamp\\\":\\\"2020-08-14T18:11:41Z\\\",\\\"lastTimestamp\\\":\\\"2020-08-14T18:11:43Z\\\",\\\"name\\\":\\\"Created\\\",\\\"message\\\":\\\"Created container\\\",\\\"type\\\":\\\"Normal\\\"},{\\\"count\\\":2,\\\"firstTimestamp\\\":\\\"2020-08-14T18:11:41Z\\\",\\\"lastTimestamp\\\":\\\"2020-08-14T18:11:43Z\\\",\\\"name\\\":\\\"Started\\\",\\\"message\\\":\\\"Started container\\\",\\\"type\\\":\\\"Normal\\\"},{\\\"count\\\":2,\\\"firstTimestamp\\\":\\\"2020-08-14T18:11:45Z\\\",\\\"lastTimestamp\\\":\\\"2020-08-14T18:11:46Z\\\",\\\"name\\\":\\\"BackOff\\\",\\\"message\\\":\\\"Back-off restarting failed container\\\",\\\"type\\\":\\\"Warning\\\"}]}\"\n    }\n  ]\n}\n\tInnerException None\n\tErrorResponse \n{\n    \"error\": {\n        \"message\": \"Service deployment polling reached non-successful terminal state, current service state: Failed\\nOperation ID: cb4cd878-2dbb-43a0-b794-744789b408fb\\nMore information can be found using '.get_logs()'\\nError:\\n{\\n  \\\"code\\\": \\\"AciDeploymentFailed\\\",\\n  \\\"message\\\": \\\"Aci Deployment failed with exception: Your container application crashed. This may be caused by errors in your scoring file's init() function.\\\\nPlease check the logs for your container instance: aciservice-3uka6z6tqjlmi. From the AML SDK, you can run print(service.get_logs()) if you have service object to fetch the logs. \\\\nYou can also try to run image c8caadf618ce499d8553e7c4c4278cc2.azurecr.io/azureml/azureml_3d65de966e82d21990ac57cf225e7267 locally. Please refer to https://aka.ms/debugimage#service-launch-fails for more information.\\\",\\n  \\\"details\\\": [\\n    {\\n      \\\"code\\\": \\\"CrashLoopBackOff\\\",\\n      \\\"message\\\": \\\"Your container application crashed. This may be caused by errors in your scoring file's init() function.\\\\nPlease check the logs for your container instance: aciservice-3uka6z6tqjlmi. From the AML SDK, you can run print(service.get_logs()) if you have service object to fetch the logs. \\\\nYou can also try to run image c8caadf618ce499d8553e7c4c4278cc2.azurecr.io/azureml/azureml_3d65de966e82d21990ac57cf225e7267 locally. Please refer to https://aka.ms/debugimage#service-launch-fails for more information.\\\"\\n    },\\n    {\\n      \\\"code\\\": \\\"AciDeploymentFailed\\\",\\n      \\\"message\\\": \\\"Your container application crashed. Please follow the steps to debug:\\\\n1. From the AML SDK, you can run print(service.get_logs()) if you have service object to fetch the logs. Please refer to https://aka.ms/debugimage#dockerlog for more information.\\\\n2. If your container application crashed. This may be caused by errors in your scoring file's init() function. You can try debugging locally first. Please refer to https://aka.ms/debugimage#debug-locally for more information.\\\\n3. View the diagnostic events to check status of container, it may help you to debug the issue. {\\\\\\\"restartCount\\\\\\\":1,\\\\\\\"currentState\\\\\\\":{\\\\\\\"state\\\\\\\":\\\\\\\"Waiting\\\\\\\",\\\\\\\"startTime\\\\\\\":null,\\\\\\\"exitCode\\\\\\\":null,\\\\\\\"finishTime\\\\\\\":null,\\\\\\\"detailStatus\\\\\\\":\\\\\\\"CrashLoopBackOff: Back-off 10s restarting failed\\\\\\\"},\\\\\\\"previousState\\\\\\\":{\\\\\\\"state\\\\\\\":\\\\\\\"Terminated\\\\\\\",\\\\\\\"startTime\\\\\\\":\\\\\\\"2020-08-14T18:11:43Z\\\\\\\",\\\\\\\"exitCode\\\\\\\":111,\\\\\\\"finishTime\\\\\\\":\\\\\\\"2020-08-14T18:11:44Z\\\\\\\",\\\\\\\"detailStatus\\\\\\\":\\\\\\\"Error\\\\\\\"},\\\\\\\"events\\\\\\\":[{\\\\\\\"count\\\\\\\":2,\\\\\\\"firstTimestamp\\\\\\\":\\\\\\\"2020-08-14T18:11:41Z\\\\\\\",\\\\\\\"lastTimestamp\\\\\\\":\\\\\\\"2020-08-14T18:11:42Z\\\\\\\",\\\\\\\"name\\\\\\\":\\\\\\\"Pulling\\\\\\\",\\\\\\\"message\\\\\\\":\\\\\\\"pulling image \\\\\\\\\\\\\\\"c8caadf618ce499d8553e7c4c4278cc2.azurecr.io/azureml/azureml_3d65de966e82d21990ac57cf225e7267\\\\\\\\\\\\\\\"\\\\\\\",\\\\\\\"type\\\\\\\":\\\\\\\"Normal\\\\\\\"},{\\\\\\\"count\\\\\\\":2,\\\\\\\"firstTimestamp\\\\\\\":\\\\\\\"2020-08-14T18:11:41Z\\\\\\\",\\\\\\\"lastTimestamp\\\\\\\":\\\\\\\"2020-08-14T18:11:43Z\\\\\\\",\\\\\\\"name\\\\\\\":\\\\\\\"Pulled\\\\\\\",\\\\\\\"message\\\\\\\":\\\\\\\"Successfully pulled image \\\\\\\\\\\\\\\"c8caadf618ce499d8553e7c4c4278cc2.azurecr.io/azureml/azureml_3d65de966e82d21990ac57cf225e7267\\\\\\\\\\\\\\\"\\\\\\\",\\\\\\\"type\\\\\\\":\\\\\\\"Normal\\\\\\\"},{\\\\\\\"count\\\\\\\":2,\\\\\\\"firstTimestamp\\\\\\\":\\\\\\\"2020-08-14T18:11:41Z\\\\\\\",\\\\\\\"lastTimestamp\\\\\\\":\\\\\\\"2020-08-14T18:11:43Z\\\\\\\",\\\\\\\"name\\\\\\\":\\\\\\\"Created\\\\\\\",\\\\\\\"message\\\\\\\":\\\\\\\"Created container\\\\\\\",\\\\\\\"type\\\\\\\":\\\\\\\"Normal\\\\\\\"},{\\\\\\\"count\\\\\\\":2,\\\\\\\"firstTimestamp\\\\\\\":\\\\\\\"2020-08-14T18:11:41Z\\\\\\\",\\\\\\\"lastTimestamp\\\\\\\":\\\\\\\"2020-08-14T18:11:43Z\\\\\\\",\\\\\\\"name\\\\\\\":\\\\\\\"Started\\\\\\\",\\\\\\\"message\\\\\\\":\\\\\\\"Started container\\\\\\\",\\\\\\\"type\\\\\\\":\\\\\\\"Normal\\\\\\\"},{\\\\\\\"count\\\\\\\":2,\\\\\\\"firstTimestamp\\\\\\\":\\\\\\\"2020-08-14T18:11:45Z\\\\\\\",\\\\\\\"lastTimestamp\\\\\\\":\\\\\\\"2020-08-14T18:11:46Z\\\\\\\",\\\\\\\"name\\\\\\\":\\\\\\\"BackOff\\\\\\\",\\\\\\\"message\\\\\\\":\\\\\\\"Back-off restarting failed container\\\\\\\",\\\\\\\"type\\\\\\\":\\\\\\\"Warning\\\\\\\"}]}\\\"\\n    }\\n  ]\\n}\"\n    }\n}",
          "traceback": [
            "WebserviceException: WebserviceException:\n\tMessage: Service deployment polling reached non-successful terminal state, current service state: Failed\nOperation ID: cb4cd878-2dbb-43a0-b794-744789b408fb\nMore information can be found using '.get_logs()'\nError:\n{\n  \"code\": \"AciDeploymentFailed\",\n  \"message\": \"Aci Deployment failed with exception: Your container application crashed. This may be caused by errors in your scoring file's init() function.\\nPlease check the logs for your container instance: aciservice-3uka6z6tqjlmi. From the AML SDK, you can run print(service.get_logs()) if you have service object to fetch the logs. \\nYou can also try to run image c8caadf618ce499d8553e7c4c4278cc2.azurecr.io/azureml/azureml_3d65de966e82d21990ac57cf225e7267 locally. Please refer to https://aka.ms/debugimage#service-launch-fails for more information.\",\n  \"details\": [\n    {\n      \"code\": \"CrashLoopBackOff\",\n      \"message\": \"Your container application crashed. This may be caused by errors in your scoring file's init() function.\\nPlease check the logs for your container instance: aciservice-3uka6z6tqjlmi. From the AML SDK, you can run print(service.get_logs()) if you have service object to fetch the logs. \\nYou can also try to run image c8caadf618ce499d8553e7c4c4278cc2.azurecr.io/azureml/azureml_3d65de966e82d21990ac57cf225e7267 locally. Please refer to https://aka.ms/debugimage#service-launch-fails for more information.\"\n    },\n    {\n      \"code\": \"AciDeploymentFailed\",\n      \"message\": \"Your container application crashed. Please follow the steps to debug:\\n1. From the AML SDK, you can run print(service.get_logs()) if you have service object to fetch the logs. Please refer to https://aka.ms/debugimage#dockerlog for more information.\\n2. If your container application crashed. This may be caused by errors in your scoring file's init() function. You can try debugging locally first. Please refer to https://aka.ms/debugimage#debug-locally for more information.\\n3. View the diagnostic events to check status of container, it may help you to debug the issue. {\\\"restartCount\\\":1,\\\"currentState\\\":{\\\"state\\\":\\\"Waiting\\\",\\\"startTime\\\":null,\\\"exitCode\\\":null,\\\"finishTime\\\":null,\\\"detailStatus\\\":\\\"CrashLoopBackOff: Back-off 10s restarting failed\\\"},\\\"previousState\\\":{\\\"state\\\":\\\"Terminated\\\",\\\"startTime\\\":\\\"2020-08-14T18:11:43Z\\\",\\\"exitCode\\\":111,\\\"finishTime\\\":\\\"2020-08-14T18:11:44Z\\\",\\\"detailStatus\\\":\\\"Error\\\"},\\\"events\\\":[{\\\"count\\\":2,\\\"firstTimestamp\\\":\\\"2020-08-14T18:11:41Z\\\",\\\"lastTimestamp\\\":\\\"2020-08-14T18:11:42Z\\\",\\\"name\\\":\\\"Pulling\\\",\\\"message\\\":\\\"pulling image \\\\\\\"c8caadf618ce499d8553e7c4c4278cc2.azurecr.io/azureml/azureml_3d65de966e82d21990ac57cf225e7267\\\\\\\"\\\",\\\"type\\\":\\\"Normal\\\"},{\\\"count\\\":2,\\\"firstTimestamp\\\":\\\"2020-08-14T18:11:41Z\\\",\\\"lastTimestamp\\\":\\\"2020-08-14T18:11:43Z\\\",\\\"name\\\":\\\"Pulled\\\",\\\"message\\\":\\\"Successfully pulled image \\\\\\\"c8caadf618ce499d8553e7c4c4278cc2.azurecr.io/azureml/azureml_3d65de966e82d21990ac57cf225e7267\\\\\\\"\\\",\\\"type\\\":\\\"Normal\\\"},{\\\"count\\\":2,\\\"firstTimestamp\\\":\\\"2020-08-14T18:11:41Z\\\",\\\"lastTimestamp\\\":\\\"2020-08-14T18:11:43Z\\\",\\\"name\\\":\\\"Created\\\",\\\"message\\\":\\\"Created container\\\",\\\"type\\\":\\\"Normal\\\"},{\\\"count\\\":2,\\\"firstTimestamp\\\":\\\"2020-08-14T18:11:41Z\\\",\\\"lastTimestamp\\\":\\\"2020-08-14T18:11:43Z\\\",\\\"name\\\":\\\"Started\\\",\\\"message\\\":\\\"Started container\\\",\\\"type\\\":\\\"Normal\\\"},{\\\"count\\\":2,\\\"firstTimestamp\\\":\\\"2020-08-14T18:11:45Z\\\",\\\"lastTimestamp\\\":\\\"2020-08-14T18:11:46Z\\\",\\\"name\\\":\\\"BackOff\\\",\\\"message\\\":\\\"Back-off restarting failed container\\\",\\\"type\\\":\\\"Warning\\\"}]}\"\n    }\n  ]\n}\n\tInnerException None\n\tErrorResponse \n{\n    \"error\": {\n        \"message\": \"Service deployment polling reached non-successful terminal state, current service state: Failed\\nOperation ID: cb4cd878-2dbb-43a0-b794-744789b408fb\\nMore information can be found using '.get_logs()'\\nError:\\n{\\n  \\\"code\\\": \\\"AciDeploymentFailed\\\",\\n  \\\"message\\\": \\\"Aci Deployment failed with exception: Your container application crashed. This may be caused by errors in your scoring file's init() function.\\\\nPlease check the logs for your container instance: aciservice-3uka6z6tqjlmi. From the AML SDK, you can run print(service.get_logs()) if you have service object to fetch the logs. \\\\nYou can also try to run image c8caadf618ce499d8553e7c4c4278cc2.azurecr.io/azureml/azureml_3d65de966e82d21990ac57cf225e7267 locally. Please refer to https://aka.ms/debugimage#service-launch-fails for more information.\\\",\\n  \\\"details\\\": [\\n    {\\n      \\\"code\\\": \\\"CrashLoopBackOff\\\",\\n      \\\"message\\\": \\\"Your container application crashed. This may be caused by errors in your scoring file's init() function.\\\\nPlease check the logs for your container instance: aciservice-3uka6z6tqjlmi. From the AML SDK, you can run print(service.get_logs()) if you have service object to fetch the logs. \\\\nYou can also try to run image c8caadf618ce499d8553e7c4c4278cc2.azurecr.io/azureml/azureml_3d65de966e82d21990ac57cf225e7267 locally. Please refer to https://aka.ms/debugimage#service-launch-fails for more information.\\\"\\n    },\\n    {\\n      \\\"code\\\": \\\"AciDeploymentFailed\\\",\\n      \\\"message\\\": \\\"Your container application crashed. Please follow the steps to debug:\\\\n1. From the AML SDK, you can run print(service.get_logs()) if you have service object to fetch the logs. Please refer to https://aka.ms/debugimage#dockerlog for more information.\\\\n2. If your container application crashed. This may be caused by errors in your scoring file's init() function. You can try debugging locally first. Please refer to https://aka.ms/debugimage#debug-locally for more information.\\\\n3. View the diagnostic events to check status of container, it may help you to debug the issue. {\\\\\\\"restartCount\\\\\\\":1,\\\\\\\"currentState\\\\\\\":{\\\\\\\"state\\\\\\\":\\\\\\\"Waiting\\\\\\\",\\\\\\\"startTime\\\\\\\":null,\\\\\\\"exitCode\\\\\\\":null,\\\\\\\"finishTime\\\\\\\":null,\\\\\\\"detailStatus\\\\\\\":\\\\\\\"CrashLoopBackOff: Back-off 10s restarting failed\\\\\\\"},\\\\\\\"previousState\\\\\\\":{\\\\\\\"state\\\\\\\":\\\\\\\"Terminated\\\\\\\",\\\\\\\"startTime\\\\\\\":\\\\\\\"2020-08-14T18:11:43Z\\\\\\\",\\\\\\\"exitCode\\\\\\\":111,\\\\\\\"finishTime\\\\\\\":\\\\\\\"2020-08-14T18:11:44Z\\\\\\\",\\\\\\\"detailStatus\\\\\\\":\\\\\\\"Error\\\\\\\"},\\\\\\\"events\\\\\\\":[{\\\\\\\"count\\\\\\\":2,\\\\\\\"firstTimestamp\\\\\\\":\\\\\\\"2020-08-14T18:11:41Z\\\\\\\",\\\\\\\"lastTimestamp\\\\\\\":\\\\\\\"2020-08-14T18:11:42Z\\\\\\\",\\\\\\\"name\\\\\\\":\\\\\\\"Pulling\\\\\\\",\\\\\\\"message\\\\\\\":\\\\\\\"pulling image \\\\\\\\\\\\\\\"c8caadf618ce499d8553e7c4c4278cc2.azurecr.io/azureml/azureml_3d65de966e82d21990ac57cf225e7267\\\\\\\\\\\\\\\"\\\\\\\",\\\\\\\"type\\\\\\\":\\\\\\\"Normal\\\\\\\"},{\\\\\\\"count\\\\\\\":2,\\\\\\\"firstTimestamp\\\\\\\":\\\\\\\"2020-08-14T18:11:41Z\\\\\\\",\\\\\\\"lastTimestamp\\\\\\\":\\\\\\\"2020-08-14T18:11:43Z\\\\\\\",\\\\\\\"name\\\\\\\":\\\\\\\"Pulled\\\\\\\",\\\\\\\"message\\\\\\\":\\\\\\\"Successfully pulled image \\\\\\\\\\\\\\\"c8caadf618ce499d8553e7c4c4278cc2.azurecr.io/azureml/azureml_3d65de966e82d21990ac57cf225e7267\\\\\\\\\\\\\\\"\\\\\\\",\\\\\\\"type\\\\\\\":\\\\\\\"Normal\\\\\\\"},{\\\\\\\"count\\\\\\\":2,\\\\\\\"firstTimestamp\\\\\\\":\\\\\\\"2020-08-14T18:11:41Z\\\\\\\",\\\\\\\"lastTimestamp\\\\\\\":\\\\\\\"2020-08-14T18:11:43Z\\\\\\\",\\\\\\\"name\\\\\\\":\\\\\\\"Created\\\\\\\",\\\\\\\"message\\\\\\\":\\\\\\\"Created container\\\\\\\",\\\\\\\"type\\\\\\\":\\\\\\\"Normal\\\\\\\"},{\\\\\\\"count\\\\\\\":2,\\\\\\\"firstTimestamp\\\\\\\":\\\\\\\"2020-08-14T18:11:41Z\\\\\\\",\\\\\\\"lastTimestamp\\\\\\\":\\\\\\\"2020-08-14T18:11:43Z\\\\\\\",\\\\\\\"name\\\\\\\":\\\\\\\"Started\\\\\\\",\\\\\\\"message\\\\\\\":\\\\\\\"Started container\\\\\\\",\\\\\\\"type\\\\\\\":\\\\\\\"Normal\\\\\\\"},{\\\\\\\"count\\\\\\\":2,\\\\\\\"firstTimestamp\\\\\\\":\\\\\\\"2020-08-14T18:11:45Z\\\\\\\",\\\\\\\"lastTimestamp\\\\\\\":\\\\\\\"2020-08-14T18:11:46Z\\\\\\\",\\\\\\\"name\\\\\\\":\\\\\\\"BackOff\\\\\\\",\\\\\\\"message\\\\\\\":\\\\\\\"Back-off restarting failed container\\\\\\\",\\\\\\\"type\\\\\\\":\\\\\\\"Warning\\\\\\\"}]}\\\"\\n    }\\n  ]\\n}\"\n    }\n}",
            "Traceback (most recent call last):\n",
            "  File \"/home/trusted-service-user/cluster-env/env/lib/python3.6/site-packages/azureml/core/webservice/webservice.py\", line 686, in wait_for_deployment\n    raise WebserviceException(e.message, logger=module_logger)\n",
            "azureml.exceptions._azureml_exception.WebserviceException: WebserviceException:\n\tMessage: Service deployment polling reached non-successful terminal state, current service state: Failed\nOperation ID: cb4cd878-2dbb-43a0-b794-744789b408fb\nMore information can be found using '.get_logs()'\nError:\n{\n  \"code\": \"AciDeploymentFailed\",\n  \"message\": \"Aci Deployment failed with exception: Your container application crashed. This may be caused by errors in your scoring file's init() function.\\nPlease check the logs for your container instance: aciservice-3uka6z6tqjlmi. From the AML SDK, you can run print(service.get_logs()) if you have service object to fetch the logs. \\nYou can also try to run image c8caadf618ce499d8553e7c4c4278cc2.azurecr.io/azureml/azureml_3d65de966e82d21990ac57cf225e7267 locally. Please refer to https://aka.ms/debugimage#service-launch-fails for more information.\",\n  \"details\": [\n    {\n      \"code\": \"CrashLoopBackOff\",\n      \"message\": \"Your container application crashed. This may be caused by errors in your scoring file's init() function.\\nPlease check the logs for your container instance: aciservice-3uka6z6tqjlmi. From the AML SDK, you can run print(service.get_logs()) if you have service object to fetch the logs. \\nYou can also try to run image c8caadf618ce499d8553e7c4c4278cc2.azurecr.io/azureml/azureml_3d65de966e82d21990ac57cf225e7267 locally. Please refer to https://aka.ms/debugimage#service-launch-fails for more information.\"\n    },\n    {\n      \"code\": \"AciDeploymentFailed\",\n      \"message\": \"Your container application crashed. Please follow the steps to debug:\\n1. From the AML SDK, you can run print(service.get_logs()) if you have service object to fetch the logs. Please refer to https://aka.ms/debugimage#dockerlog for more information.\\n2. If your container application crashed. This may be caused by errors in your scoring file's init() function. You can try debugging locally first. Please refer to https://aka.ms/debugimage#debug-locally for more information.\\n3. View the diagnostic events to check status of container, it may help you to debug the issue. {\\\"restartCount\\\":1,\\\"currentState\\\":{\\\"state\\\":\\\"Waiting\\\",\\\"startTime\\\":null,\\\"exitCode\\\":null,\\\"finishTime\\\":null,\\\"detailStatus\\\":\\\"CrashLoopBackOff: Back-off 10s restarting failed\\\"},\\\"previousState\\\":{\\\"state\\\":\\\"Terminated\\\",\\\"startTime\\\":\\\"2020-08-14T18:11:43Z\\\",\\\"exitCode\\\":111,\\\"finishTime\\\":\\\"2020-08-14T18:11:44Z\\\",\\\"detailStatus\\\":\\\"Error\\\"},\\\"events\\\":[{\\\"count\\\":2,\\\"firstTimestamp\\\":\\\"2020-08-14T18:11:41Z\\\",\\\"lastTimestamp\\\":\\\"2020-08-14T18:11:42Z\\\",\\\"name\\\":\\\"Pulling\\\",\\\"message\\\":\\\"pulling image \\\\\\\"c8caadf618ce499d8553e7c4c4278cc2.azurecr.io/azureml/azureml_3d65de966e82d21990ac57cf225e7267\\\\\\\"\\\",\\\"type\\\":\\\"Normal\\\"},{\\\"count\\\":2,\\\"firstTimestamp\\\":\\\"2020-08-14T18:11:41Z\\\",\\\"lastTimestamp\\\":\\\"2020-08-14T18:11:43Z\\\",\\\"name\\\":\\\"Pulled\\\",\\\"message\\\":\\\"Successfully pulled image \\\\\\\"c8caadf618ce499d8553e7c4c4278cc2.azurecr.io/azureml/azureml_3d65de966e82d21990ac57cf225e7267\\\\\\\"\\\",\\\"type\\\":\\\"Normal\\\"},{\\\"count\\\":2,\\\"firstTimestamp\\\":\\\"2020-08-14T18:11:41Z\\\",\\\"lastTimestamp\\\":\\\"2020-08-14T18:11:43Z\\\",\\\"name\\\":\\\"Created\\\",\\\"message\\\":\\\"Created container\\\",\\\"type\\\":\\\"Normal\\\"},{\\\"count\\\":2,\\\"firstTimestamp\\\":\\\"2020-08-14T18:11:41Z\\\",\\\"lastTimestamp\\\":\\\"2020-08-14T18:11:43Z\\\",\\\"name\\\":\\\"Started\\\",\\\"message\\\":\\\"Started container\\\",\\\"type\\\":\\\"Normal\\\"},{\\\"count\\\":2,\\\"firstTimestamp\\\":\\\"2020-08-14T18:11:45Z\\\",\\\"lastTimestamp\\\":\\\"2020-08-14T18:11:46Z\\\",\\\"name\\\":\\\"BackOff\\\",\\\"message\\\":\\\"Back-off restarting failed container\\\",\\\"type\\\":\\\"Warning\\\"}]}\"\n    }\n  ]\n}\n\tInnerException None\n\tErrorResponse \n{\n    \"error\": {\n        \"message\": \"Service deployment polling reached non-successful terminal state, current service state: Failed\\nOperation ID: cb4cd878-2dbb-43a0-b794-744789b408fb\\nMore information can be found using '.get_logs()'\\nError:\\n{\\n  \\\"code\\\": \\\"AciDeploymentFailed\\\",\\n  \\\"message\\\": \\\"Aci Deployment failed with exception: Your container application crashed. This may be caused by errors in your scoring file's init() function.\\\\nPlease check the logs for your container instance: aciservice-3uka6z6tqjlmi. From the AML SDK, you can run print(service.get_logs()) if you have service object to fetch the logs. \\\\nYou can also try to run image c8caadf618ce499d8553e7c4c4278cc2.azurecr.io/azureml/azureml_3d65de966e82d21990ac57cf225e7267 locally. Please refer to https://aka.ms/debugimage#service-launch-fails for more information.\\\",\\n  \\\"details\\\": [\\n    {\\n      \\\"code\\\": \\\"CrashLoopBackOff\\\",\\n      \\\"message\\\": \\\"Your container application crashed. This may be caused by errors in your scoring file's init() function.\\\\nPlease check the logs for your container instance: aciservice-3uka6z6tqjlmi. From the AML SDK, you can run print(service.get_logs()) if you have service object to fetch the logs. \\\\nYou can also try to run image c8caadf618ce499d8553e7c4c4278cc2.azurecr.io/azureml/azureml_3d65de966e82d21990ac57cf225e7267 locally. Please refer to https://aka.ms/debugimage#service-launch-fails for more information.\\\"\\n    },\\n    {\\n      \\\"code\\\": \\\"AciDeploymentFailed\\\",\\n      \\\"message\\\": \\\"Your container application crashed. Please follow the steps to debug:\\\\n1. From the AML SDK, you can run print(service.get_logs()) if you have service object to fetch the logs. Please refer to https://aka.ms/debugimage#dockerlog for more information.\\\\n2. If your container application crashed. This may be caused by errors in your scoring file's init() function. You can try debugging locally first. Please refer to https://aka.ms/debugimage#debug-locally for more information.\\\\n3. View the diagnostic events to check status of container, it may help you to debug the issue. {\\\\\\\"restartCount\\\\\\\":1,\\\\\\\"currentState\\\\\\\":{\\\\\\\"state\\\\\\\":\\\\\\\"Waiting\\\\\\\",\\\\\\\"startTime\\\\\\\":null,\\\\\\\"exitCode\\\\\\\":null,\\\\\\\"finishTime\\\\\\\":null,\\\\\\\"detailStatus\\\\\\\":\\\\\\\"CrashLoopBackOff: Back-off 10s restarting failed\\\\\\\"},\\\\\\\"previousState\\\\\\\":{\\\\\\\"state\\\\\\\":\\\\\\\"Terminated\\\\\\\",\\\\\\\"startTime\\\\\\\":\\\\\\\"2020-08-14T18:11:43Z\\\\\\\",\\\\\\\"exitCode\\\\\\\":111,\\\\\\\"finishTime\\\\\\\":\\\\\\\"2020-08-14T18:11:44Z\\\\\\\",\\\\\\\"detailStatus\\\\\\\":\\\\\\\"Error\\\\\\\"},\\\\\\\"events\\\\\\\":[{\\\\\\\"count\\\\\\\":2,\\\\\\\"firstTimestamp\\\\\\\":\\\\\\\"2020-08-14T18:11:41Z\\\\\\\",\\\\\\\"lastTimestamp\\\\\\\":\\\\\\\"2020-08-14T18:11:42Z\\\\\\\",\\\\\\\"name\\\\\\\":\\\\\\\"Pulling\\\\\\\",\\\\\\\"message\\\\\\\":\\\\\\\"pulling image \\\\\\\\\\\\\\\"c8caadf618ce499d8553e7c4c4278cc2.azurecr.io/azureml/azureml_3d65de966e82d21990ac57cf225e7267\\\\\\\\\\\\\\\"\\\\\\\",\\\\\\\"type\\\\\\\":\\\\\\\"Normal\\\\\\\"},{\\\\\\\"count\\\\\\\":2,\\\\\\\"firstTimestamp\\\\\\\":\\\\\\\"2020-08-14T18:11:41Z\\\\\\\",\\\\\\\"lastTimestamp\\\\\\\":\\\\\\\"2020-08-14T18:11:43Z\\\\\\\",\\\\\\\"name\\\\\\\":\\\\\\\"Pulled\\\\\\\",\\\\\\\"message\\\\\\\":\\\\\\\"Successfully pulled image \\\\\\\\\\\\\\\"c8caadf618ce499d8553e7c4c4278cc2.azurecr.io/azureml/azureml_3d65de966e82d21990ac57cf225e7267\\\\\\\\\\\\\\\"\\\\\\\",\\\\\\\"type\\\\\\\":\\\\\\\"Normal\\\\\\\"},{\\\\\\\"count\\\\\\\":2,\\\\\\\"firstTimestamp\\\\\\\":\\\\\\\"2020-08-14T18:11:41Z\\\\\\\",\\\\\\\"lastTimestamp\\\\\\\":\\\\\\\"2020-08-14T18:11:43Z\\\\\\\",\\\\\\\"name\\\\\\\":\\\\\\\"Created\\\\\\\",\\\\\\\"message\\\\\\\":\\\\\\\"Created container\\\\\\\",\\\\\\\"type\\\\\\\":\\\\\\\"Normal\\\\\\\"},{\\\\\\\"count\\\\\\\":2,\\\\\\\"firstTimestamp\\\\\\\":\\\\\\\"2020-08-14T18:11:41Z\\\\\\\",\\\\\\\"lastTimestamp\\\\\\\":\\\\\\\"2020-08-14T18:11:43Z\\\\\\\",\\\\\\\"name\\\\\\\":\\\\\\\"Started\\\\\\\",\\\\\\\"message\\\\\\\":\\\\\\\"Started container\\\\\\\",\\\\\\\"type\\\\\\\":\\\\\\\"Normal\\\\\\\"},{\\\\\\\"count\\\\\\\":2,\\\\\\\"firstTimestamp\\\\\\\":\\\\\\\"2020-08-14T18:11:45Z\\\\\\\",\\\\\\\"lastTimestamp\\\\\\\":\\\\\\\"2020-08-14T18:11:46Z\\\\\\\",\\\\\\\"name\\\\\\\":\\\\\\\"BackOff\\\\\\\",\\\\\\\"message\\\\\\\":\\\\\\\"Back-off restarting failed container\\\\\\\",\\\\\\\"type\\\\\\\":\\\\\\\"Warning\\\\\\\"}]}\\\"\\n    }\\n  ]\\n}\"\n    }\n}\n"
          ]
        }
      ],
      "metadata": {
        "jupyter": {
          "source_hidden": false,
          "outputs_hidden": false
        },
        "nteract": {
          "transient": {
            "deleting": false
          }
        },
        "collapsed": true
      },
      "source": [
        "service.wait_for_deployment(show_output = True)\r\n",
        "\r\n",
        "print(service.state)"
      ]
    },
    {
      "cell_type": "code",
      "execution_count": null,
      "outputs": [
        {
          "output_type": "display_data",
          "data": {
            "application/vnd.livy.statement-meta+json": {
              "spark_pool": null,
              "session_id": null,
              "statement_id": null,
              "state": "waiting",
              "livy_statement_state": null,
              "queued_time": "2020-08-14T20:20:29.5249781Z",
              "execution_start_time": null,
              "execution_finish_time": null
            },
            "text/plain": "StatementMeta(, , , Waiting, )"
          },
          "metadata": {}
        }
      ],
      "metadata": {
        "jupyter": {
          "source_hidden": false,
          "outputs_hidden": false
        },
        "nteract": {
          "transient": {
            "deleting": false
          }
        },
        "collapsed": true
      },
      "source": [
        "print(service.get_logs())"
      ]
    },
    {
      "cell_type": "code",
      "execution_count": null,
      "outputs": [],
      "metadata": {
        "jupyter": {
          "source_hidden": false,
          "outputs_hidden": false
        },
        "nteract": {
          "transient": {
            "deleting": false
          }
        },
        "collapsed": true
      },
      "source": [
        ""
      ]
    }
  ]
}