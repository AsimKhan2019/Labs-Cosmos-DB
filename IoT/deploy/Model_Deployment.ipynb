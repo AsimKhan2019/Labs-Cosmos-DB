{
  "metadata": {
    "kernelspec": {
      "name": "synapse_pyspark",
      "display_name": "Synapse PySpark"
    },
    "language_info": {
      "name": "python"
    },
    "sessionKeepAliveTimeout": 30
  },
  "nbformat": 4,
  "nbformat_minor": 2,
  "cells": [
    {
      "cell_type": "code",
      "execution_count": 2,
      "outputs": [
        {
          "output_type": "display_data",
          "data": {
            "application/vnd.livy.statement-meta+json": {
              "spark_pool": "spark8",
              "session_id": 1,
              "statement_id": 4,
              "state": "finished",
              "livy_statement_state": "available",
              "queued_time": "2020-08-17T22:56:14.386538Z",
              "execution_start_time": "2020-08-17T22:57:10.2171942Z",
              "execution_finish_time": "2020-08-17T22:57:12.2578646Z"
            },
            "text/plain": "StatementMeta(spark8, 1, 4, Finished, Available)"
          },
          "metadata": {}
        },
        {
          "execution_count": 2,
          "output_type": "execute_result",
          "data": {
            "text/plain": ""
          },
          "metadata": {}
        }
      ],
      "metadata": {
        "jupyter": {
          "source_hidden": false,
          "outputs_hidden": false
        },
        "nteract": {
          "transient": {
            "deleting": false
          }
        },
        "collapsed": true
      },
      "source": [
        "import azureml\r\n",
        "\r\n",
        "from azureml.core import Run\r\n",
        "from azureml.core import Workspace\r\n",
        "\r\n",
        "from azureml.core.conda_dependencies import CondaDependencies\r\n",
        "\r\n",
        "from azureml.core.environment import Environment\r\n",
        "\r\n",
        "from azureml.core.experiment import Experiment\r\n",
        "\r\n",
        "from azureml.core.image import Image\r\n",
        "\r\n",
        "from azureml.core.model import InferenceConfig\r\n",
        "from azureml.core.model import Model\r\n",
        "\r\n",
        "from azureml.core.run import Run\r\n",
        "\r\n",
        "from azureml.core.webservice import AciWebservice, Webservice"
      ]
    },
    {
      "cell_type": "code",
      "execution_count": 3,
      "outputs": [
        {
          "output_type": "display_data",
          "data": {
            "application/vnd.livy.statement-meta+json": {
              "spark_pool": "spark8",
              "session_id": 1,
              "statement_id": 5,
              "state": "submitted",
              "livy_statement_state": "available",
              "queued_time": "2020-08-17T22:56:14.6428076Z",
              "execution_start_time": "2020-08-17T22:57:12.2958561Z",
              "execution_finish_time": null
            },
            "text/plain": "StatementMeta(spark8, 1, 5, Submitted, Available)"
          },
          "metadata": {}
        },
        {
          "output_type": "error",
          "ename": "System.NullReferenceException",
          "evalue": "Object reference not set to an instance of an object.",
          "traceback": [
            "System.NullReferenceException: Object reference not set to an instance of an object.",
            "(Synapse notebook service internal traceback)"
          ]
        }
      ],
      "metadata": {},
      "source": [
        "#Provide the Subscription ID of your existing Azure subscription\r\n",
        "subscription_id = b\"\r\n",
        "\r\n",
        "#Provide values for the existing Resource Group \r\n",
        "resource_group09-1\"\r\n",
        "\r\n",
        "#Provide the Workspace Name and Azure Region of the Azure Machine Learning Workspace\r\n",
        "workspace_name = \"Cosmos-DB-6tqjlmi\"\r\n",
        "workspace_region = \"East US\"\r\n",
        "\r\n",
        "model_name = \"batt-cycles-7\"\r\n",
        "\r\n",
        "description = 'Forecast'\r\n",
        "cpu_cores = 1\r\n",
        "memory_gb = 1\r\n",
        "tags = {'name':'scoring'}\r\n",
        "\r\n",
        "conda_packages = ['numpy', 'pandas', 'scikit-learn', 'py-xgboost']\r\n",
        "pip_packages = ['inference-schema', 'azureml-train-automl']\r\n",
        "conda_file = \"dependencies.yml\"\r\n",
        "\r\n",
        "env_name = \"myenv\"\r\n",
        "scoring_file = \"scoring_service.py\"\r\n",
        "\r\n",
        "service_name = \"aciservice-3uka6z6tqjlmi\""
      ]
    },
    {
      "cell_type": "code",
      "execution_count": null,
      "outputs": [
        {
          "output_type": "display_data",
          "data": {
            "application/vnd.livy.statement-meta+json": {
              "spark_pool": "spark8",
              "session_id": 1,
              "statement_id": 6,
              "state": "submitted",
              "livy_statement_state": "available",
              "queued_time": "2020-08-17T22:56:18.2549991Z",
              "execution_start_time": "2020-08-17T22:57:12.3345482Z",
              "execution_finish_time": null
            },
            "text/plain": "StatementMeta(spark8, 1, 6, Submitted, Available)"
          },
          "metadata": {}
        }
      ],
      "metadata": {
        "jupyter": {
          "source_hidden": false,
          "outputs_hidden": false
        },
        "nteract": {
          "transient": {
            "deleting": false
          }
        },
        "collapsed": true
      },
      "source": [
        "# Values from `Setup Service Principal Authentication` in the Batch_Scoring notebook - do that first, then get those values and paste them here\r\n",
        "tenant_id = \"72f988bf-86f1-41af-91ab-2d7cd011db47\" # Use \"tenantId\" value\r\n",
        "service_principal_id = \"df87bb49-ae74-40f8-baf8-e7e4474d4ad7\" # Use \"clientId\" value\r\n",
        "service_principal_password = \"A~GWfa7VAvqJp.9UT5aCGPyiP6LAVVgZkh\" # Use \"clientSecret\" value\r\n",
        ""
      ]
    },
    {
      "cell_type": "code",
      "execution_count": null,
      "outputs": [
        {
          "output_type": "display_data",
          "data": {
            "application/vnd.livy.statement-meta+json": {
              "spark_pool": "spark8",
              "session_id": 1,
              "statement_id": 7,
              "state": "finished",
              "livy_statement_state": "available",
              "queued_time": "2020-08-17T22:56:18.9067623Z",
              "execution_start_time": "2020-08-17T22:57:12.3773598Z",
              "execution_finish_time": "2020-08-17T22:57:14.4174426Z"
            },
            "text/plain": "StatementMeta(spark8, 1, 7, Finished, Available)"
          },
          "metadata": {}
        }
      ],
      "metadata": {
        "jupyter": {
          "source_hidden": false,
          "outputs_hidden": false
        },
        "nteract": {
          "transient": {
            "deleting": false
          }
        },
        "collapsed": true
      },
      "source": [
        "from azureml.core.authentication import ServicePrincipalAuthentication\r\n",
        "\r\n",
        "sp = ServicePrincipalAuthentication(\r\n",
        "    tenant_id=tenant_id,\r\n",
        "    service_principal_id=service_principal_id,\r\n",
        "    service_principal_password=service_principal_password)"
      ]
    },
    {
      "cell_type": "code",
      "execution_count": null,
      "outputs": [
        {
          "output_type": "display_data",
          "data": {
            "application/vnd.livy.statement-meta+json": {
              "spark_pool": "spark8",
              "session_id": 1,
              "statement_id": 8,
              "state": "finished",
              "livy_statement_state": "available",
              "queued_time": "2020-08-17T22:56:19.7919208Z",
              "execution_start_time": "2020-08-17T22:57:14.4540356Z",
              "execution_finish_time": "2020-08-17T22:57:16.4961113Z"
            },
            "text/plain": "StatementMeta(spark8, 1, 8, Finished, Available)"
          },
          "metadata": {}
        }
      ],
      "metadata": {
        "jupyter": {
          "source_hidden": false,
          "outputs_hidden": false
        },
        "nteract": {
          "transient": {
            "deleting": false
          }
        },
        "collapsed": true
      },
      "source": [
        "from azureml.core import Workspace\r\n",
        "\r\n",
        "ws = Workspace.get(\r\n",
        "    name=workspace_name, \r\n",
        "    auth=sp,\r\n",
        "    subscription_id=subscription_id)"
      ]
    },
    {
      "cell_type": "code",
      "execution_count": null,
      "outputs": [
        {
          "output_type": "display_data",
          "data": {
            "application/vnd.livy.statement-meta+json": {
              "spark_pool": "spark8",
              "session_id": 1,
              "statement_id": 9,
              "state": "finished",
              "livy_statement_state": "available",
              "queued_time": "2020-08-17T22:56:20.2748224Z",
              "execution_start_time": "2020-08-17T22:57:16.5360823Z",
              "execution_finish_time": "2020-08-17T22:57:18.626556Z"
            },
            "text/plain": "StatementMeta(spark8, 1, 9, Finished, Available)"
          },
          "metadata": {}
        }
      ],
      "metadata": {
        "jupyter": {
          "source_hidden": false,
          "outputs_hidden": false
        },
        "nteract": {
          "transient": {
            "deleting": false
          }
        },
        "collapsed": true
      },
      "source": [
        "ws.get_details()"
      ]
    },
    {
      "cell_type": "code",
      "execution_count": null,
      "outputs": [
        {
          "output_type": "display_data",
          "data": {
            "application/vnd.livy.statement-meta+json": {
              "spark_pool": "spark8",
              "session_id": 1,
              "statement_id": 10,
              "state": "submitted",
              "livy_statement_state": "available",
              "queued_time": "2020-08-17T22:56:24.4350803Z",
              "execution_start_time": "2020-08-17T22:57:18.6655553Z",
              "execution_finish_time": null
            },
            "text/plain": "StatementMeta(spark8, 1, 10, Submitted, Available)"
          },
          "metadata": {}
        }
      ],
      "metadata": {
        "jupyter": {
          "source_hidden": false,
          "outputs_hidden": false
        },
        "nteract": {
          "transient": {
            "deleting": false
          }
        },
        "collapsed": true
      },
      "source": [
        "scoring_service = \"\"\"\r\n",
        "import os\r\n",
        "import json\r\n",
        "import pickle\r\n",
        "import numpy as np\r\n",
        "import pandas as pd\r\n",
        "import azureml.train.automl\r\n",
        "from sklearn.externals import joblib\r\n",
        "from azureml.core.model import Model\r\n",
        "\r\n",
        "from inference_schema.schema_decorators import input_schema, output_schema\r\n",
        "from inference_schema.parameter_types.numpy_parameter_type import NumpyParameterType\r\n",
        "from inference_schema.parameter_types.pandas_parameter_type import PandasParameterType\r\n",
        "\r\n",
        "### input_sample = pd.DataFrame(data=[{'battery_Age_Days': 120, 'daily_Trip_Duration': 590}])\r\n",
        "input_sample = pd.DataFrame(data=[{\"Date\":\"2013-01-01T00:00:00.000Z\",\"Battery_ID\":0,\"Battery_Age_Days\":0,\"Daily_Trip_Duration\":67.8456075842}])\r\n",
        "\r\n",
        "def init():\r\n",
        "    global model\r\n",
        "    # This name is model.id of model that we want to deploy deserialize the model file back\r\n",
        "    # into a sklearn model\r\n",
        "    model_path = Model.get_model_path(model_name = 'batt-cycles-7')\r\n",
        "    model = joblib.load(model_path)\r\n",
        "\r\n",
        "@input_schema('data', PandasParameterType(input_sample))\r\n",
        "def run(data):\r\n",
        "    try:\r\n",
        "        result = model.predict(data)\r\n",
        "    except Exception as e:\r\n",
        "        result = str(e)\r\n",
        "        return json.dumps({\"error\": result})\r\n",
        "\r\n",
        "    return json.dumps({\"result\": result.tolist()})\r\n",
        "\"\"\"\r\n",
        "\r\n",
        "with open(scoring_file, \"w\") as file:\r\n",
        "  file.write(scoring_service)"
      ]
    },
    {
      "cell_type": "code",
      "execution_count": null,
      "outputs": [
        {
          "output_type": "display_data",
          "data": {
            "application/vnd.livy.statement-meta+json": {
              "spark_pool": "spark8",
              "session_id": 1,
              "statement_id": 11,
              "state": "finished",
              "livy_statement_state": "available",
              "queued_time": "2020-08-17T22:56:24.7135086Z",
              "execution_start_time": "2020-08-17T22:57:18.7079737Z",
              "execution_finish_time": "2020-08-17T22:57:20.7543773Z"
            },
            "text/plain": "StatementMeta(spark8, 1, 11, Finished, Available)"
          },
          "metadata": {}
        }
      ],
      "metadata": {
        "jupyter": {
          "source_hidden": false,
          "outputs_hidden": false
        },
        "nteract": {
          "transient": {
            "deleting": false
          }
        },
        "collapsed": true
      },
      "source": [
        "registeredModel = Model(workspace = ws, name = model_name)"
      ]
    },
    {
      "cell_type": "code",
      "execution_count": null,
      "outputs": [
        {
          "output_type": "display_data",
          "data": {
            "application/vnd.livy.statement-meta+json": {
              "spark_pool": "spark8",
              "session_id": 1,
              "statement_id": 12,
              "state": "finished",
              "livy_statement_state": "available",
              "queued_time": "2020-08-17T22:56:25.2755323Z",
              "execution_start_time": "2020-08-17T22:57:20.7914474Z",
              "execution_finish_time": "2020-08-17T22:57:22.8394983Z"
            },
            "text/plain": "StatementMeta(spark8, 1, 12, Finished, Available)"
          },
          "metadata": {}
        }
      ],
      "metadata": {
        "jupyter": {
          "source_hidden": false,
          "outputs_hidden": false
        },
        "nteract": {
          "transient": {
            "deleting": false
          }
        },
        "collapsed": true
      },
      "source": [
        "# Display for debugging\r\n",
        "\r\n",
        "registeredModel"
      ]
    },
    {
      "cell_type": "code",
      "execution_count": null,
      "outputs": [
        {
          "output_type": "display_data",
          "data": {
            "application/vnd.livy.statement-meta+json": {
              "spark_pool": "spark8",
              "session_id": 1,
              "statement_id": 13,
              "state": "finished",
              "livy_statement_state": "available",
              "queued_time": "2020-08-17T22:56:26.0427157Z",
              "execution_start_time": "2020-08-17T22:57:22.8690917Z",
              "execution_finish_time": "2020-08-17T22:57:24.9091033Z"
            },
            "text/plain": "StatementMeta(spark8, 1, 13, Finished, Available)"
          },
          "metadata": {}
        }
      ],
      "metadata": {
        "jupyter": {
          "source_hidden": false,
          "outputs_hidden": false
        },
        "nteract": {
          "transient": {
            "deleting": false
          }
        },
        "collapsed": true
      },
      "source": [
        "deployment_config = AciWebservice.deploy_configuration(\r\n",
        "    cpu_cores = cpu_cores, \r\n",
        "    memory_gb = memory_gb, \r\n",
        "    tags = tags, \r\n",
        "    description = description)"
      ]
    },
    {
      "cell_type": "code",
      "execution_count": null,
      "outputs": [
        {
          "output_type": "display_data",
          "data": {
            "application/vnd.livy.statement-meta+json": {
              "spark_pool": "spark8",
              "session_id": 1,
              "statement_id": 14,
              "state": "finished",
              "livy_statement_state": "available",
              "queued_time": "2020-08-17T22:56:26.921593Z",
              "execution_start_time": "2020-08-17T22:57:24.9453676Z",
              "execution_finish_time": "2020-08-17T22:57:26.9942923Z"
            },
            "text/plain": "StatementMeta(spark8, 1, 14, Finished, Available)"
          },
          "metadata": {}
        }
      ],
      "metadata": {
        "jupyter": {
          "source_hidden": false,
          "outputs_hidden": false
        },
        "nteract": {
          "transient": {
            "deleting": false
          }
        },
        "collapsed": true
      },
      "source": [
        "conda_env = CondaDependencies.create(conda_packages = conda_packages, pip_packages = pip_packages)\r\n",
        "\r\n",
        "with open(conda_file, \"w\") as f:\r\n",
        "    f.write(conda_env.serialize_to_string())"
      ]
    },
    {
      "cell_type": "code",
      "execution_count": null,
      "outputs": [
        {
          "output_type": "display_data",
          "data": {
            "application/vnd.livy.statement-meta+json": {
              "spark_pool": "spark8",
              "session_id": 1,
              "statement_id": 15,
              "state": "finished",
              "livy_statement_state": "available",
              "queued_time": "2020-08-17T22:56:27.4162449Z",
              "execution_start_time": "2020-08-17T22:57:27.0334956Z",
              "execution_finish_time": "2020-08-17T22:57:29.0720248Z"
            },
            "text/plain": "StatementMeta(spark8, 1, 15, Finished, Available)"
          },
          "metadata": {}
        }
      ],
      "metadata": {
        "jupyter": {
          "source_hidden": false,
          "outputs_hidden": false
        },
        "nteract": {
          "transient": {
            "deleting": false
          }
        },
        "collapsed": true
      },
      "source": [
        "myenv = Environment.from_conda_specification(name = env_name, file_path = conda_file)\r\n",
        "\r\n",
        "myenv.register(workspace = ws)"
      ]
    },
    {
      "cell_type": "code",
      "execution_count": null,
      "outputs": [
        {
          "output_type": "display_data",
          "data": {
            "application/vnd.livy.statement-meta+json": {
              "spark_pool": "spark8",
              "session_id": 1,
              "statement_id": 16,
              "state": "finished",
              "livy_statement_state": "available",
              "queued_time": "2020-08-17T22:56:28.5511635Z",
              "execution_start_time": "2020-08-17T22:57:29.1107643Z",
              "execution_finish_time": "2020-08-17T22:57:31.1584678Z"
            },
            "text/plain": "StatementMeta(spark8, 1, 16, Finished, Available)"
          },
          "metadata": {}
        }
      ],
      "metadata": {
        "jupyter": {
          "source_hidden": false,
          "outputs_hidden": false
        },
        "nteract": {
          "transient": {
            "deleting": false
          }
        },
        "collapsed": true
      },
      "source": [
        "inference_config = InferenceConfig(entry_script = scoring_file, environment = myenv)"
      ]
    },
    {
      "cell_type": "code",
      "execution_count": null,
      "outputs": [
        {
          "output_type": "display_data",
          "data": {
            "application/vnd.livy.statement-meta+json": {
              "spark_pool": "spark8",
              "session_id": 1,
              "statement_id": 17,
              "state": "finished",
              "livy_statement_state": "available",
              "queued_time": "2020-08-17T22:56:29.4257249Z",
              "execution_start_time": "2020-08-17T22:57:31.1946579Z",
              "execution_finish_time": "2020-08-17T22:57:33.2409205Z"
            },
            "text/plain": "StatementMeta(spark8, 1, 17, Finished, Available)"
          },
          "metadata": {}
        }
      ],
      "metadata": {
        "jupyter": {
          "source_hidden": false,
          "outputs_hidden": false
        },
        "nteract": {
          "transient": {
            "deleting": false
          }
        },
        "collapsed": true
      },
      "source": [
        "# Display for debugging\r\n",
        "\r\n",
        "inference_config"
      ]
    },
    {
      "cell_type": "code",
      "execution_count": null,
      "outputs": [
        {
          "output_type": "display_data",
          "data": {
            "application/vnd.livy.statement-meta+json": {
              "spark_pool": "spark8",
              "session_id": 1,
              "statement_id": 18,
              "state": "finished",
              "livy_statement_state": "available",
              "queued_time": "2020-08-17T22:56:30.2832476Z",
              "execution_start_time": "2020-08-17T22:57:33.2828321Z",
              "execution_finish_time": "2020-08-17T22:57:35.337083Z"
            },
            "text/plain": "StatementMeta(spark8, 1, 18, Finished, Available)"
          },
          "metadata": {}
        }
      ],
      "metadata": {
        "jupyter": {
          "source_hidden": false,
          "outputs_hidden": false
        },
        "nteract": {
          "transient": {
            "deleting": false
          }
        },
        "collapsed": true
      },
      "source": [
        "deployment_config = AciWebservice.deploy_configuration(cpu_cores = 1, memory_gb = 1)"
      ]
    },
    {
      "cell_type": "code",
      "execution_count": null,
      "outputs": [
        {
          "output_type": "display_data",
          "data": {
            "application/vnd.livy.statement-meta+json": {
              "spark_pool": "spark8",
              "session_id": 1,
              "statement_id": 19,
              "state": "finished",
              "livy_statement_state": "available",
              "queued_time": "2020-08-17T22:56:30.8555628Z",
              "execution_start_time": "2020-08-17T22:57:35.3752922Z",
              "execution_finish_time": "2020-08-17T22:57:37.4219632Z"
            },
            "text/plain": "StatementMeta(spark8, 1, 19, Finished, Available)"
          },
          "metadata": {}
        }
      ],
      "metadata": {
        "jupyter": {
          "source_hidden": false,
          "outputs_hidden": false
        },
        "nteract": {
          "transient": {
            "deleting": false
          }
        },
        "collapsed": true
      },
      "source": [
        "# Display for debugging\r\n",
        "\r\n",
        "deployment_config"
      ]
    },
    {
      "cell_type": "code",
      "execution_count": 18,
      "outputs": [
        {
          "output_type": "display_data",
          "data": {
            "application/vnd.livy.statement-meta+json": {
              "spark_pool": "spark8",
              "session_id": 1,
              "statement_id": 20,
              "state": "finished",
              "livy_statement_state": "available",
              "queued_time": "2020-08-17T22:58:49.8851066Z",
              "execution_start_time": "2020-08-17T22:58:49.9300668Z",
              "execution_finish_time": "2020-08-17T22:59:04.2391966Z"
            },
            "text/plain": "StatementMeta(spark8, 1, 20, Finished, Available)"
          },
          "metadata": {}
        },
        {
          "execution_count": 18,
          "output_type": "execute_result",
          "data": {
            "text/plain": ""
          },
          "metadata": {}
        }
      ],
      "metadata": {
        "jupyter": {
          "source_hidden": false,
          "outputs_hidden": false
        },
        "nteract": {
          "transient": {
            "deleting": false
          }
        },
        "collapsed": true
      },
      "source": [
        "service = Model.deploy(ws, service_name, [registeredModel], inference_config, deployment_config, overwrite = True)"
      ]
    },
    {
      "cell_type": "code",
      "execution_count": 19,
      "outputs": [
        {
          "output_type": "display_data",
          "data": {
            "application/vnd.livy.statement-meta+json": {
              "spark_pool": "spark8",
              "session_id": 1,
              "statement_id": 21,
              "state": "finished",
              "livy_statement_state": "available",
              "queued_time": "2020-08-17T22:59:18.9287894Z",
              "execution_start_time": "2020-08-17T22:59:18.9670962Z",
              "execution_finish_time": "2020-08-17T23:11:37.4195311Z"
            },
            "text/plain": "StatementMeta(spark8, 1, 21, Finished, Available)"
          },
          "metadata": {}
        },
        {
          "execution_count": 19,
          "output_type": "execute_result",
          "data": {
            "text/plain": "Running.............................................................................................................................................\nSucceeded\nACI service creation operation finished, operation \"Succeeded\""
          },
          "metadata": {}
        }
      ],
      "metadata": {
        "jupyter": {
          "source_hidden": false,
          "outputs_hidden": false
        },
        "nteract": {
          "transient": {
            "deleting": false
          }
        },
        "collapsed": true
      },
      "source": [
        "service.wait_for_deployment(show_output = True)"
      ]
    },
    {
      "cell_type": "code",
      "execution_count": 20,
      "outputs": [
        {
          "output_type": "display_data",
          "data": {
            "application/vnd.livy.statement-meta+json": {
              "spark_pool": "spark8",
              "session_id": 1,
              "statement_id": 22,
              "state": "finished",
              "livy_statement_state": "available",
              "queued_time": "2020-08-17T23:11:42.8438936Z",
              "execution_start_time": "2020-08-17T23:11:42.8815441Z",
              "execution_finish_time": "2020-08-17T23:11:44.9230586Z"
            },
            "text/plain": "StatementMeta(spark8, 1, 22, Finished, Available)"
          },
          "metadata": {}
        },
        {
          "execution_count": 20,
          "output_type": "execute_result",
          "data": {
            "text/plain": "Healthy"
          },
          "metadata": {}
        }
      ],
      "metadata": {
        "jupyter": {
          "source_hidden": false,
          "outputs_hidden": false
        },
        "nteract": {
          "transient": {
            "deleting": false
          }
        },
        "collapsed": true
      },
      "source": [
        "print(service.state)"
      ]
    },
    {
      "cell_type": "code",
      "execution_count": 21,
      "outputs": [
        {
          "output_type": "display_data",
          "data": {
            "application/vnd.livy.statement-meta+json": {
              "spark_pool": "spark8",
              "session_id": 1,
              "statement_id": 23,
              "state": "finished",
              "livy_statement_state": "available",
              "queued_time": "2020-08-17T23:11:46.9277231Z",
              "execution_start_time": "2020-08-17T23:11:46.9653758Z",
              "execution_finish_time": "2020-08-17T23:11:49.0128072Z"
            },
            "text/plain": "StatementMeta(spark8, 1, 23, Finished, Available)"
          },
          "metadata": {}
        },
        {
          "execution_count": 21,
          "output_type": "execute_result",
          "data": {
            "text/plain": "2020-08-17T23:11:11,579213876+00:00 - gunicorn/run \n2020-08-17T23:11:11,580839185+00:00 - iot-server/run \n2020-08-17T23:11:11,582128092+00:00 - rsyslog/run \n2020-08-17T23:11:11,584529506+00:00 - nginx/run \n/usr/sbin/nginx: /azureml-envs/azureml_217d8387ec6ddcca5d8194ee91c500fc/lib/libcrypto.so.1.0.0: no version information available (required by /usr/sbin/nginx)\n/usr/sbin/nginx: /azureml-envs/azureml_217d8387ec6ddcca5d8194ee91c500fc/lib/libcrypto.so.1.0.0: no version information available (required by /usr/sbin/nginx)\n/usr/sbin/nginx: /azureml-envs/azureml_217d8387ec6ddcca5d8194ee91c500fc/lib/libssl.so.1.0.0: no version information available (required by /usr/sbin/nginx)\n/usr/sbin/nginx: /azureml-envs/azureml_217d8387ec6ddcca5d8194ee91c500fc/lib/libssl.so.1.0.0: no version information available (required by /usr/sbin/nginx)\n/usr/sbin/nginx: /azureml-envs/azureml_217d8387ec6ddcca5d8194ee91c500fc/lib/libssl.so.1.0.0: no version information available (required by /usr/sbin/nginx)\nEdgeHubConnectionString and IOTEDGE_IOTHUBHOSTNAME are not set. Exiting...\n2020-08-17T23:11:11,758869614+00:00 - iot-server/finish 1 0\n2020-08-17T23:11:11,760403523+00:00 - Exit code 1 is normal. Not restarting iot-server.\nStarting gunicorn 19.9.0\nListening at: http://127.0.0.1:31311 (14)\nUsing worker: sync\nworker timeout is set to 300\nBooting worker with pid: 43\nSPARK_HOME not set. Skipping PySpark Initialization.\nInitializing logger\n2020-08-17 23:11:14,193 | root | INFO | Starting up app insights client\nStarting up app insights client\n2020-08-17 23:11:14,193 | root | INFO | Starting up request id generator\nStarting up request id generator\n2020-08-17 23:11:14,193 | root | INFO | Starting up app insight hooks\nStarting up app insight hooks\n2020-08-17 23:11:14,194 | root | INFO | Invoking user's init function\nInvoking user's init function\n2020-08-17 23:11:14,573 | root | INFO | Users's init has completed successfully\nUsers's init has completed successfully\n2020-08-17 23:11:14,576 | root | INFO | Skipping middleware: dbg_model_info as it's not enabled.\nSkipping middleware: dbg_model_info as it's not enabled.\n2020-08-17 23:11:14,576 | root | INFO | Skipping middleware: dbg_resource_usage as it's not enabled.\nSkipping middleware: dbg_resource_usage as it's not enabled.\n2020-08-17 23:11:14,577 | root | INFO | Scoring timeout is found from os.environ: 60000 ms\nScoring timeout is found from os.environ: 60000 ms\n2020-08-17 23:11:33,427 | root | INFO | 200\n200\n127.0.0.1 - - [17/Aug/2020:23:11:33 +0000] \"GET /swagger.json HTTP/1.0\" 200 2239 \"-\" \"Go-http-client/1.1\"\n2020-08-17 23:11:36,254 | root | INFO | 200\n200\n127.0.0.1 - - [17/Aug/2020:23:11:36 +0000] \"GET /swagger.json HTTP/1.0\" 200 2239 \"-\" \"Go-http-client/1.1\""
          },
          "metadata": {}
        }
      ],
      "metadata": {
        "jupyter": {
          "source_hidden": false,
          "outputs_hidden": false
        },
        "nteract": {
          "transient": {
            "deleting": false
          }
        },
        "collapsed": true
      },
      "source": [
        "print(service.get_logs())"
      ]
    },
    {
      "cell_type": "code",
      "execution_count": null,
      "outputs": [],
      "metadata": {
        "jupyter": {
          "source_hidden": false,
          "outputs_hidden": false
        },
        "nteract": {
          "transient": {
            "deleting": false
          }
        },
        "collapsed": true
      },
      "source": [
        ""
      ]
    }
  ]
}