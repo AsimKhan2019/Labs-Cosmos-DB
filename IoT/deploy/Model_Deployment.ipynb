{
  "metadata": {
    "kernelspec": {
      "name": "synapse_pyspark",
      "display_name": "Synapse PySpark"
    },
    "language_info": {
      "name": "python"
    },
    "sessionKeepAliveTimeout": 30
  },
  "nbformat": 4,
  "nbformat_minor": 2,
  "cells": [
    {
      "cell_type": "code",
      "execution_count": 1,
      "outputs": [],
      "metadata": {
        "jupyter": {
          "source_hidden": false,
          "outputs_hidden": false
        },
        "nteract": {
          "transient": {
            "deleting": false
          }
        },
        "collapsed": true
      },
      "source": [
        "import azureml\r\n",
        "\r\n",
        "from azureml.core import Run\r\n",
        "from azureml.core import Workspace\r\n",
        "\r\n",
        "from azureml.core.conda_dependencies import CondaDependencies\r\n",
        "\r\n",
        "from azureml.core.environment import Environment\r\n",
        "\r\n",
        "from azureml.core.experiment import Experiment\r\n",
        "\r\n",
        "from azureml.core.image import Image\r\n",
        "\r\n",
        "from azureml.core.model import InferenceConfig\r\n",
        "from azureml.core.model import Model\r\n",
        "\r\n",
        "from azureml.core.run import Run\r\n",
        "\r\n",
        "from azureml.core.webservice import AciWebservice, Webservice"
      ]
    },
    {
      "cell_type": "code",
      "execution_count": 12,
      "outputs": [],
      "metadata": {},
      "source": [
        "#Provide the Subscription ID of your existing Azure subscription\r\n",
        "subscription_id = \"\"\r\n",
        "\r\n",
        "#Provide values for the existing Resource Group \r\n",
        "resource_group = \"\"\r\n",
        "\r\n",
        "#Provide the Workspace Name and Azure Region of the Azure Machine Learning Workspace\r\n",
        "workspace_name = \"\"\r\n",
        "workspace_region = \"East US\"\r\n",
        "\r\n",
        "model_name = \"batt-cycles-7\"\r\n",
        "\r\n",
        "description = 'Forecast'\r\n",
        "cpu_cores = 1\r\n",
        "memory_gb = 1\r\n",
        "tags = {'name':'scoring'}\r\n",
        "\r\n",
        "conda_packages = ['numpy', 'pandas', 'scikit-learn', 'py-xgboost<=0.80']\r\n",
        "pip_packages = ['azureml-train-automl==1.0.60', 'inference-schema']\r\n",
        "conda_file = \"dependencies.yml\"\r\n",
        "\r\n",
        "env_name = \"myenv\"\r\n",
        "scoring_file = \"scoring_service.py\"\r\n",
        "\r\n",
        "service_name = \"aciservice\""
      ]
    },
    {
      "cell_type": "code",
      "execution_count": 3,
      "outputs": [],
      "metadata": {
        "jupyter": {
          "source_hidden": false,
          "outputs_hidden": false
        },
        "nteract": {
          "transient": {
            "deleting": false
          }
        },
        "collapsed": true
      },
      "source": [
        "ws = Workspace.create(\r\n",
        "    name = workspace_name,\r\n",
        "    subscription_id = subscription_id,\r\n",
        "    resource_group = resource_group, \r\n",
        "    location = workspace_region,\r\n",
        "    exist_ok = True)"
      ]
    },
    {
      "cell_type": "code",
      "execution_count": 4,
      "outputs": [],
      "metadata": {
        "jupyter": {
          "source_hidden": false,
          "outputs_hidden": false
        },
        "nteract": {
          "transient": {
            "deleting": false
          }
        },
        "collapsed": true
      },
      "source": [
        "scoring_service = \"\"\"\r\n",
        "import json\r\n",
        "import pickle\r\n",
        "import numpy as np\r\n",
        "import pandas as pd\r\n",
        "import azureml.train.automl\r\n",
        "from sklearn.externals import joblib\r\n",
        "from azureml.core.model import Model\r\n",
        "\r\n",
        "# from inference_schema.schema_decorators import input_schema, output_schema\r\n",
        "# from inference_schema.parameter_types.numpy_parameter_type import NumpyParameterType\r\n",
        "# from inference_schema.parameter_types.pandas_parameter_type import PandasParameterType\r\n",
        "\r\n",
        "input_sample = pd.DataFrame({'battery_Age_Days': 120, 'daily_Trip_Duration': 590})\r\n",
        "### input_sample = pd.DataFrame(data=[{\"Date\":\"2013-01-01T00:00:00.000Z\",\"Battery_ID\":0,\"Battery_Age_Days\":0,\"Daily_Trip_Duration\":67.8456075842}])\r\n",
        "\r\n",
        "def init():\r\n",
        "    global model\r\n",
        "    # This name is model.id of model that we want to deploy deserialize the model file back\r\n",
        "    # into a sklearn model\r\n",
        "    model_path = Model.get_model_path(model_name = '\"\"\" + model_name + \"\"\"')\r\n",
        "    model = joblib.load(model_path)\r\n",
        "\r\n",
        "@input_schema('data', PandasParameterType(input_sample))\r\n",
        "def run(data):\r\n",
        "    try:\r\n",
        "        result = model.predict(data)\r\n",
        "    except Exception as e:\r\n",
        "        result = str(e)\r\n",
        "        return json.dumps({\"error\": result})\r\n",
        "\r\n",
        "    return json.dumps({\"result\": result.tolist()})\r\n",
        "\"\"\"\r\n",
        "\r\n",
        "with open(scoring_file, \"w\") as file:\r\n",
        "  file.write(scoring_service)"
      ]
    },
    {
      "cell_type": "code",
      "execution_count": 5,
      "outputs": [],
      "metadata": {
        "jupyter": {
          "source_hidden": false,
          "outputs_hidden": false
        },
        "nteract": {
          "transient": {
            "deleting": false
          }
        },
        "collapsed": true
      },
      "source": [
        "registeredModel = Model(workspace = ws, name = model_name)\r\n",
        "\r\n",
        "registeredModel"
      ]
    },
    {
      "cell_type": "code",
      "execution_count": 6,
      "outputs": [],
      "metadata": {
        "jupyter": {
          "source_hidden": false,
          "outputs_hidden": false
        },
        "nteract": {
          "transient": {
            "deleting": false
          }
        },
        "collapsed": true
      },
      "source": [
        "deployment_config = AciWebservice.deploy_configuration(\r\n",
        "    cpu_cores = cpu_cores, \r\n",
        "    memory_gb = memory_gb, \r\n",
        "    tags = tags, \r\n",
        "    description = description)"
      ]
    },
    {
      "cell_type": "code",
      "execution_count": 8,
      "outputs": [],
      "metadata": {
        "jupyter": {
          "source_hidden": false,
          "outputs_hidden": false
        },
        "nteract": {
          "transient": {
            "deleting": false
          }
        },
        "collapsed": true
      },
      "source": [
        "conda_env = CondaDependencies.create(conda_packages = conda_packages, pip_packages = pip_packages)\r\n",
        "\r\n",
        "with open(conda_file, \"w\") as f:\r\n",
        "    f.write(conda_env.serialize_to_string())"
      ]
    },
    {
      "cell_type": "code",
      "execution_count": 9,
      "outputs": [],
      "metadata": {
        "jupyter": {
          "source_hidden": false,
          "outputs_hidden": false
        },
        "nteract": {
          "transient": {
            "deleting": false
          }
        },
        "collapsed": true
      },
      "source": [
        "myenv = Environment.from_conda_specification(name = env_name, file_path = conda_file)\r\n",
        "\r\n",
        "myenv.register(workspace = ws)"
      ]
    },
    {
      "cell_type": "code",
      "execution_count": 10,
      "outputs": [],
      "metadata": {
        "jupyter": {
          "source_hidden": false,
          "outputs_hidden": false
        },
        "nteract": {
          "transient": {
            "deleting": false
          }
        },
        "collapsed": true
      },
      "source": [
        "inference_config = InferenceConfig(entry_script = scoring_file, environment = myenv)"
      ]
    },
    {
      "cell_type": "code",
      "execution_count": 11,
      "outputs": [],
      "metadata": {
        "jupyter": {
          "source_hidden": false,
          "outputs_hidden": false
        },
        "nteract": {
          "transient": {
            "deleting": false
          }
        },
        "collapsed": true
      },
      "source": [
        "deployment_config = AciWebservice.deploy_configuration(cpu_cores = 1, memory_gb = 1)"
      ]
    },
    {
      "cell_type": "code",
      "execution_count": 16,
      "outputs": [],
      "metadata": {
        "jupyter": {
          "source_hidden": false,
          "outputs_hidden": false
        },
        "nteract": {
          "transient": {
            "deleting": false
          }
        },
        "collapsed": true
      },
      "source": [
        "service = Model.deploy(ws, service_name, [registeredModel], inference_config, deployment_config, overwrite = True)"
      ]
    },
    {
      "cell_type": "code",
      "execution_count": null,
      "outputs": [],
      "metadata": {
        "jupyter": {
          "source_hidden": false,
          "outputs_hidden": false
        },
        "nteract": {
          "transient": {
            "deleting": false
          }
        },
        "collapsed": true
      },
      "source": [
        "service.wait_for_deployment(show_output = True)\r\n",
        "\r\n",
        "print(service.state)"
      ]
    }
  ]
}