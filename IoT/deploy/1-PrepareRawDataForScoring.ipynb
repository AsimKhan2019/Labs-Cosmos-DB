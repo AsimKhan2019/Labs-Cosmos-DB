{
  "cells": [
    {
      "cell_type": "code",
      "source": [
        "# Variables\r\n",
        "\r\n",
        "# Storage account name for the Synapse WS storage account - starts with \"synsa\"\r\n",
        "storage_acct_name = \"\"\r\n",
        "storage_container_name = \"workspace\"\r\n",
        "storage_path_raw = \"lab-data/raw/\"\r\n",
        "\r\n",
        "# Cosmos DB\r\n",
        "cosmos_db_container_metadata = \"metadata\"\r\n",
        "\r\n",
        "# Synapse linked service pointing to Cosmos DB Analytical Store - this is where we get the source data\r\n",
        "synapse_cosmos_db_linked_service = \"CosmosDbIoTLab\""
      ],
      "outputs": [],
      "execution_count": null,
      "metadata": {}
    },
    {
      "cell_type": "code",
      "source": [
        "vehicle_metadata_df = spark.read\\\r\n",
        "    .format(\"cosmos.olap\")\\\r\n",
        "    .option(\"spark.synapse.linkedService\", synapse_cosmos_db_linked_service)\\\r\n",
        "    .option(\"spark.cosmos.container\", cosmos_db_container_metadata)\\\r\n",
        "    .load()"
      ],
      "outputs": [],
      "execution_count": null,
      "metadata": {
        "jupyter": {
          "source_hidden": false,
          "outputs_hidden": false
        },
        "nteract": {
          "transient": {
            "deleting": false
          }
        },
        "collapsed": true
      }
    },
    {
      "cell_type": "code",
      "source": [
        "print(vehicle_metadata_df.count())\r\n",
        "\r\n",
        "vehicle_metadata_df.printSchema()"
      ],
      "outputs": [],
      "execution_count": null,
      "metadata": {
        "jupyter": {
          "source_hidden": false,
          "outputs_hidden": false
        },
        "nteract": {
          "transient": {
            "deleting": false
          }
        },
        "collapsed": true
      }
    },
    {
      "cell_type": "code",
      "source": [
        "vehicle_metadata_df.createOrReplaceTempView(\"metadata\")"
      ],
      "outputs": [],
      "execution_count": null,
      "metadata": {
        "jupyter": {
          "source_hidden": false,
          "outputs_hidden": false
        },
        "nteract": {
          "transient": {
            "deleting": false
          }
        },
        "collapsed": true
      }
    },
    {
      "cell_type": "code",
      "source": [
        "trips_clean_df = spark.sql(\"\"\"\r\n",
        "    SELECT  vin, \r\n",
        "            to_utc_timestamp(tripEnded, \\\"yyyy-MM-dd'T'HH:mm:ss.SSSX'Z'\\\") as tripEnded, \r\n",
        "            to_utc_timestamp(tripStarted, \\\"yyyy-MM-dd'T'HH:mm:ss.SSSX'Z'\\\") as tripStarted, \r\n",
        "            ((unix_timestamp(to_utc_timestamp(tripEnded, \\\"yyyy-MM-dd'T'HH:mm:ss.SSSX'Z'\\\")) - \r\n",
        "                unix_timestamp(to_utc_timestamp(tripStarted, \\\"yyyy-MM-dd'T'HH:mm:ss.SSSX'Z'\\\")))/60.0) as tripDurationMinutes\r\n",
        "    FROM metadata\r\n",
        "    WHERE entityType = 'Trip' AND status = 'Completed'\r\n",
        "    \"\"\")\r\n",
        "\r\n",
        "trips_clean_df.createOrReplaceTempView(\"trips_clean\")"
      ],
      "outputs": [],
      "execution_count": null,
      "metadata": {
        "jupyter": {
          "source_hidden": false,
          "outputs_hidden": false
        },
        "nteract": {
          "transient": {
            "deleting": false
          }
        },
        "collapsed": true
      }
    },
    {
      "cell_type": "code",
      "source": [
        "print(trips_clean_df.count())\r\n",
        "\r\n",
        "trips_clean_df.printSchema()"
      ],
      "outputs": [],
      "execution_count": null,
      "metadata": {
        "jupyter": {
          "source_hidden": false,
          "outputs_hidden": false
        },
        "nteract": {
          "transient": {
            "deleting": false
          }
        },
        "collapsed": true
      }
    },
    {
      "cell_type": "code",
      "source": [
        "vehicles_raw_df = spark.sql(\"\"\"\r\n",
        "    SELECT vin, batteryAgeDays, batteryRatedCycles, lifetimeBatteryCyclesUsed \r\n",
        "    FROM metadata \r\n",
        "    WHERE entityType ='Vehicle'\r\n",
        "    \"\"\")\r\n",
        "\r\n",
        "vehicles_raw_df.createOrReplaceTempView(\"vehicles_raw\")"
      ],
      "outputs": [],
      "execution_count": null,
      "metadata": {
        "jupyter": {
          "source_hidden": false,
          "outputs_hidden": false
        },
        "nteract": {
          "transient": {
            "deleting": false
          }
        },
        "collapsed": true
      }
    },
    {
      "cell_type": "code",
      "source": [
        "print(vehicles_raw_df.count())\r\n",
        "\r\n",
        "vehicles_raw_df.printSchema()"
      ],
      "outputs": [],
      "execution_count": null,
      "metadata": {
        "jupyter": {
          "source_hidden": false,
          "outputs_hidden": false
        },
        "nteract": {
          "transient": {
            "deleting": false
          }
        },
        "collapsed": true
      }
    },
    {
      "cell_type": "code",
      "source": [
        "batch_df = spark.sql(\"\"\"\r\n",
        "    SELECT  v.vin,\r\n",
        "            v.batteryAgeDays, \r\n",
        "            v.batteryRatedCycles, \r\n",
        "            v.lifetimeBatteryCyclesUsed,\r\n",
        "            t.tripDurationMinutes\r\n",
        "    FROM    vehicles_raw v \r\n",
        "    INNER JOIN trips_clean t \r\n",
        "        ON v.vin = t.vin\r\n",
        "    \"\"\")"
      ],
      "outputs": [],
      "execution_count": null,
      "metadata": {
        "jupyter": {
          "source_hidden": false,
          "outputs_hidden": false
        },
        "nteract": {
          "transient": {
            "deleting": false
          }
        },
        "collapsed": true
      }
    },
    {
      "cell_type": "code",
      "source": [
        "print(batch_df.count())\r\n",
        "\r\n",
        "batch_df.printSchema()"
      ],
      "outputs": [],
      "execution_count": null,
      "metadata": {
        "jupyter": {
          "source_hidden": false,
          "outputs_hidden": false
        },
        "nteract": {
          "transient": {
            "deleting": false
          }
        },
        "collapsed": true
      }
    },
    {
      "cell_type": "code",
      "source": [
        "batch_df.show()"
      ],
      "outputs": [],
      "execution_count": null,
      "metadata": {
        "jupyter": {
          "source_hidden": false,
          "outputs_hidden": false
        },
        "nteract": {
          "transient": {
            "deleting": false
          }
        },
        "collapsed": true
      }
    },
    {
      "cell_type": "code",
      "source": [
        "sa_uri = \"abfss://workspace@\" + storage_acct_name + \".dfs.core.windows.net/\" + storage_path_raw\r\n",
        "\r\n",
        "batch_df.write.mode('overwrite').parquet(sa_uri)"
      ],
      "outputs": [],
      "execution_count": null,
      "metadata": {
        "jupyter": {
          "source_hidden": false,
          "outputs_hidden": false
        },
        "nteract": {
          "transient": {
            "deleting": false
          }
        },
        "collapsed": true
      }
    },
    {
      "cell_type": "code",
      "source": [],
      "outputs": [],
      "execution_count": null,
      "metadata": {
        "jupyter": {
          "source_hidden": false,
          "outputs_hidden": false
        },
        "nteract": {
          "transient": {
            "deleting": false
          }
        },
        "collapsed": true
      }
    }
  ],
  "metadata": {
    "saveOutput": true,
    "kernelspec": {
      "name": "synapse_pyspark",
      "display_name": "Synapse PySpark"
    },
    "language_info": {
      "name": "python"
    },
    "microsoft": {
      "language": "python"
    },
    "nteract": {
      "version": "nteract-front-end@1.0.0"
    }
  },
  "nbformat": 4,
  "nbformat_minor": 2
}