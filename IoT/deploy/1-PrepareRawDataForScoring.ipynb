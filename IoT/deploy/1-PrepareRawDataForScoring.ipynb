{
  "metadata": {
    "kernelspec": {
      "name": "synapse_pyspark",
      "display_name": "Synapse PySpark"
    },
    "language_info": {
      "name": "python"
    },
    "sessionKeepAliveTimeout": 30
  },
  "nbformat": 4,
  "nbformat_minor": 2,
  "cells": [
    {
      "cell_type": "code",
      "execution_count": 1,
      "outputs": [
        {
          "output_type": "display_data",
          "data": {
            "application/vnd.livy.statement-meta+json": {
              "spark_pool": "spark8",
              "session_id": 2,
              "statement_id": 3,
              "state": "finished",
              "livy_statement_state": "available",
              "queued_time": "2020-08-20T12:47:59.5841497Z",
              "execution_start_time": "2020-08-20T12:53:53.9787379Z",
              "execution_finish_time": "2020-08-20T12:53:56.0276344Z"
            },
            "text/plain": "StatementMeta(spark8, 2, 3, Finished, Available)"
          },
          "metadata": {}
        },
        {
          "execution_count": 1,
          "output_type": "execute_result",
          "data": {
            "text/plain": ""
          },
          "metadata": {}
        }
      ],
      "metadata": {},
      "source": [
        "# Variables\r\n",
        "\r\n",
        "# Storage account name for the Synapse WS storage account - starts with \"synsa\"\r\n",
        "storage_acct_name = \"synsa3uka6z6tqjlmi\"\r\n",
        "storage_container_name = \"workspace\"\r\n",
        "storage_path_raw = \"lab-data/raw/\"\r\n",
        "\r\n",
        "# Cosmos DB\r\n",
        "cosmos_db_container_metadata = \"metadata\"\r\n",
        "\r\n",
        "# Synapse linked service pointing to Cosmos DB Analytical Store - this is where we get the source data\r\n",
        "synapse_cosmos_db_linked_service = \"CosmosDbIoTLab\""
      ]
    },
    {
      "cell_type": "code",
      "execution_count": 2,
      "outputs": [
        {
          "output_type": "display_data",
          "data": {
            "application/vnd.livy.statement-meta+json": {
              "spark_pool": "spark8",
              "session_id": 2,
              "statement_id": 4,
              "state": "finished",
              "livy_statement_state": "available",
              "queued_time": "2020-08-20T12:48:02.4892843Z",
              "execution_start_time": "2020-08-20T12:53:56.0734841Z",
              "execution_finish_time": "2020-08-20T12:54:12.431927Z"
            },
            "text/plain": "StatementMeta(spark8, 2, 4, Finished, Available)"
          },
          "metadata": {}
        },
        {
          "execution_count": 2,
          "output_type": "execute_result",
          "data": {
            "text/plain": ""
          },
          "metadata": {}
        }
      ],
      "metadata": {
        "jupyter": {
          "source_hidden": false,
          "outputs_hidden": false
        },
        "nteract": {
          "transient": {
            "deleting": false
          }
        },
        "collapsed": true
      },
      "source": [
        "vehicle_metadata_df = spark.read\\\r\n",
        "    .format(\"cosmos.olap\")\\\r\n",
        "    .option(\"spark.synapse.linkedService\", synapse_cosmos_db_linked_service)\\\r\n",
        "    .option(\"spark.cosmos.container\", cosmos_db_container_metadata)\\\r\n",
        "    .load()"
      ]
    },
    {
      "cell_type": "code",
      "execution_count": 3,
      "outputs": [
        {
          "output_type": "display_data",
          "data": {
            "application/vnd.livy.statement-meta+json": {
              "spark_pool": "spark8",
              "session_id": 2,
              "statement_id": 5,
              "state": "finished",
              "livy_statement_state": "available",
              "queued_time": "2020-08-20T12:48:05.6219997Z",
              "execution_start_time": "2020-08-20T12:54:12.468529Z",
              "execution_finish_time": "2020-08-20T12:54:14.5111859Z"
            },
            "text/plain": "StatementMeta(spark8, 2, 5, Finished, Available)"
          },
          "metadata": {}
        },
        {
          "execution_count": 3,
          "output_type": "execute_result",
          "data": {
            "text/plain": "173707\nroot\n |-- _rid: string (nullable = true)\n |-- _ts: long (nullable = true)\n |-- id: string (nullable = true)\n |-- _etag: string (nullable = true)\n |-- partitionKey: string (nullable = true)\n |-- entityType: string (nullable = true)\n |-- vin: string (nullable = true)\n |-- lastServiceDate: string (nullable = true)\n |-- batteryAgeDays: long (nullable = true)\n |-- batteryRatedCycles: long (nullable = true)\n |-- lifetimeBatteryCyclesUsed: double (nullable = true)\n |-- averageDailyTripDuration: double (nullable = true)\n |-- batteryFailurePredicted: boolean (nullable = true)\n |-- stateVehicleRegistered: string (nullable = true)\n |-- customer: string (nullable = true)\n |-- description: integer (nullable = true)\n |-- status: string (nullable = true)\n |-- deliveryDueDate: string (nullable = true)\n |-- packages: array (nullable = true)\n |    |-- element: string (containsNull = true)\n |-- timestamp: string (nullable = true)\n |-- tripId: string (nullable = true)\n |-- consignmentId: string (nullable = true)\n |-- height: double (nullable = true)\n |-- length: double (nullable = true)\n |-- width: double (nullable = true)\n |-- grossWeight: double (nullable = true)\n |-- storageTemperature: long (nullable = true)\n |-- highValue: boolean (nullable = true)\n |-- trip: struct (nullable = true)\n |    |-- tripId: string (nullable = true)\n |    |-- vin: string (nullable = true)\n |    |-- plannedTripDistance: double (nullable = true)\n |-- consignment: struct (nullable = true)\n |    |-- consignmentId: string (nullable = true)\n |    |-- customer: string (nullable = true)\n |    |-- deliveryDueDate: string (nullable = true)\n |-- plannedTripDistance: double (nullable = true)\n |-- location: string (nullable = true)\n |-- odometerBegin: long (nullable = true)\n |-- odometerEnd: double (nullable = true)\n |-- temperatureSetting: long (nullable = true)\n |-- tripStarted: string (nullable = true)\n |-- tripEnded: string (nullable = true)\n |-- engineTemperature: double (nullable = true)\n |-- speed: double (nullable = true)\n |-- refrigerationUnitKw: double (nullable = true)\n |-- refrigerationUnitTemp: double (nullable = true)\n |-- engineTempAnomaly: long (nullable = true)\n |-- oilAnomaly: long (nullable = true)\n |-- aggressiveDriving: long (nullable = true)\n |-- refrigerationTempAnomaly: long (nullable = true)\n |-- snapshot: string (nullable = true)"
          },
          "metadata": {}
        }
      ],
      "metadata": {
        "jupyter": {
          "source_hidden": false,
          "outputs_hidden": false
        },
        "nteract": {
          "transient": {
            "deleting": false
          }
        },
        "collapsed": true
      },
      "source": [
        "print(vehicle_metadata_df.count())\r\n",
        "\r\n",
        "vehicle_metadata_df.printSchema()"
      ]
    },
    {
      "cell_type": "code",
      "execution_count": 4,
      "outputs": [
        {
          "output_type": "display_data",
          "data": {
            "application/vnd.livy.statement-meta+json": {
              "spark_pool": "spark8",
              "session_id": 2,
              "statement_id": 6,
              "state": "finished",
              "livy_statement_state": "available",
              "queued_time": "2020-08-20T12:48:06.036211Z",
              "execution_start_time": "2020-08-20T12:54:14.5465527Z",
              "execution_finish_time": "2020-08-20T12:54:16.5952839Z"
            },
            "text/plain": "StatementMeta(spark8, 2, 6, Finished, Available)"
          },
          "metadata": {}
        },
        {
          "execution_count": 4,
          "output_type": "execute_result",
          "data": {
            "text/plain": ""
          },
          "metadata": {}
        }
      ],
      "metadata": {
        "jupyter": {
          "source_hidden": false,
          "outputs_hidden": false
        },
        "nteract": {
          "transient": {
            "deleting": false
          }
        },
        "collapsed": true
      },
      "source": [
        "vehicle_metadata_df.createOrReplaceTempView(\"metadata\")"
      ]
    },
    {
      "cell_type": "code",
      "execution_count": 5,
      "outputs": [
        {
          "output_type": "display_data",
          "data": {
            "application/vnd.livy.statement-meta+json": {
              "spark_pool": "spark8",
              "session_id": 2,
              "statement_id": 7,
              "state": "finished",
              "livy_statement_state": "available",
              "queued_time": "2020-08-20T12:48:06.4829155Z",
              "execution_start_time": "2020-08-20T12:54:16.6348575Z",
              "execution_finish_time": "2020-08-20T12:54:27.0218579Z"
            },
            "text/plain": "StatementMeta(spark8, 2, 7, Finished, Available)"
          },
          "metadata": {}
        },
        {
          "execution_count": 5,
          "output_type": "execute_result",
          "data": {
            "text/plain": ""
          },
          "metadata": {}
        }
      ],
      "metadata": {
        "jupyter": {
          "source_hidden": false,
          "outputs_hidden": false
        },
        "nteract": {
          "transient": {
            "deleting": false
          }
        },
        "collapsed": true
      },
      "source": [
        "trips_clean_df = spark.sql(\"\"\"\r\n",
        "    SELECT  vin, \r\n",
        "            to_utc_timestamp(tripEnded, \\\"yyyy-MM-dd'T'HH:mm:ss.SSSX'Z'\\\") as tripEnded, \r\n",
        "            to_utc_timestamp(tripStarted, \\\"yyyy-MM-dd'T'HH:mm:ss.SSSX'Z'\\\") as tripStarted, \r\n",
        "            ((unix_timestamp(to_utc_timestamp(tripEnded, \\\"yyyy-MM-dd'T'HH:mm:ss.SSSX'Z'\\\")) - \r\n",
        "                unix_timestamp(to_utc_timestamp(tripStarted, \\\"yyyy-MM-dd'T'HH:mm:ss.SSSX'Z'\\\")))/60.0) as tripDurationMinutes\r\n",
        "    FROM metadata\r\n",
        "    WHERE entityType = 'Trip' AND status = 'Completed'\r\n",
        "    \"\"\")\r\n",
        "\r\n",
        "trips_clean_df.createOrReplaceTempView(\"trips_clean\")"
      ]
    },
    {
      "cell_type": "code",
      "execution_count": 6,
      "outputs": [
        {
          "output_type": "display_data",
          "data": {
            "application/vnd.livy.statement-meta+json": {
              "spark_pool": "spark8",
              "session_id": 2,
              "statement_id": 8,
              "state": "finished",
              "livy_statement_state": "available",
              "queued_time": "2020-08-20T12:48:06.9210648Z",
              "execution_start_time": "2020-08-20T12:54:27.0576795Z",
              "execution_finish_time": "2020-08-20T12:54:29.1038635Z"
            },
            "text/plain": "StatementMeta(spark8, 2, 8, Finished, Available)"
          },
          "metadata": {}
        },
        {
          "execution_count": 6,
          "output_type": "execute_result",
          "data": {
            "text/plain": "110\nroot\n |-- vin: string (nullable = true)\n |-- tripEnded: timestamp (nullable = true)\n |-- tripStarted: timestamp (nullable = true)\n |-- tripDurationMinutes: decimal(27,6) (nullable = true)"
          },
          "metadata": {}
        }
      ],
      "metadata": {
        "jupyter": {
          "source_hidden": false,
          "outputs_hidden": false
        },
        "nteract": {
          "transient": {
            "deleting": false
          }
        },
        "collapsed": true
      },
      "source": [
        "print(trips_clean_df.count())\r\n",
        "\r\n",
        "trips_clean_df.printSchema()"
      ]
    },
    {
      "cell_type": "code",
      "execution_count": 7,
      "outputs": [
        {
          "output_type": "display_data",
          "data": {
            "application/vnd.livy.statement-meta+json": {
              "spark_pool": "spark8",
              "session_id": 2,
              "statement_id": 9,
              "state": "finished",
              "livy_statement_state": "available",
              "queued_time": "2020-08-20T12:48:07.2906856Z",
              "execution_start_time": "2020-08-20T12:54:29.1414412Z",
              "execution_finish_time": "2020-08-20T12:54:31.1939054Z"
            },
            "text/plain": "StatementMeta(spark8, 2, 9, Finished, Available)"
          },
          "metadata": {}
        },
        {
          "execution_count": 7,
          "output_type": "execute_result",
          "data": {
            "text/plain": ""
          },
          "metadata": {}
        }
      ],
      "metadata": {
        "jupyter": {
          "source_hidden": false,
          "outputs_hidden": false
        },
        "nteract": {
          "transient": {
            "deleting": false
          }
        },
        "collapsed": true
      },
      "source": [
        "vehicles_raw_df = spark.sql(\"\"\"\r\n",
        "    SELECT vin, batteryAgeDays, batteryRatedCycles, lifetimeBatteryCyclesUsed \r\n",
        "    FROM metadata \r\n",
        "    WHERE entityType ='Vehicle'\r\n",
        "    \"\"\")\r\n",
        "\r\n",
        "vehicles_raw_df.createOrReplaceTempView(\"vehicles_raw\")"
      ]
    },
    {
      "cell_type": "code",
      "execution_count": 8,
      "outputs": [
        {
          "output_type": "display_data",
          "data": {
            "application/vnd.livy.statement-meta+json": {
              "spark_pool": "spark8",
              "session_id": 2,
              "statement_id": 10,
              "state": "finished",
              "livy_statement_state": "available",
              "queued_time": "2020-08-20T12:48:07.831244Z",
              "execution_start_time": "2020-08-20T12:54:31.230026Z",
              "execution_finish_time": "2020-08-20T12:54:33.2733818Z"
            },
            "text/plain": "StatementMeta(spark8, 2, 10, Finished, Available)"
          },
          "metadata": {}
        },
        {
          "execution_count": 8,
          "output_type": "execute_result",
          "data": {
            "text/plain": "1000\nroot\n |-- vin: string (nullable = true)\n |-- batteryAgeDays: long (nullable = true)\n |-- batteryRatedCycles: long (nullable = true)\n |-- lifetimeBatteryCyclesUsed: double (nullable = true)"
          },
          "metadata": {}
        }
      ],
      "metadata": {
        "jupyter": {
          "source_hidden": false,
          "outputs_hidden": false
        },
        "nteract": {
          "transient": {
            "deleting": false
          }
        },
        "collapsed": true
      },
      "source": [
        "print(vehicles_raw_df.count())\r\n",
        "\r\n",
        "vehicles_raw_df.printSchema()"
      ]
    },
    {
      "cell_type": "code",
      "execution_count": 9,
      "outputs": [
        {
          "output_type": "display_data",
          "data": {
            "application/vnd.livy.statement-meta+json": {
              "spark_pool": "spark8",
              "session_id": 2,
              "statement_id": 11,
              "state": "finished",
              "livy_statement_state": "available",
              "queued_time": "2020-08-20T12:48:08.6802586Z",
              "execution_start_time": "2020-08-20T12:54:33.3101531Z",
              "execution_finish_time": "2020-08-20T12:54:35.3540131Z"
            },
            "text/plain": "StatementMeta(spark8, 2, 11, Finished, Available)"
          },
          "metadata": {}
        },
        {
          "execution_count": 9,
          "output_type": "execute_result",
          "data": {
            "text/plain": ""
          },
          "metadata": {}
        }
      ],
      "metadata": {
        "jupyter": {
          "source_hidden": false,
          "outputs_hidden": false
        },
        "nteract": {
          "transient": {
            "deleting": false
          }
        },
        "collapsed": true
      },
      "source": [
        "batch_df = spark.sql(\"\"\"\r\n",
        "    SELECT  v.vin as vin, \r\n",
        "            to_date(t.tripEnded, 'yyyy-MM-dd') as tripEnded, \r\n",
        "            t.tripDurationMinutes, \r\n",
        "            v.batteryAgeDays, \r\n",
        "            v.batteryRatedCycles, \r\n",
        "            v.lifetimeBatteryCyclesUsed,\r\n",
        "            CASE\r\n",
        "                WHEN ( v.lifetimeBatteryCyclesUsed + (30 * v.lifetimeBatteryCyclesUsed / v.batteryAgeDays) > v.batteryRatedCycles ) THEN 1\r\n",
        "                ELSE 0\r\n",
        "            END as maint_needed\r\n",
        "    FROM    vehicles_raw v \r\n",
        "    INNER JOIN trips_clean t \r\n",
        "        ON v.vin = t.vin\r\n",
        "    \"\"\")"
      ]
    },
    {
      "cell_type": "code",
      "execution_count": 10,
      "outputs": [
        {
          "output_type": "display_data",
          "data": {
            "application/vnd.livy.statement-meta+json": {
              "spark_pool": "spark8",
              "session_id": 2,
              "statement_id": 12,
              "state": "finished",
              "livy_statement_state": "available",
              "queued_time": "2020-08-20T12:48:09.4336771Z",
              "execution_start_time": "2020-08-20T12:54:35.3909636Z",
              "execution_finish_time": "2020-08-20T12:54:37.4356299Z"
            },
            "text/plain": "StatementMeta(spark8, 2, 12, Finished, Available)"
          },
          "metadata": {}
        },
        {
          "execution_count": 10,
          "output_type": "execute_result",
          "data": {
            "text/plain": "110\nroot\n |-- vin: string (nullable = true)\n |-- tripEnded: date (nullable = true)\n |-- tripDurationMinutes: decimal(27,6) (nullable = true)\n |-- batteryAgeDays: long (nullable = true)\n |-- batteryRatedCycles: long (nullable = true)\n |-- lifetimeBatteryCyclesUsed: double (nullable = true)\n |-- maint_needed: integer (nullable = false)"
          },
          "metadata": {}
        }
      ],
      "metadata": {
        "jupyter": {
          "source_hidden": false,
          "outputs_hidden": false
        },
        "nteract": {
          "transient": {
            "deleting": false
          }
        },
        "collapsed": true
      },
      "source": [
        "print(batch_df.count())\r\n",
        "\r\n",
        "batch_df.printSchema()"
      ]
    },
    {
      "cell_type": "code",
      "execution_count": 11,
      "outputs": [
        {
          "output_type": "display_data",
          "data": {
            "application/vnd.livy.statement-meta+json": {
              "spark_pool": "spark8",
              "session_id": 2,
              "statement_id": 13,
              "state": "finished",
              "livy_statement_state": "available",
              "queued_time": "2020-08-20T12:48:13.0460076Z",
              "execution_start_time": "2020-08-20T12:54:37.4745558Z",
              "execution_finish_time": "2020-08-20T12:54:39.5132436Z"
            },
            "text/plain": "StatementMeta(spark8, 2, 13, Finished, Available)"
          },
          "metadata": {}
        },
        {
          "execution_count": 11,
          "output_type": "execute_result",
          "data": {
            "text/plain": "+-----------------+----------+-------------------+--------------+------------------+-------------------------+------------+\n|              vin| tripEnded|tripDurationMinutes|batteryAgeDays|batteryRatedCycles|lifetimeBatteryCyclesUsed|maint_needed|\n+-----------------+----------+-------------------+--------------+------------------+-------------------------+------------+\n|T8DNDN5UDCWL7M72H|2020-07-09|          19.750000|           112|               200|        12.56852760294626|           0|\n|0ZGVI20GIS84M1B4D|2020-07-09|          33.433333|           664|               200|        73.11092063018555|           0|\n|9K3NPUOHFCGGMDO9G|2020-07-09|          20.816667|           275|               200|       29.630602915264014|           0|\n|V5V483U7H0713ZAQ0|2020-07-09|          23.866667|           814|               200|       103.54608638921663|           0|\n|ZUM234INX6MPOJ1D6|2020-07-09|          36.950000|          1071|               200|       123.67412813528725|           0|\n|5FY0WL5EQPVD9LKYW|2020-07-09|          36.250000|          1276|               200|       215.44704130502672|           1|\n|9ZMA2FR6LFGXAB4YJ|2020-07-09|          20.116667|           361|               200|        56.91020845529577|           0|\n|P32QUJV32R5ZOCLIB|2020-07-09|          16.116667|           167|               200|       23.679776257887006|           0|\n|QPLT2V1KC14RVJ2HZ|2020-07-09|          21.116667|           954|               200|        176.1141555085468|           0|\n|D5NP0JQW13P5IALBN|2020-07-09|          24.500000|          1499|               200|        258.9012436724732|           1|\n|NNLRTNV7UVZF1YJ5U|2020-07-09|          29.133333|           963|               200|        133.8023083297731|           0|\n|PZQAYREQWH527DV50|2020-07-09|          20.983333|          1199|               200|       221.95789056871007|           1|\n|TNZWN4KCBEAFU2PY4|2020-07-09|          36.616667|           506|               200|        65.37857016784706|           0|\n|B0RTKSTPYD2DGODTV|2020-07-09|          17.133333|          1078|               200|       173.82311685489077|           0|\n|1Q2FOUKE63J7OK3LI|2020-06-28|          72.983333|           951|               200|       163.06117008561603|           0|\n|KMXVZZGIYQNL8CW3B|2020-07-09|          38.133333|           125|               200|       15.243586023474851|           0|\n|DRT0Q802HU1LZCI3T|2020-07-09|          41.983333|           833|               200|       132.26182964106437|           0|\n|LP9A6PXHGPDYCT154|2020-07-09|          17.016667|          1416|               200|       238.07059410289682|           1|\n|L2IK6CE4KVESWBQLA|2020-07-09|          41.183333|           605|               200|        97.12690632559308|           0|\n|AZGRJZ1Q4K8LY3IDS|2020-07-08|         279.866667|          1140|               200|       136.41530644423855|           0|\n+-----------------+----------+-------------------+--------------+------------------+-------------------------+------------+\nonly showing top 20 rows"
          },
          "metadata": {}
        }
      ],
      "metadata": {
        "jupyter": {
          "source_hidden": false,
          "outputs_hidden": false
        },
        "nteract": {
          "transient": {
            "deleting": false
          }
        },
        "collapsed": true
      },
      "source": [
        "batch_df.show()"
      ]
    },
    {
      "cell_type": "code",
      "execution_count": 12,
      "outputs": [
        {
          "output_type": "display_data",
          "data": {
            "application/vnd.livy.statement-meta+json": {
              "spark_pool": "spark8",
              "session_id": 2,
              "statement_id": 14,
              "state": "finished",
              "livy_statement_state": "available",
              "queued_time": "2020-08-20T12:48:13.504131Z",
              "execution_start_time": "2020-08-20T12:54:39.5511041Z",
              "execution_finish_time": "2020-08-20T12:54:49.7807781Z"
            },
            "text/plain": "StatementMeta(spark8, 2, 14, Finished, Available)"
          },
          "metadata": {}
        },
        {
          "execution_count": 12,
          "output_type": "execute_result",
          "data": {
            "text/plain": ""
          },
          "metadata": {}
        }
      ],
      "metadata": {
        "jupyter": {
          "source_hidden": false,
          "outputs_hidden": false
        },
        "nteract": {
          "transient": {
            "deleting": false
          }
        },
        "collapsed": true
      },
      "source": [
        "sa_uri = \"abfss://workspace@\" + storage_acct_name + \".dfs.core.windows.net/\" + storage_path_raw\r\n",
        "\r\n",
        "batch_df.write.parquet(sa_uri)"
      ]
    },
    {
      "cell_type": "code",
      "execution_count": null,
      "outputs": [],
      "metadata": {
        "jupyter": {
          "source_hidden": false,
          "outputs_hidden": false
        },
        "nteract": {
          "transient": {
            "deleting": false
          }
        },
        "collapsed": true
      },
      "source": [
        ""
      ]
    }
  ]
}