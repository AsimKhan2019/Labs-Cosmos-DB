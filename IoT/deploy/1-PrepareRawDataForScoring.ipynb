{
  "metadata": {
    "kernelspec": {
      "name": "synapse_pyspark",
      "display_name": "Synapse PySpark"
    },
    "language_info": {
      "name": "python"
    },
    "sessionKeepAliveTimeout": 30
  },
  "nbformat": 4,
  "nbformat_minor": 2,
  "cells": [
    {
      "cell_type": "code",
      "execution_count": null,
      "outputs": [
        {
          "output_type": "display_data",
          "data": {
            "application/vnd.livy.statement-meta+json": {
              "spark_pool": "spark1",
              "session_id": 30,
              "statement_id": 4,
              "state": "submitted",
              "livy_statement_state": "available",
              "queued_time": "2020-09-01T20:48:36.7265259Z",
              "execution_start_time": "2020-09-01T20:52:58.8550723Z",
              "execution_finish_time": null
            },
            "text/plain": "StatementMeta(spark1, 30, 4, Submitted, Available)"
          },
          "metadata": {}
        }
      ],
      "metadata": {},
      "source": [
        "# Variables\r\n",
        "\r\n",
        "# Storage account name for the Synapse WS storage account - starts with \"synsa\"\r\n",
        "storage_acct_name = \"\"\r\n",
        "storage_container_name = \"workspace\"\r\n",
        "storage_path_raw = \"lab-data/raw/\"\r\n",
        "\r\n",
        "# Cosmos DB\r\n",
        "cosmos_db_container_metadata = \"metadata\"\r\n",
        "\r\n",
        "# Synapse linked service pointing to Cosmos DB Analytical Store - this is where we get the source data\r\n",
        "synapse_cosmos_db_linked_service = \"CosmosDbIoTLab\""
      ]
    },
    {
      "cell_type": "code",
      "execution_count": null,
      "outputs": [
        {
          "output_type": "display_data",
          "data": {
            "application/vnd.livy.statement-meta+json": {
              "spark_pool": "spark1",
              "session_id": 30,
              "statement_id": 5,
              "state": "finished",
              "livy_statement_state": "available",
              "queued_time": "2020-09-01T20:48:36.7376847Z",
              "execution_start_time": "2020-09-01T20:52:58.891689Z",
              "execution_finish_time": "2020-09-01T20:53:19.3436015Z"
            },
            "text/plain": "StatementMeta(spark1, 30, 5, Finished, Available)"
          },
          "metadata": {}
        }
      ],
      "metadata": {
        "jupyter": {
          "source_hidden": false,
          "outputs_hidden": false
        },
        "nteract": {
          "transient": {
            "deleting": false
          }
        },
        "collapsed": true
      },
      "source": [
        "vehicle_metadata_df = spark.read\\\r\n",
        "    .format(\"cosmos.olap\")\\\r\n",
        "    .option(\"spark.synapse.linkedService\", synapse_cosmos_db_linked_service)\\\r\n",
        "    .option(\"spark.cosmos.container\", cosmos_db_container_metadata)\\\r\n",
        "    .load()"
      ]
    },
    {
      "cell_type": "code",
      "execution_count": 14,
      "outputs": [
        {
          "output_type": "display_data",
          "data": {
            "application/vnd.livy.statement-meta+json": {
              "spark_pool": "spark1",
              "session_id": 30,
              "statement_id": 16,
              "state": "finished",
              "livy_statement_state": "available",
              "queued_time": "2020-09-01T20:56:10.7123076Z",
              "execution_start_time": "2020-09-01T20:56:10.7513266Z",
              "execution_finish_time": "2020-09-01T20:56:12.7860007Z"
            },
            "text/plain": "StatementMeta(spark1, 30, 16, Finished, Available)"
          },
          "metadata": {}
        },
        {
          "execution_count": 14,
          "output_type": "execute_result",
          "data": {
            "text/plain": "173707\nroot\n |-- _rid: string (nullable = true)\n |-- _ts: long (nullable = true)\n |-- id: string (nullable = true)\n |-- _etag: string (nullable = true)\n |-- partitionKey: string (nullable = true)\n |-- entityType: string (nullable = true)\n |-- vin: string (nullable = true)\n |-- lastServiceDate: string (nullable = true)\n |-- batteryAgeDays: long (nullable = true)\n |-- batteryRatedCycles: long (nullable = true)\n |-- lifetimeBatteryCyclesUsed: double (nullable = true)\n |-- averageDailyTripDuration: double (nullable = true)\n |-- batteryFailurePredicted: boolean (nullable = true)\n |-- stateVehicleRegistered: string (nullable = true)\n |-- customer: string (nullable = true)\n |-- description: integer (nullable = true)\n |-- status: string (nullable = true)\n |-- deliveryDueDate: string (nullable = true)\n |-- packages: array (nullable = true)\n |    |-- element: string (containsNull = true)\n |-- timestamp: string (nullable = true)\n |-- tripId: string (nullable = true)\n |-- consignmentId: string (nullable = true)\n |-- height: double (nullable = true)\n |-- length: double (nullable = true)\n |-- width: double (nullable = true)\n |-- grossWeight: double (nullable = true)\n |-- storageTemperature: long (nullable = true)\n |-- highValue: boolean (nullable = true)\n |-- trip: struct (nullable = true)\n |    |-- tripId: string (nullable = true)\n |    |-- vin: string (nullable = true)\n |    |-- plannedTripDistance: double (nullable = true)\n |-- consignment: struct (nullable = true)\n |    |-- consignmentId: string (nullable = true)\n |    |-- customer: string (nullable = true)\n |    |-- deliveryDueDate: string (nullable = true)\n |-- plannedTripDistance: double (nullable = true)\n |-- location: string (nullable = true)\n |-- odometerBegin: long (nullable = true)\n |-- odometerEnd: double (nullable = true)\n |-- temperatureSetting: long (nullable = true)\n |-- tripStarted: string (nullable = true)\n |-- tripEnded: string (nullable = true)\n |-- engineTemperature: double (nullable = true)\n |-- speed: double (nullable = true)\n |-- refrigerationUnitKw: double (nullable = true)\n |-- refrigerationUnitTemp: double (nullable = true)\n |-- engineTempAnomaly: long (nullable = true)\n |-- oilAnomaly: long (nullable = true)\n |-- aggressiveDriving: long (nullable = true)\n |-- refrigerationTempAnomaly: long (nullable = true)\n |-- snapshot: string (nullable = true)"
          },
          "metadata": {}
        }
      ],
      "metadata": {
        "jupyter": {
          "source_hidden": false,
          "outputs_hidden": false
        },
        "nteract": {
          "transient": {
            "deleting": false
          }
        },
        "collapsed": true
      },
      "source": [
        "print(vehicle_metadata_df.count())\r\n",
        "\r\n",
        "vehicle_metadata_df.printSchema()"
      ]
    },
    {
      "cell_type": "code",
      "execution_count": 15,
      "outputs": [
        {
          "output_type": "display_data",
          "data": {
            "application/vnd.livy.statement-meta+json": {
              "spark_pool": "spark1",
              "session_id": 30,
              "statement_id": 17,
              "state": "finished",
              "livy_statement_state": "available",
              "queued_time": "2020-09-01T20:56:14.7159141Z",
              "execution_start_time": "2020-09-01T20:56:14.7540999Z",
              "execution_finish_time": "2020-09-01T20:56:16.8009208Z"
            },
            "text/plain": "StatementMeta(spark1, 30, 17, Finished, Available)"
          },
          "metadata": {}
        },
        {
          "execution_count": 15,
          "output_type": "execute_result",
          "data": {
            "text/plain": ""
          },
          "metadata": {}
        }
      ],
      "metadata": {
        "jupyter": {
          "source_hidden": false,
          "outputs_hidden": false
        },
        "nteract": {
          "transient": {
            "deleting": false
          }
        },
        "collapsed": true
      },
      "source": [
        "vehicle_metadata_df.createOrReplaceTempView(\"metadata\")"
      ]
    },
    {
      "cell_type": "code",
      "execution_count": 16,
      "outputs": [
        {
          "output_type": "display_data",
          "data": {
            "application/vnd.livy.statement-meta+json": {
              "spark_pool": "spark1",
              "session_id": 30,
              "statement_id": 18,
              "state": "finished",
              "livy_statement_state": "available",
              "queued_time": "2020-09-01T20:56:23.8009696Z",
              "execution_start_time": "2020-09-01T20:56:23.8450598Z",
              "execution_finish_time": "2020-09-01T20:56:25.8951137Z"
            },
            "text/plain": "StatementMeta(spark1, 30, 18, Finished, Available)"
          },
          "metadata": {}
        },
        {
          "execution_count": 16,
          "output_type": "execute_result",
          "data": {
            "text/plain": ""
          },
          "metadata": {}
        }
      ],
      "metadata": {
        "jupyter": {
          "source_hidden": false,
          "outputs_hidden": false
        },
        "nteract": {
          "transient": {
            "deleting": false
          }
        },
        "collapsed": true
      },
      "source": [
        "trips_clean_df = spark.sql(\"\"\"\r\n",
        "    SELECT  vin, \r\n",
        "            to_utc_timestamp(tripEnded, \\\"yyyy-MM-dd'T'HH:mm:ss.SSSX'Z'\\\") as tripEnded, \r\n",
        "            to_utc_timestamp(tripStarted, \\\"yyyy-MM-dd'T'HH:mm:ss.SSSX'Z'\\\") as tripStarted, \r\n",
        "            ((unix_timestamp(to_utc_timestamp(tripEnded, \\\"yyyy-MM-dd'T'HH:mm:ss.SSSX'Z'\\\")) - \r\n",
        "                unix_timestamp(to_utc_timestamp(tripStarted, \\\"yyyy-MM-dd'T'HH:mm:ss.SSSX'Z'\\\")))/60.0) as tripDurationMinutes\r\n",
        "    FROM metadata\r\n",
        "    WHERE entityType = 'Trip' AND status = 'Completed'\r\n",
        "    \"\"\")\r\n",
        "\r\n",
        "trips_clean_df.createOrReplaceTempView(\"trips_clean\")"
      ]
    },
    {
      "cell_type": "code",
      "execution_count": 17,
      "outputs": [
        {
          "output_type": "display_data",
          "data": {
            "application/vnd.livy.statement-meta+json": {
              "spark_pool": "spark1",
              "session_id": 30,
              "statement_id": 19,
              "state": "finished",
              "livy_statement_state": "available",
              "queued_time": "2020-09-01T20:56:28.3028279Z",
              "execution_start_time": "2020-09-01T20:56:28.3374314Z",
              "execution_finish_time": "2020-09-01T20:56:30.383606Z"
            },
            "text/plain": "StatementMeta(spark1, 30, 19, Finished, Available)"
          },
          "metadata": {}
        },
        {
          "execution_count": 17,
          "output_type": "execute_result",
          "data": {
            "text/plain": "110\nroot\n |-- vin: string (nullable = true)\n |-- tripEnded: timestamp (nullable = true)\n |-- tripStarted: timestamp (nullable = true)\n |-- tripDurationMinutes: decimal(27,6) (nullable = true)"
          },
          "metadata": {}
        }
      ],
      "metadata": {
        "jupyter": {
          "source_hidden": false,
          "outputs_hidden": false
        },
        "nteract": {
          "transient": {
            "deleting": false
          }
        },
        "collapsed": true
      },
      "source": [
        "print(trips_clean_df.count())\r\n",
        "\r\n",
        "trips_clean_df.printSchema()"
      ]
    },
    {
      "cell_type": "code",
      "execution_count": 18,
      "outputs": [
        {
          "output_type": "display_data",
          "data": {
            "application/vnd.livy.statement-meta+json": {
              "spark_pool": "spark1",
              "session_id": 30,
              "statement_id": 20,
              "state": "finished",
              "livy_statement_state": "available",
              "queued_time": "2020-09-01T20:56:28.7441497Z",
              "execution_start_time": "2020-09-01T20:56:30.4202716Z",
              "execution_finish_time": "2020-09-01T20:56:32.4637787Z"
            },
            "text/plain": "StatementMeta(spark1, 30, 20, Finished, Available)"
          },
          "metadata": {}
        },
        {
          "execution_count": 18,
          "output_type": "execute_result",
          "data": {
            "text/plain": ""
          },
          "metadata": {}
        }
      ],
      "metadata": {
        "jupyter": {
          "source_hidden": false,
          "outputs_hidden": false
        },
        "nteract": {
          "transient": {
            "deleting": false
          }
        },
        "collapsed": true
      },
      "source": [
        "vehicles_raw_df = spark.sql(\"\"\"\r\n",
        "    SELECT vin, batteryAgeDays, batteryRatedCycles, lifetimeBatteryCyclesUsed \r\n",
        "    FROM metadata \r\n",
        "    WHERE entityType ='Vehicle'\r\n",
        "    \"\"\")\r\n",
        "\r\n",
        "vehicles_raw_df.createOrReplaceTempView(\"vehicles_raw\")"
      ]
    },
    {
      "cell_type": "code",
      "execution_count": 19,
      "outputs": [
        {
          "output_type": "display_data",
          "data": {
            "application/vnd.livy.statement-meta+json": {
              "spark_pool": "spark1",
              "session_id": 30,
              "statement_id": 21,
              "state": "finished",
              "livy_statement_state": "available",
              "queued_time": "2020-09-01T20:56:29.2597856Z",
              "execution_start_time": "2020-09-01T20:56:32.4928053Z",
              "execution_finish_time": "2020-09-01T20:56:34.5340341Z"
            },
            "text/plain": "StatementMeta(spark1, 30, 21, Finished, Available)"
          },
          "metadata": {}
        },
        {
          "execution_count": 19,
          "output_type": "execute_result",
          "data": {
            "text/plain": "1000\nroot\n |-- vin: string (nullable = true)\n |-- batteryAgeDays: long (nullable = true)\n |-- batteryRatedCycles: long (nullable = true)\n |-- lifetimeBatteryCyclesUsed: double (nullable = true)"
          },
          "metadata": {}
        }
      ],
      "metadata": {
        "jupyter": {
          "source_hidden": false,
          "outputs_hidden": false
        },
        "nteract": {
          "transient": {
            "deleting": false
          }
        },
        "collapsed": true
      },
      "source": [
        "print(vehicles_raw_df.count())\r\n",
        "\r\n",
        "vehicles_raw_df.printSchema()"
      ]
    },
    {
      "cell_type": "code",
      "execution_count": 20,
      "outputs": [
        {
          "output_type": "display_data",
          "data": {
            "application/vnd.livy.statement-meta+json": {
              "spark_pool": "spark1",
              "session_id": 30,
              "statement_id": 22,
              "state": "finished",
              "livy_statement_state": "available",
              "queued_time": "2020-09-01T20:56:32.9178009Z",
              "execution_start_time": "2020-09-01T20:56:34.5739646Z",
              "execution_finish_time": "2020-09-01T20:56:36.6267317Z"
            },
            "text/plain": "StatementMeta(spark1, 30, 22, Finished, Available)"
          },
          "metadata": {}
        },
        {
          "execution_count": 20,
          "output_type": "execute_result",
          "data": {
            "text/plain": ""
          },
          "metadata": {}
        }
      ],
      "metadata": {
        "jupyter": {
          "source_hidden": false,
          "outputs_hidden": false
        },
        "nteract": {
          "transient": {
            "deleting": false
          }
        },
        "collapsed": true
      },
      "source": [
        "# v.vin as vin, to_date(t.tripEnded, 'yyyy-MM-dd') as tripEnded,\r\n",
        "\r\n",
        "batch_df = spark.sql(\"\"\"\r\n",
        "    SELECT  v.vin,\r\n",
        "            v.batteryAgeDays, \r\n",
        "            v.batteryRatedCycles, \r\n",
        "            v.lifetimeBatteryCyclesUsed,\r\n",
        "            t.tripDurationMinutes\r\n",
        "    FROM    vehicles_raw v \r\n",
        "    INNER JOIN trips_clean t \r\n",
        "        ON v.vin = t.vin\r\n",
        "    \"\"\")"
      ]
    },
    {
      "cell_type": "code",
      "execution_count": 21,
      "outputs": [
        {
          "output_type": "display_data",
          "data": {
            "application/vnd.livy.statement-meta+json": {
              "spark_pool": "spark1",
              "session_id": 30,
              "statement_id": 23,
              "state": "finished",
              "livy_statement_state": "available",
              "queued_time": "2020-09-01T20:56:33.8048962Z",
              "execution_start_time": "2020-09-01T20:56:36.6631841Z",
              "execution_finish_time": "2020-09-01T20:56:38.7102346Z"
            },
            "text/plain": "StatementMeta(spark1, 30, 23, Finished, Available)"
          },
          "metadata": {}
        },
        {
          "execution_count": 21,
          "output_type": "execute_result",
          "data": {
            "text/plain": "110\nroot\n |-- vin: string (nullable = true)\n |-- batteryAgeDays: long (nullable = true)\n |-- batteryRatedCycles: long (nullable = true)\n |-- lifetimeBatteryCyclesUsed: double (nullable = true)\n |-- tripDurationMinutes: decimal(27,6) (nullable = true)"
          },
          "metadata": {}
        }
      ],
      "metadata": {
        "jupyter": {
          "source_hidden": false,
          "outputs_hidden": false
        },
        "nteract": {
          "transient": {
            "deleting": false
          }
        },
        "collapsed": true
      },
      "source": [
        "print(batch_df.count())\r\n",
        "\r\n",
        "batch_df.printSchema()"
      ]
    },
    {
      "cell_type": "code",
      "execution_count": 22,
      "outputs": [
        {
          "output_type": "display_data",
          "data": {
            "application/vnd.livy.statement-meta+json": {
              "spark_pool": "spark1",
              "session_id": 30,
              "statement_id": 24,
              "state": "finished",
              "livy_statement_state": "available",
              "queued_time": "2020-09-01T20:56:34.6318807Z",
              "execution_start_time": "2020-09-01T20:56:38.7459266Z",
              "execution_finish_time": "2020-09-01T20:56:40.7878065Z"
            },
            "text/plain": "StatementMeta(spark1, 30, 24, Finished, Available)"
          },
          "metadata": {}
        },
        {
          "execution_count": 22,
          "output_type": "execute_result",
          "data": {
            "text/plain": "+-----------------+--------------+------------------+-------------------------+-------------------+\n|              vin|batteryAgeDays|batteryRatedCycles|lifetimeBatteryCyclesUsed|tripDurationMinutes|\n+-----------------+--------------+------------------+-------------------------+-------------------+\n|T8DNDN5UDCWL7M72H|           112|               200|        12.56852760294626|          19.750000|\n|0ZGVI20GIS84M1B4D|           664|               200|        73.11092063018555|          33.433333|\n|9K3NPUOHFCGGMDO9G|           275|               200|       29.630602915264014|          20.816667|\n|V5V483U7H0713ZAQ0|           814|               200|       103.54608638921663|          23.866667|\n|ZUM234INX6MPOJ1D6|          1071|               200|       123.67412813528725|          36.950000|\n|5FY0WL5EQPVD9LKYW|          1276|               200|       215.44704130502672|          36.250000|\n|9ZMA2FR6LFGXAB4YJ|           361|               200|        56.91020845529577|          20.116667|\n|P32QUJV32R5ZOCLIB|           167|               200|       23.679776257887006|          16.116667|\n|QPLT2V1KC14RVJ2HZ|           954|               200|        176.1141555085468|          21.116667|\n|D5NP0JQW13P5IALBN|          1499|               200|        258.9012436724732|          24.500000|\n|NNLRTNV7UVZF1YJ5U|           963|               200|        133.8023083297731|          29.133333|\n|PZQAYREQWH527DV50|          1199|               200|       221.95789056871007|          20.983333|\n|TNZWN4KCBEAFU2PY4|           506|               200|        65.37857016784706|          36.616667|\n|B0RTKSTPYD2DGODTV|          1078|               200|       173.82311685489077|          17.133333|\n|1Q2FOUKE63J7OK3LI|           951|               200|       163.06117008561603|          72.983333|\n|KMXVZZGIYQNL8CW3B|           125|               200|       15.243586023474851|          38.133333|\n|DRT0Q802HU1LZCI3T|           833|               200|       132.26182964106437|          41.983333|\n|LP9A6PXHGPDYCT154|          1416|               200|       238.07059410289682|          17.016667|\n|L2IK6CE4KVESWBQLA|           605|               200|        97.12690632559308|          41.183333|\n|AZGRJZ1Q4K8LY3IDS|          1140|               200|       136.41530644423855|         279.866667|\n+-----------------+--------------+------------------+-------------------------+-------------------+\nonly showing top 20 rows"
          },
          "metadata": {}
        }
      ],
      "metadata": {
        "jupyter": {
          "source_hidden": false,
          "outputs_hidden": false
        },
        "nteract": {
          "transient": {
            "deleting": false
          }
        },
        "collapsed": true
      },
      "source": [
        "batch_df.show()"
      ]
    },
    {
      "cell_type": "code",
      "execution_count": 23,
      "outputs": [
        {
          "output_type": "display_data",
          "data": {
            "application/vnd.livy.statement-meta+json": {
              "spark_pool": "spark1",
              "session_id": 30,
              "statement_id": 25,
              "state": "finished",
              "livy_statement_state": "available",
              "queued_time": "2020-09-01T20:56:45.2419994Z",
              "execution_start_time": "2020-09-01T20:56:45.2802236Z",
              "execution_finish_time": "2020-09-01T20:56:53.4896988Z"
            },
            "text/plain": "StatementMeta(spark1, 30, 25, Finished, Available)"
          },
          "metadata": {}
        },
        {
          "execution_count": 23,
          "output_type": "execute_result",
          "data": {
            "text/plain": ""
          },
          "metadata": {}
        }
      ],
      "metadata": {
        "jupyter": {
          "source_hidden": false,
          "outputs_hidden": false
        },
        "nteract": {
          "transient": {
            "deleting": false
          }
        },
        "collapsed": true
      },
      "source": [
        "sa_uri = \"abfss://workspace@\" + storage_acct_name + \".dfs.core.windows.net/\" + storage_path_raw\r\n",
        "\r\n",
        "batch_df.write.mode('overwrite').parquet(sa_uri)"
      ]
    },
    {
      "cell_type": "code",
      "execution_count": null,
      "outputs": [],
      "metadata": {
        "jupyter": {
          "source_hidden": false,
          "outputs_hidden": false
        },
        "nteract": {
          "transient": {
            "deleting": false
          }
        },
        "collapsed": true
      },
      "source": [
        ""
      ]
    }
  ]
}