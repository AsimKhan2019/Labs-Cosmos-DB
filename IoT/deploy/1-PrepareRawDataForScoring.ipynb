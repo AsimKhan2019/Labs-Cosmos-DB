{
  "metadata": {
    "kernelspec": {
      "name": "synapse_pyspark",
      "display_name": "Synapse PySpark"
    },
    "language_info": {
      "name": "python"
    },
    "sessionKeepAliveTimeout": 30
  },
  "nbformat": 4,
  "nbformat_minor": 2,
  "cells": [
    {
      "cell_type": "code",
      "execution_count": 1,
      "outputs": [],
      "metadata": {},
      "source": [
        "# Variables\r\n",
        "\r\n",
        "# Storage account name for the Synapse WS storage account - starts with \"synsa\"\r\n",
        "storage_acct_name lmi\"\r\n",
        "storage_container_name = \"workspace\"\r\n",
        "storage_path_raw = \"lab-data/raw/\"\r\n",
        "\r\n",
        "# Cosmos DB\r\n",
        "cosmos_db_container_metadata = \"metadata\"\r\n",
        "\r\n",
        "# Synapse linked service pointing to Cosmos DB Analytical Store - this is where we get the source data\r\n",
        "synapse_cosmos_db_linked_service = \"CosmosDbIoTLab\""
      ]
    },
    {
      "cell_type": "code",
      "execution_count": 2,
      "outputs": [],
      "metadata": {
        "jupyter": {
          "source_hidden": false,
          "outputs_hidden": false
        },
        "nteract": {
          "transient": {
            "deleting": false
          }
        },
        "collapsed": true
      },
      "source": [
        "vehicle_metadata_df = spark.read\\\r\n",
        "    .format(\"cosmos.olap\")\\\r\n",
        "    .option(\"spark.synapse.linkedService\", synapse_cosmos_db_linked_service)\\\r\n",
        "    .option(\"spark.cosmos.container\", cosmos_db_container_metadata)\\\r\n",
        "    .load()"
      ]
    },
    {
      "cell_type": "code",
      "execution_count": 3,
      "outputs": [],
      "metadata": {
        "jupyter": {
          "source_hidden": false,
          "outputs_hidden": false
        },
        "nteract": {
          "transient": {
            "deleting": false
          }
        },
        "collapsed": true
      },
      "source": [
        "print(vehicle_metadata_df.count())\r\n",
        "\r\n",
        "vehicle_metadata_df.printSchema()"
      ]
    },
    {
      "cell_type": "code",
      "execution_count": 4,
      "outputs": [],
      "metadata": {
        "jupyter": {
          "source_hidden": false,
          "outputs_hidden": false
        },
        "nteract": {
          "transient": {
            "deleting": false
          }
        },
        "collapsed": true
      },
      "source": [
        "vehicle_metadata_df.createOrReplaceTempView(\"metadata\")"
      ]
    },
    {
      "cell_type": "code",
      "execution_count": 5,
      "outputs": [],
      "metadata": {
        "jupyter": {
          "source_hidden": false,
          "outputs_hidden": false
        },
        "nteract": {
          "transient": {
            "deleting": false
          }
        },
        "collapsed": true
      },
      "source": [
        "trips_clean_df = spark.sql(\"\"\"\r\n",
        "    SELECT  vin, \r\n",
        "            to_utc_timestamp(tripEnded, \\\"yyyy-MM-dd'T'HH:mm:ss.SSSX'Z'\\\") as tripEnded, \r\n",
        "            to_utc_timestamp(tripStarted, \\\"yyyy-MM-dd'T'HH:mm:ss.SSSX'Z'\\\") as tripStarted, \r\n",
        "            ((unix_timestamp(to_utc_timestamp(tripEnded, \\\"yyyy-MM-dd'T'HH:mm:ss.SSSX'Z'\\\")) - \r\n",
        "                unix_timestamp(to_utc_timestamp(tripStarted, \\\"yyyy-MM-dd'T'HH:mm:ss.SSSX'Z'\\\")))/60.0) as tripDurationMinutes\r\n",
        "    FROM metadata\r\n",
        "    WHERE entityType = 'Trip' AND status = 'Completed'\r\n",
        "    \"\"\")\r\n",
        "\r\n",
        "trips_clean_df.createOrReplaceTempView(\"trips_clean\")"
      ]
    },
    {
      "cell_type": "code",
      "execution_count": 6,
      "outputs": [],
      "metadata": {
        "jupyter": {
          "source_hidden": false,
          "outputs_hidden": false
        },
        "nteract": {
          "transient": {
            "deleting": false
          }
        },
        "collapsed": true
      },
      "source": [
        "print(trips_clean_df.count())\r\n",
        "\r\n",
        "trips_clean_df.printSchema()"
      ]
    },
    {
      "cell_type": "code",
      "execution_count": 7,
      "outputs": [],
      "metadata": {
        "jupyter": {
          "source_hidden": false,
          "outputs_hidden": false
        },
        "nteract": {
          "transient": {
            "deleting": false
          }
        },
        "collapsed": true
      },
      "source": [
        "vehicles_raw_df = spark.sql(\"\"\"\r\n",
        "    SELECT vin, batteryAgeDays, batteryRatedCycles, lifetimeBatteryCyclesUsed \r\n",
        "    FROM metadata \r\n",
        "    WHERE entityType ='Vehicle'\r\n",
        "    \"\"\")\r\n",
        "\r\n",
        "vehicles_raw_df.createOrReplaceTempView(\"vehicles_raw\")"
      ]
    },
    {
      "cell_type": "code",
      "execution_count": 8,
      "outputs": [],
      "metadata": {
        "jupyter": {
          "source_hidden": false,
          "outputs_hidden": false
        },
        "nteract": {
          "transient": {
            "deleting": false
          }
        },
        "collapsed": true
      },
      "source": [
        "print(vehicles_raw_df.count())\r\n",
        "\r\n",
        "vehicles_raw_df.printSchema()"
      ]
    },
    {
      "cell_type": "code",
      "execution_count": 9,
      "outputs": [],
      "metadata": {
        "jupyter": {
          "source_hidden": false,
          "outputs_hidden": false
        },
        "nteract": {
          "transient": {
            "deleting": false
          }
        },
        "collapsed": true
      },
      "source": [
        "batch_df = spark.sql(\"\"\"\r\n",
        "    SELECT  v.vin as vin, \r\n",
        "            to_date(t.tripEnded, 'yyyy-MM-dd') as tripEnded, \r\n",
        "            t.tripDurationMinutes, \r\n",
        "            v.batteryAgeDays, \r\n",
        "            v.batteryRatedCycles, \r\n",
        "            v.lifetimeBatteryCyclesUsed,\r\n",
        "            CASE\r\n",
        "                WHEN ( v.lifetimeBatteryCyclesUsed + (30 * v.lifetimeBatteryCyclesUsed / v.batteryAgeDays) > v.batteryRatedCycles ) THEN 1\r\n",
        "                ELSE 0\r\n",
        "            END as maint_needed\r\n",
        "    FROM    vehicles_raw v \r\n",
        "    INNER JOIN trips_clean t \r\n",
        "        ON v.vin = t.vin\r\n",
        "    \"\"\")"
      ]
    },
    {
      "cell_type": "code",
      "execution_count": 10,
      "outputs": [],
      "metadata": {
        "jupyter": {
          "source_hidden": false,
          "outputs_hidden": false
        },
        "nteract": {
          "transient": {
            "deleting": false
          }
        },
        "collapsed": true
      },
      "source": [
        "print(batch_df.count())\r\n",
        "\r\n",
        "batch_df.printSchema()"
      ]
    },
    {
      "cell_type": "code",
      "execution_count": 11,
      "outputs": [],
      "metadata": {
        "jupyter": {
          "source_hidden": false,
          "outputs_hidden": false
        },
        "nteract": {
          "transient": {
            "deleting": false
          }
        },
        "collapsed": true
      },
      "source": [
        "batch_df.show()"
      ]
    },
    {
      "cell_type": "code",
      "execution_count": 12,
      "outputs": [],
      "metadata": {
        "jupyter": {
          "source_hidden": false,
          "outputs_hidden": false
        },
        "nteract": {
          "transient": {
            "deleting": false
          }
        },
        "collapsed": true
      },
      "source": [
        "sa_uri = \"abfss://workspace@\" + storage_acct_name + \".dfs.core.windows.net/\" + storage_path_raw\r\n",
        "\r\n",
        "batch_df.write.parquet(sa_uri)"
      ]
    },
    {
      "cell_type": "code",
      "execution_count": null,
      "outputs": [],
      "metadata": {
        "jupyter": {
          "source_hidden": false,
          "outputs_hidden": false
        },
        "nteract": {
          "transient": {
            "deleting": false
          }
        },
        "collapsed": true
      },
      "source": [
        ""
      ]
    }
  ]
}