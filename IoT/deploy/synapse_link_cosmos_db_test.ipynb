{
  "metadata": {
    "saveOutput": true,
    "language_info": {
      "name": "python"
    }
  },
  "nbformat": 4,
  "nbformat_minor": 2,
  "cells": [
    {
      "cell_type": "code",
      "execution_count": 3,
      "outputs": [],
      "metadata": {},
      "source": [
        "cdb_config_maintenance = {\n",
        "  \"spark.cosmos.synapse.linkedServiceName\" : \"cosmos_db_iot_6oqga6z3ahl3q\",\n",
        "  \"spark.cosmos.region\" : \"eastus\",\n",
        "  \"spark.cosmos.databaseName\" : \"ContosoAuto\",\n",
        "  \"spark.cosmos.containerName\" : \"maintenance\",\n",
        "}"
      ],
      "attachments": {}
    },
    {
      "cell_type": "code",
      "execution_count": 4,
      "outputs": [],
      "metadata": {},
      "source": [
        "cdb_config_metadata = {\n",
        "  \"spark.cosmos.synapse.linkedServiceName\" : \"cosmos_db_iot_6oqga6z3ahl3q\",\n",
        "  \"spark.cosmos.region\" : \"eastus\",\n",
        "  \"spark.cosmos.databaseName\" : \"ContosoAuto\",\n",
        "  \"spark.cosmos.containerName\" : \"metadata\",\n",
        "}"
      ],
      "attachments": {}
    },
    {
      "cell_type": "code",
      "execution_count": 5,
      "outputs": [],
      "metadata": {},
      "source": [
        "cdb_config_telemetry = {\n",
        "  \"spark.cosmos.synapse.linkedServiceName\" : \"cosmos_db_iot_6oqga6z3ahl3q\",\n",
        "  \"spark.cosmos.region\" : \"eastus\",\n",
        "  \"spark.cosmos.databaseName\" : \"ContosoAuto\",\n",
        "  \"spark.cosmos.containerName\" : \"telemetry\",\n",
        "}"
      ],
      "attachments": {}
    },
    {
      "cell_type": "code",
      "execution_count": 6,
      "outputs": [
        {
          "output_type": "execute_result",
          "execution_count": 6,
          "data": {
            "text/plain": "count is 0"
          },
          "metadata": {}
        }
      ],
      "metadata": {},
      "source": [
        "df_maintenance = spark.read.format(\"com.microsoft.azure.cosmos.analytics.spark.connector.CosmosSource\").options(**cdb_config_maintenance).load()\n",
        "\n",
        "print(\"count is \" + str(df_maintenance.count()))"
      ],
      "attachments": {}
    },
    {
      "cell_type": "code",
      "execution_count": 7,
      "outputs": [
        {
          "output_type": "execute_result",
          "execution_count": 7,
          "data": {
            "text/plain": "count is 170808"
          },
          "metadata": {}
        }
      ],
      "metadata": {},
      "source": [
        "df_metadata = spark.read.format(\"com.microsoft.azure.cosmos.analytics.spark.connector.CosmosSource\").options(**cdb_config_metadata).load()\n",
        "\n",
        "print(\"count is \" + str(df_metadata.count()))"
      ],
      "attachments": {}
    },
    {
      "cell_type": "code",
      "execution_count": 8,
      "outputs": [
        {
          "output_type": "execute_result",
          "execution_count": 8,
          "data": {
            "text/plain": "count is 566920"
          },
          "metadata": {}
        }
      ],
      "metadata": {},
      "source": [
        "df_telemetry = spark.read.format(\"com.microsoft.azure.cosmos.analytics.spark.connector.CosmosSource\").options(**cdb_config_telemetry).load()\n",
        "\n",
        "print(\"count is \" + str(df_telemetry.count()))"
      ],
      "attachments": {}
    },
    {
      "cell_type": "code",
      "execution_count": 9,
      "outputs": [],
      "metadata": {},
      "source": [
        "df_maintenance.createOrReplaceTempView(\"maintenance\")"
      ],
      "attachments": {}
    },
    {
      "cell_type": "code",
      "execution_count": 10,
      "outputs": [],
      "metadata": {},
      "source": [
        "df_metadata.createOrReplaceTempView(\"metadata\")"
      ],
      "attachments": {}
    },
    {
      "cell_type": "code",
      "execution_count": 9,
      "outputs": [],
      "metadata": {},
      "source": [
        "df_telemetry.createOrReplaceTempView(\"telemetry\")"
      ],
      "attachments": {}
    },
    {
      "cell_type": "code",
      "execution_count": 21,
      "outputs": [
        {
          "output_type": "execute_result",
          "data": {
            "application/json": {
              "rows": [],
              "schema": [
                "database",
                "tableName",
                "isTemporary"
              ]
            }
          },
          "execution_count": 21,
          "metadata": {}
        }
      ],
      "metadata": {
        "inputCollapsed": true,
        "outputCollapsed": true
      },
      "source": [
        "%%sql\n",
        "SHOW TABLES"
      ],
      "attachments": {}
    },
    {
      "cell_type": "code",
      "execution_count": 11,
      "outputs": [
        {
          "output_type": "execute_result",
          "data": {
            "application/json": {
              "rows": [
                [
                  855474
                ]
              ],
              "schema": [
                "count(1)"
              ]
            }
          },
          "execution_count": 11,
          "metadata": {}
        }
      ],
      "metadata": {},
      "source": [
        "%%sql\n",
        "SELECT COUNT(*) FROM telemetry"
      ],
      "attachments": {}
    },
    {
      "cell_type": "code",
      "execution_count": null,
      "outputs": [],
      "metadata": {},
      "source": [
        ""
      ],
      "attachments": {}
    }
  ]
}