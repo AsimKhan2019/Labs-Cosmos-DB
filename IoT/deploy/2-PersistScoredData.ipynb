{
  "metadata": {
    "kernelspec": {
      "name": "synapse_pyspark",
      "display_name": "Synapse PySpark"
    },
    "language_info": {
      "name": "python"
    },
    "sessionKeepAliveTimeout": 30
  },
  "nbformat": 4,
  "nbformat_minor": 2,
  "cells": [
    {
      "cell_type": "code",
      "execution_count": 1,
      "outputs": [
        {
          "output_type": "display_data",
          "data": {
            "application/vnd.livy.statement-meta+json": {
              "spark_pool": "spark1",
              "session_id": 27,
              "statement_id": 3,
              "state": "finished",
              "livy_statement_state": "available",
              "queued_time": "2020-08-26T20:24:15.4024277Z",
              "execution_start_time": "2020-08-26T20:27:07.6438232Z",
              "execution_finish_time": "2020-08-26T20:27:09.6942632Z"
            },
            "text/plain": "StatementMeta(spark1, 27, 3, Finished, Available)"
          },
          "metadata": {}
        },
        {
          "execution_count": 1,
          "output_type": "execute_result",
          "data": {
            "text/plain": ""
          },
          "metadata": {}
        }
      ],
      "metadata": {},
      "source": [
        "# Variables\r\n",
        "\r\n",
        "# Storage account name for the Synapse WS storage account - starts with \"synsa\"\r\n",
        "storage_acct_name lmi\"\r\n",
        "storage_container_name = \"workspace\"\r\n",
        "storage_path_scored = \"lab-data/scored/\"\r\n",
        "\r\n",
        "# Cosmos DB\r\n",
        "cosmos_db_database = \"ContosoAuto\"\r\n",
        "cosmos_db_container_metadata = \"metadata\"\r\n",
        "cosmos_db_container_maintenance = \"maintenance\"\r\n",
        "\r\n",
        "# Synapse linked service pointing to Cosmos DB Analytical Store - this is where we get the source data\r\n",
        "synapse_cosmos_db_linked_service = \"CosmosDbIoTLab\""
      ]
    },
    {
      "cell_type": "code",
      "execution_count": 2,
      "outputs": [
        {
          "output_type": "display_data",
          "data": {
            "application/vnd.livy.statement-meta+json": {
              "spark_pool": "spark1",
              "session_id": 27,
              "statement_id": 4,
              "state": "finished",
              "livy_statement_state": "available",
              "queued_time": "2020-08-26T20:28:29.7749127Z",
              "execution_start_time": "2020-08-26T20:28:29.8154737Z",
              "execution_finish_time": "2020-08-26T20:28:31.866035Z"
            },
            "text/plain": "StatementMeta(spark1, 27, 4, Finished, Available)"
          },
          "metadata": {}
        },
        {
          "execution_count": 2,
          "output_type": "execute_result",
          "data": {
            "text/plain": ""
          },
          "metadata": {}
        }
      ],
      "metadata": {
        "jupyter": {
          "source_hidden": false,
          "outputs_hidden": false
        },
        "nteract": {
          "transient": {
            "deleting": false
          }
        },
        "collapsed": true
      },
      "source": [
        "sa_uri = \"abfss://workspace@\" + storage_acct_name + \".dfs.core.windows.net/\" + storage_path_scored"
      ]
    },
    {
      "cell_type": "code",
      "execution_count": 3,
      "outputs": [
        {
          "output_type": "display_data",
          "data": {
            "application/vnd.livy.statement-meta+json": {
              "spark_pool": "spark1",
              "session_id": 27,
              "statement_id": 5,
              "state": "finished",
              "livy_statement_state": "available",
              "queued_time": "2020-08-26T20:28:30.3499007Z",
              "execution_start_time": "2020-08-26T20:28:31.9072502Z",
              "execution_finish_time": "2020-08-26T20:28:48.2602758Z"
            },
            "text/plain": "StatementMeta(spark1, 27, 5, Finished, Available)"
          },
          "metadata": {}
        },
        {
          "execution_count": 3,
          "output_type": "execute_result",
          "data": {
            "text/plain": ""
          },
          "metadata": {}
        }
      ],
      "metadata": {
        "jupyter": {
          "source_hidden": false,
          "outputs_hidden": false
        },
        "nteract": {
          "transient": {
            "deleting": false
          }
        },
        "collapsed": true
      },
      "source": [
        "scored_maintenance_df = spark.read.parquet(sa_uri)"
      ]
    },
    {
      "cell_type": "code",
      "execution_count": 4,
      "outputs": [
        {
          "output_type": "display_data",
          "data": {
            "application/vnd.livy.statement-meta+json": {
              "spark_pool": "spark1",
              "session_id": 27,
              "statement_id": 6,
              "state": "finished",
              "livy_statement_state": "available",
              "queued_time": "2020-08-26T20:28:31.0136071Z",
              "execution_start_time": "2020-08-26T20:28:48.3036669Z",
              "execution_finish_time": "2020-08-26T20:28:58.5133742Z"
            },
            "text/plain": "StatementMeta(spark1, 27, 6, Finished, Available)"
          },
          "metadata": {}
        },
        {
          "execution_count": 4,
          "output_type": "execute_result",
          "data": {
            "text/plain": "110\nroot\n |-- vin: string (nullable = true)\n |-- tripEnded: timestamp (nullable = true)\n |-- tripDurationMinutes: double (nullable = true)\n |-- batteryAgeDays: long (nullable = true)\n |-- batteryRatedCycles: long (nullable = true)\n |-- lifetimeBatteryCyclesUsed: double (nullable = true)\n |-- maint_needed: long (nullable = true)"
          },
          "metadata": {}
        }
      ],
      "metadata": {
        "jupyter": {
          "source_hidden": false,
          "outputs_hidden": false
        },
        "nteract": {
          "transient": {
            "deleting": false
          }
        },
        "collapsed": true
      },
      "source": [
        "print(scored_maintenance_df.count())\r\n",
        "\r\n",
        "scored_maintenance_df.printSchema()"
      ]
    },
    {
      "cell_type": "code",
      "execution_count": 5,
      "outputs": [
        {
          "output_type": "display_data",
          "data": {
            "application/vnd.livy.statement-meta+json": {
              "spark_pool": "spark1",
              "session_id": 27,
              "statement_id": 7,
              "state": "finished",
              "livy_statement_state": "available",
              "queued_time": "2020-08-26T20:28:33.5179763Z",
              "execution_start_time": "2020-08-26T20:28:58.5434815Z",
              "execution_finish_time": "2020-08-26T20:29:00.5838287Z"
            },
            "text/plain": "StatementMeta(spark1, 27, 7, Finished, Available)"
          },
          "metadata": {}
        },
        {
          "execution_count": 5,
          "output_type": "execute_result",
          "data": {
            "text/plain": "+-----------------+-------------------+-------------------+--------------+------------------+-------------------------+------------+\n|              vin|          tripEnded|tripDurationMinutes|batteryAgeDays|batteryRatedCycles|lifetimeBatteryCyclesUsed|maint_needed|\n+-----------------+-------------------+-------------------+--------------+------------------+-------------------------+------------+\n|T8DNDN5UDCWL7M72H|2020-07-09 00:00:00|              19.75|           112|               200|        12.56852760294626|           0|\n|0ZGVI20GIS84M1B4D|2020-07-09 00:00:00|          33.433333|           664|               200|        73.11092063018555|           0|\n|9K3NPUOHFCGGMDO9G|2020-07-09 00:00:00|          20.816667|           275|               200|       29.630602915264014|           0|\n|V5V483U7H0713ZAQ0|2020-07-09 00:00:00|          23.866667|           814|               200|       103.54608638921663|           0|\n|ZUM234INX6MPOJ1D6|2020-07-09 00:00:00|              36.95|          1071|               200|       123.67412813528725|           0|\n|5FY0WL5EQPVD9LKYW|2020-07-09 00:00:00|              36.25|          1276|               200|       215.44704130502672|           1|\n|9ZMA2FR6LFGXAB4YJ|2020-07-09 00:00:00|          20.116667|           361|               200|        56.91020845529577|           0|\n|P32QUJV32R5ZOCLIB|2020-07-09 00:00:00|          16.116667|           167|               200|       23.679776257887006|           0|\n|QPLT2V1KC14RVJ2HZ|2020-07-09 00:00:00|          21.116667|           954|               200|        176.1141555085468|           0|\n|D5NP0JQW13P5IALBN|2020-07-09 00:00:00|               24.5|          1499|               200|        258.9012436724732|           1|\n|NNLRTNV7UVZF1YJ5U|2020-07-09 00:00:00|          29.133333|           963|               200|        133.8023083297731|           0|\n|PZQAYREQWH527DV50|2020-07-09 00:00:00|          20.983333|          1199|               200|       221.95789056871007|           1|\n|TNZWN4KCBEAFU2PY4|2020-07-09 00:00:00|          36.616667|           506|               200|        65.37857016784706|           0|\n|B0RTKSTPYD2DGODTV|2020-07-09 00:00:00|          17.133333|          1078|               200|       173.82311685489077|           0|\n|1Q2FOUKE63J7OK3LI|2020-06-28 00:00:00|          72.983333|           951|               200|       163.06117008561603|           0|\n|KMXVZZGIYQNL8CW3B|2020-07-09 00:00:00|          38.133333|           125|               200|       15.243586023474851|           0|\n|DRT0Q802HU1LZCI3T|2020-07-09 00:00:00|          41.983333|           833|               200|       132.26182964106437|           0|\n|LP9A6PXHGPDYCT154|2020-07-09 00:00:00|          17.016667|          1416|               200|       238.07059410289682|           1|\n|L2IK6CE4KVESWBQLA|2020-07-09 00:00:00|          41.183333|           605|               200|        97.12690632559308|           0|\n|AZGRJZ1Q4K8LY3IDS|2020-07-08 00:00:00|         279.866667|          1140|               200|       136.41530644423855|           0|\n+-----------------+-------------------+-------------------+--------------+------------------+-------------------------+------------+\nonly showing top 20 rows"
          },
          "metadata": {}
        }
      ],
      "metadata": {
        "jupyter": {
          "source_hidden": false,
          "outputs_hidden": false
        },
        "nteract": {
          "transient": {
            "deleting": false
          }
        },
        "collapsed": true
      },
      "source": [
        "scored_maintenance_df.show()"
      ]
    },
    {
      "cell_type": "markdown",
      "metadata": {
        "nteract": {
          "transient": {
            "deleting": false
          }
        }
      },
      "source": [
        "# Write scored metadata back to Cosmos DB maintenance container"
      ]
    },
    {
      "cell_type": "code",
      "execution_count": 6,
      "outputs": [
        {
          "output_type": "display_data",
          "data": {
            "application/vnd.livy.statement-meta+json": {
              "spark_pool": "spark1",
              "session_id": 27,
              "statement_id": 8,
              "state": "finished",
              "livy_statement_state": "available",
              "queued_time": "2020-08-26T20:29:43.875047Z",
              "execution_start_time": "2020-08-26T20:29:43.9173428Z",
              "execution_finish_time": "2020-08-26T20:29:45.9562165Z"
            },
            "text/plain": "StatementMeta(spark1, 27, 8, Finished, Available)"
          },
          "metadata": {}
        },
        {
          "execution_count": 6,
          "output_type": "execute_result",
          "data": {
            "text/plain": ""
          },
          "metadata": {}
        }
      ],
      "metadata": {
        "jupyter": {
          "source_hidden": false,
          "outputs_hidden": false
        },
        "nteract": {
          "transient": {
            "deleting": false
          }
        },
        "collapsed": true
      },
      "source": [
        "# Retrieve connection string and key from linked service\r\n",
        "import sys\r\n",
        "import re\r\n",
        "\r\n",
        "from pyspark.sql import SparkSession\r\n",
        "sc = SparkSession.builder.getOrCreate()\r\n",
        "token_library = sc._jvm.com.microsoft.azure.synapse.tokenlibrary.TokenLibrary\r\n",
        "\r\n",
        "connection_string = token_library.getConnectionString(synapse_cosmos_db_linked_service)\r\n",
        "matchObj = re.match( r'AccountEndpoint=(.*);Database=(.*);AccountKey=\"(.*)\";', connection_string, re.M|re.I)\r\n",
        "endpoint = matchObj.group(1)\r\n",
        "masterkey = matchObj.group(3)"
      ]
    },
    {
      "cell_type": "code",
      "execution_count": 7,
      "outputs": [
        {
          "output_type": "display_data",
          "data": {
            "application/vnd.livy.statement-meta+json": {
              "spark_pool": "spark1",
              "session_id": 27,
              "statement_id": 9,
              "state": "finished",
              "livy_statement_state": "available",
              "queued_time": "2020-08-26T20:29:47.5504715Z",
              "execution_start_time": "2020-08-26T20:29:47.600109Z",
              "execution_finish_time": "2020-08-26T20:29:49.6489596Z"
            },
            "text/plain": "StatementMeta(spark1, 27, 9, Finished, Available)"
          },
          "metadata": {}
        },
        {
          "execution_count": 7,
          "output_type": "execute_result",
          "data": {
            "text/plain": ""
          },
          "metadata": {}
        }
      ],
      "metadata": {
        "jupyter": {
          "source_hidden": false,
          "outputs_hidden": false
        },
        "nteract": {
          "transient": {
            "deleting": false
          }
        },
        "collapsed": true
      },
      "source": [
        "read_config_maintenance = {\r\n",
        "    \"Endpoint\" : endpoint,\r\n",
        "    \"Masterkey\" : masterkey,\r\n",
        "    \"Database\" : cosmos_db_database,\r\n",
        "    \"Collection\" : cosmos_db_container_maintenance\r\n",
        "}"
      ]
    },
    {
      "cell_type": "code",
      "execution_count": 8,
      "outputs": [
        {
          "output_type": "display_data",
          "data": {
            "application/vnd.livy.statement-meta+json": {
              "spark_pool": "spark1",
              "session_id": 27,
              "statement_id": 10,
              "state": "finished",
              "livy_statement_state": "available",
              "queued_time": "2020-08-26T20:29:48.127917Z",
              "execution_start_time": "2020-08-26T20:29:49.7001104Z",
              "execution_finish_time": "2020-08-26T20:29:57.871585Z"
            },
            "text/plain": "StatementMeta(spark1, 27, 10, Finished, Available)"
          },
          "metadata": {}
        },
        {
          "execution_count": 8,
          "output_type": "execute_result",
          "data": {
            "text/plain": ""
          },
          "metadata": {}
        }
      ],
      "metadata": {
        "jupyter": {
          "source_hidden": false,
          "outputs_hidden": false
        },
        "nteract": {
          "transient": {
            "deleting": false
          }
        },
        "collapsed": true
      },
      "source": [
        "# Read existing maintenance records (if any)\r\n",
        "\r\n",
        "existing_maintenance_df = spark.read.format(\"com.microsoft.azure.cosmosdb.spark\").options(**read_config_maintenance).load()"
      ]
    },
    {
      "cell_type": "code",
      "execution_count": 9,
      "outputs": [
        {
          "output_type": "display_data",
          "data": {
            "application/vnd.livy.statement-meta+json": {
              "spark_pool": "spark1",
              "session_id": 27,
              "statement_id": 11,
              "state": "finished",
              "livy_statement_state": "available",
              "queued_time": "2020-08-26T20:29:49.5978811Z",
              "execution_start_time": "2020-08-26T20:29:57.9107928Z",
              "execution_finish_time": "2020-08-26T20:30:02.0090335Z"
            },
            "text/plain": "StatementMeta(spark1, 27, 11, Finished, Available)"
          },
          "metadata": {}
        },
        {
          "execution_count": 9,
          "output_type": "execute_result",
          "data": {
            "text/plain": "110\n+------------+--------------------+--------------------+--------------------+----------+--------------+------------------+--------------------+-------------------------+------------+-------------------+-------------+-----------------+\n|_attachments|               _etag|                _rid|               _self|       _ts|batteryAgeDays|batteryRatedCycles|                  id|lifetimeBatteryCyclesUsed|maint_needed|tripDurationMinutes|    tripEnded|              vin|\n+------------+--------------------+--------------------+--------------------+----------+--------------+------------------+--------------------+-------------------------+------------+-------------------+-------------+-----------------+\n|attachments/|\"02008e6b-0000-01...|VmxNAK-WzjYBAAAAA...|dbs/VmxNAA==/coll...|1598321933|           506|               200|a4cc7b11-c2aa-4a7...|        65.37857016784706|           0|          36.616667|1594252800000|TNZWN4KCBEAFU2PY4|\n|attachments/|\"02009e6b-0000-01...|VmxNAK-WzjYCAAAAA...|dbs/VmxNAA==/coll...|1598321933|           422|               200|6e5c0455-ab6b-473...|        70.42915592317448|           0|          39.666667|1594252800000|QZUP2Q4EHOE069K1X|\n|attachments/|\"0200b16b-0000-01...|VmxNAK-WzjYDAAAAA...|dbs/VmxNAA==/coll...|1598321933|            42|               200|24e225b4-04a2-402...|        4.733837810416631|           0|              39.55|1594252800000|Q8GLGAECVVBV4YDL5|\n|attachments/|\"0200cf6b-0000-01...|VmxNAK-WzjYEAAAAA...|dbs/VmxNAA==/coll...|1598321933|           125|               200|13fada80-71e1-478...|       15.243586023474851|           0|          38.133333|1594252800000|KMXVZZGIYQNL8CW3B|\n|attachments/|\"0200eb6b-0000-01...|VmxNAK-WzjYFAAAAA...|dbs/VmxNAA==/coll...|1598321933|           958|               200|6a26e638-fa66-4eb...|       153.06408611165776|           0|              41.75|1594252800000|2DSVHSN0AVPWBNJJ6|\n|attachments/|\"0200f26b-0000-01...|VmxNAK-WzjYGAAAAA...|dbs/VmxNAA==/coll...|1598321933|           483|               200|4643f3de-e78d-4b4...|        79.45181729689716|           0|         114.683333|1593820800000|NW8XPQ2KV5IK9F13E|\n|attachments/|\"0200b96b-0000-01...|VmxNAK-WzjYHAAAAA...|dbs/VmxNAA==/coll...|1598321933|           963|               200|93c8b08d-cda2-4c7...|        133.8023083297731|           0|          29.133333|1594252800000|NNLRTNV7UVZF1YJ5U|\n|attachments/|\"0200c96b-0000-01...|VmxNAK-WzjYIAAAAA...|dbs/VmxNAA==/coll...|1598321933|           857|               200|14de61a6-d747-496...|       115.71784429165045|           0|          44.116667|1594252800000|70LKXM5BCGNUG45QI|\n|attachments/|\"0200f76b-0000-01...|VmxNAK-WzjYJAAAAA...|dbs/VmxNAA==/coll...|1598321933|          1530|               200|f8fd7e62-fa51-484...|       171.12650378615152|           0|          25.383333|1593561600000|6AHIENBQ3IE0BX63L|\n|attachments/|\"02009b6b-0000-01...|VmxNAK-WzjYKAAAAA...|dbs/VmxNAA==/coll...|1598321933|          1078|               200|934e7f77-9d1e-477...|       173.82311685489077|           0|          17.133333|1594252800000|B0RTKSTPYD2DGODTV|\n|attachments/|\"0200e06b-0000-01...|VmxNAK-WzjYLAAAAA...|dbs/VmxNAA==/coll...|1598321933|           607|               200|a89ec604-37a1-4dc...|        83.67137359350797|           0|          28.866667|1594252800000|P0M5KPZ6BZHHXHGGX|\n|attachments/|\"0200e86b-0000-01...|VmxNAK-WzjYMAAAAA...|dbs/VmxNAA==/coll...|1598321933|          1555|               200|a53fe53d-fbe6-498...|        219.7450183093655|           1|              35.45|1594252800000|6BTD6NHP7DS1W7SJX|\n|attachments/|\"0200ea6b-0000-01...|VmxNAK-WzjYNAAAAA...|dbs/VmxNAA==/coll...|1598321933|          1199|               200|615307d8-bf99-432...|       221.95789056871007|           1|          20.983333|1594252800000|PZQAYREQWH527DV50|\n|attachments/|\"0200df6b-0000-01...|VmxNAK-WzjYOAAAAA...|dbs/VmxNAA==/coll...|1598321933|          1219|               200|f6c877dd-3ca2-4bb...|       133.05378357438192|           0|         218.266667|1593820800000|TRMKI7HQS5W2AXXZJ|\n|attachments/|\"0200a06b-0000-01...|VmxNAK-WzjYPAAAAA...|dbs/VmxNAA==/coll...|1598321933|           187|               200|2e6dbb07-3473-47f...|       30.622839095079918|           0|          36.033333|1594252800000|U4P0RTX0KIORVCVU3|\n|attachments/|\"0200be6b-0000-01...|VmxNAK-WzjYQAAAAA...|dbs/VmxNAA==/coll...|1598321933|           833|               200|cbda7b01-0a9e-4e5...|       132.26182964106437|           0|          41.983333|1594252800000|DRT0Q802HU1LZCI3T|\n|attachments/|\"0200ef6b-0000-01...|VmxNAK-WzjYRAAAAA...|dbs/VmxNAA==/coll...|1598321933|          1283|               200|0a8648f1-df86-405...|        233.7636017457096|           1|              19.95|1594252800000|K9HXYEIKIALDNOZVI|\n|attachments/|\"0200e66b-0000-01...|VmxNAK-WzjYSAAAAA...|dbs/VmxNAA==/coll...|1598321933|            66|               200|1c85795c-1331-4be...|        7.710122397834678|           0|               42.0|1594252800000|3F4D4PXZWAA3USWXT|\n|attachments/|\"0200906b-0000-01...|VmxNAK-WzjYTAAAAA...|dbs/VmxNAA==/coll...|1598321933|           951|               200|d2e5b71e-c1f2-46d...|       163.06117008561603|           0|          72.983333|1593302400000|1Q2FOUKE63J7OK3LI|\n|attachments/|\"02009a6b-0000-01...|VmxNAK-WzjYUAAAAA...|dbs/VmxNAA==/coll...|1598321933|           316|               200|43ef347a-4889-453...|        40.75234920923577|           0|          23.233333|1594252800000|GHRJAC7PDRUQ960AF|\n+------------+--------------------+--------------------+--------------------+----------+--------------+------------------+--------------------+-------------------------+------------+-------------------+-------------+-----------------+\nonly showing top 20 rows"
          },
          "metadata": {}
        }
      ],
      "metadata": {
        "jupyter": {
          "source_hidden": false,
          "outputs_hidden": false
        },
        "nteract": {
          "transient": {
            "deleting": false
          }
        },
        "collapsed": true
      },
      "source": [
        "print(existing_maintenance_df.count())\r\n",
        "\r\n",
        "existing_maintenance_df.show()"
      ]
    },
    {
      "cell_type": "code",
      "execution_count": 10,
      "outputs": [
        {
          "output_type": "display_data",
          "data": {
            "application/vnd.livy.statement-meta+json": {
              "spark_pool": "spark1",
              "session_id": 27,
              "statement_id": 12,
              "state": "finished",
              "livy_statement_state": "available",
              "queued_time": "2020-08-26T20:30:06.5311576Z",
              "execution_start_time": "2020-08-26T20:30:06.5743753Z",
              "execution_finish_time": "2020-08-26T20:30:08.6181034Z"
            },
            "text/plain": "StatementMeta(spark1, 27, 12, Finished, Available)"
          },
          "metadata": {}
        },
        {
          "execution_count": 10,
          "output_type": "execute_result",
          "data": {
            "text/plain": ""
          },
          "metadata": {}
        }
      ],
      "metadata": {
        "jupyter": {
          "source_hidden": false,
          "outputs_hidden": false
        },
        "nteract": {
          "transient": {
            "deleting": false
          }
        },
        "collapsed": true
      },
      "source": [
        "# If we had existing maintenance records from Cosmos DB, let's join them to the batch predictions on VIN. This is so we get the Cosmos DB-assigned\r\n",
        "# unique id on each document, and can do an update instead of a redundant insert for the same VIN.\r\n",
        "# If there are no maintenance records, we do not join, so we will not pass an id field, which means Cosmos DB will auto-generate it and insert it with the new document.\r\n",
        "\r\n",
        "if existing_maintenance_df.count() > 0:\r\n",
        "    maintenance_records_to_write_df = scored_maintenance_df\\\r\n",
        "        .join(existing_maintenance_df, scored_maintenance_df.vin == existing_maintenance_df.vin)\\\r\n",
        "        .select(scored_maintenance_df[\"*\"], existing_maintenance_df[\"id\"])\r\n",
        "else:\r\n",
        "    maintenance_records_to_write_df = scored_maintenance_df"
      ]
    },
    {
      "cell_type": "code",
      "execution_count": 11,
      "outputs": [
        {
          "output_type": "display_data",
          "data": {
            "application/vnd.livy.statement-meta+json": {
              "spark_pool": "spark1",
              "session_id": 27,
              "statement_id": 13,
              "state": "finished",
              "livy_statement_state": "available",
              "queued_time": "2020-08-26T20:30:09.0382265Z",
              "execution_start_time": "2020-08-26T20:30:09.075609Z",
              "execution_finish_time": "2020-08-26T20:30:13.1628652Z"
            },
            "text/plain": "StatementMeta(spark1, 27, 13, Finished, Available)"
          },
          "metadata": {}
        },
        {
          "execution_count": 11,
          "output_type": "execute_result",
          "data": {
            "text/plain": "110\n+-----------------+-------------------+-------------------+--------------+------------------+-------------------------+------------+--------------------+\n|              vin|          tripEnded|tripDurationMinutes|batteryAgeDays|batteryRatedCycles|lifetimeBatteryCyclesUsed|maint_needed|                  id|\n+-----------------+-------------------+-------------------+--------------+------------------+-------------------------+------------+--------------------+\n|TNZWN4KCBEAFU2PY4|2020-07-09 00:00:00|          36.616667|           506|               200|        65.37857016784706|           0|a4cc7b11-c2aa-4a7...|\n|QZUP2Q4EHOE069K1X|2020-07-09 00:00:00|          39.666667|           422|               200|        70.42915592317448|           0|6e5c0455-ab6b-473...|\n|Q8GLGAECVVBV4YDL5|2020-07-09 00:00:00|              39.55|            42|               200|        4.733837810416631|           0|24e225b4-04a2-402...|\n|KMXVZZGIYQNL8CW3B|2020-07-09 00:00:00|          38.133333|           125|               200|       15.243586023474851|           0|13fada80-71e1-478...|\n|2DSVHSN0AVPWBNJJ6|2020-07-09 00:00:00|              41.75|           958|               200|       153.06408611165776|           0|6a26e638-fa66-4eb...|\n|NW8XPQ2KV5IK9F13E|2020-07-04 00:00:00|         114.683333|           483|               200|        79.45181729689716|           0|4643f3de-e78d-4b4...|\n|NNLRTNV7UVZF1YJ5U|2020-07-09 00:00:00|          29.133333|           963|               200|        133.8023083297731|           0|93c8b08d-cda2-4c7...|\n|70LKXM5BCGNUG45QI|2020-07-09 00:00:00|          44.116667|           857|               200|       115.71784429165045|           0|14de61a6-d747-496...|\n|6AHIENBQ3IE0BX63L|2020-07-01 00:00:00|          25.383333|          1530|               200|       171.12650378615152|           0|f8fd7e62-fa51-484...|\n|B0RTKSTPYD2DGODTV|2020-07-09 00:00:00|          17.133333|          1078|               200|       173.82311685489077|           0|934e7f77-9d1e-477...|\n|P0M5KPZ6BZHHXHGGX|2020-07-09 00:00:00|          28.866667|           607|               200|        83.67137359350797|           0|a89ec604-37a1-4dc...|\n|6BTD6NHP7DS1W7SJX|2020-07-09 00:00:00|              35.45|          1555|               200|        219.7450183093655|           1|a53fe53d-fbe6-498...|\n|PZQAYREQWH527DV50|2020-07-09 00:00:00|          20.983333|          1199|               200|       221.95789056871007|           1|615307d8-bf99-432...|\n|TRMKI7HQS5W2AXXZJ|2020-07-04 00:00:00|         218.266667|          1219|               200|       133.05378357438192|           0|f6c877dd-3ca2-4bb...|\n|U4P0RTX0KIORVCVU3|2020-07-09 00:00:00|          36.033333|           187|               200|       30.622839095079918|           0|2e6dbb07-3473-47f...|\n|DRT0Q802HU1LZCI3T|2020-07-09 00:00:00|          41.983333|           833|               200|       132.26182964106437|           0|cbda7b01-0a9e-4e5...|\n|K9HXYEIKIALDNOZVI|2020-07-09 00:00:00|              19.95|          1283|               200|        233.7636017457096|           1|0a8648f1-df86-405...|\n|3F4D4PXZWAA3USWXT|2020-07-09 00:00:00|               42.0|            66|               200|        7.710122397834678|           0|1c85795c-1331-4be...|\n|1Q2FOUKE63J7OK3LI|2020-06-28 00:00:00|          72.983333|           951|               200|       163.06117008561603|           0|d2e5b71e-c1f2-46d...|\n|GHRJAC7PDRUQ960AF|2020-07-09 00:00:00|          23.233333|           316|               200|        40.75234920923577|           0|43ef347a-4889-453...|\n+-----------------+-------------------+-------------------+--------------+------------------+-------------------------+------------+--------------------+\nonly showing top 20 rows"
          },
          "metadata": {}
        }
      ],
      "metadata": {
        "jupyter": {
          "source_hidden": false,
          "outputs_hidden": false
        },
        "nteract": {
          "transient": {
            "deleting": false
          }
        },
        "collapsed": true
      },
      "source": [
        "print(maintenance_records_to_write_df.count())\r\n",
        "\r\n",
        "maintenance_records_to_write_df.show()"
      ]
    },
    {
      "cell_type": "code",
      "execution_count": 12,
      "outputs": [
        {
          "output_type": "display_data",
          "data": {
            "application/vnd.livy.statement-meta+json": {
              "spark_pool": "spark1",
              "session_id": 27,
              "statement_id": 14,
              "state": "finished",
              "livy_statement_state": "available",
              "queued_time": "2020-08-26T20:30:18.6919205Z",
              "execution_start_time": "2020-08-26T20:30:18.7339107Z",
              "execution_finish_time": "2020-08-26T20:30:20.7723186Z"
            },
            "text/plain": "StatementMeta(spark1, 27, 14, Finished, Available)"
          },
          "metadata": {}
        },
        {
          "execution_count": 12,
          "output_type": "execute_result",
          "data": {
            "text/plain": ""
          },
          "metadata": {}
        }
      ],
      "metadata": {
        "jupyter": {
          "source_hidden": false,
          "outputs_hidden": false
        },
        "nteract": {
          "transient": {
            "deleting": false
          }
        },
        "collapsed": true
      },
      "source": [
        "write_config_maintenance = {\r\n",
        "    \"Endpoint\": endpoint,\r\n",
        "    \"Masterkey\": masterkey,\r\n",
        "    \"Database\": cosmos_db_database,\r\n",
        "    \"Collection\": cosmos_db_container_maintenance,\r\n",
        "    \"Upsert\": \"true\"\r\n",
        "}"
      ]
    },
    {
      "cell_type": "code",
      "execution_count": 13,
      "outputs": [
        {
          "output_type": "display_data",
          "data": {
            "application/vnd.livy.statement-meta+json": {
              "spark_pool": "spark1",
              "session_id": 27,
              "statement_id": 15,
              "state": "finished",
              "livy_statement_state": "available",
              "queued_time": "2020-08-26T20:30:19.4044178Z",
              "execution_start_time": "2020-08-26T20:30:20.8084801Z",
              "execution_finish_time": "2020-08-26T20:30:24.8972714Z"
            },
            "text/plain": "StatementMeta(spark1, 27, 15, Finished, Available)"
          },
          "metadata": {}
        },
        {
          "execution_count": 13,
          "output_type": "execute_result",
          "data": {
            "text/plain": ""
          },
          "metadata": {}
        }
      ],
      "metadata": {
        "jupyter": {
          "source_hidden": false,
          "outputs_hidden": false
        },
        "nteract": {
          "transient": {
            "deleting": false
          }
        },
        "collapsed": true
      },
      "source": [
        "maintenance_records_to_write_df.write.mode(\"overwrite\").format(\"com.microsoft.azure.cosmosdb.spark\").options(**write_config_maintenance).save()"
      ]
    },
    {
      "cell_type": "code",
      "execution_count": null,
      "outputs": [],
      "metadata": {
        "jupyter": {
          "source_hidden": false,
          "outputs_hidden": false
        },
        "nteract": {
          "transient": {
            "deleting": false
          }
        },
        "collapsed": true
      },
      "source": [
        ""
      ]
    }
  ]
}