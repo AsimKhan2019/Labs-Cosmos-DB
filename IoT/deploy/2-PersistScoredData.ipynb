{
  "metadata": {
    "kernelspec": {
      "name": "synapse_pyspark",
      "display_name": "Synapse PySpark"
    },
    "language_info": {
      "name": "python"
    },
    "sessionKeepAliveTimeout": 30
  },
  "nbformat": 4,
  "nbformat_minor": 2,
  "cells": [
    {
      "cell_type": "code",
      "execution_count": null,
      "outputs": [
        {
          "output_type": "display_data",
          "data": {
            "application/vnd.livy.statement-meta+json": {
              "spark_pool": "spark1",
              "session_id": 31,
              "statement_id": 5,
              "state": "submitted",
              "livy_statement_state": "available",
              "queued_time": "2020-09-01T23:10:40.8348773Z",
              "execution_start_time": "2020-09-01T23:13:31.7070281Z",
              "execution_finish_time": null
            },
            "text/plain": "StatementMeta(spark1, 31, 5, Submitted, Available)"
          },
          "metadata": {}
        }
      ],
      "metadata": {},
      "source": [
        "# Variables\r\n",
        "\r\n",
        "# Storage account name for the Synapse WS storage account - starts with \"synsa\"\r\n",
        "storage_acct_name = \"synsa3uka6z6tqjlmi\"\r\n",
        "storage_container_name = \"workspace\"\r\n",
        "storage_path_scored = \"lab-data/scored/\"\r\n",
        "\r\n",
        "# Cosmos DB\r\n",
        "cosmos_db_database = \"ContosoAuto\"\r\n",
        "cosmos_db_container_metadata = \"metadata\"\r\n",
        "cosmos_db_container_maintenance = \"maintenance\"\r\n",
        "\r\n",
        "# Synapse linked service pointing to Cosmos DB Analytical Store - this is where we get the source data\r\n",
        "synapse_cosmos_db_linked_service = \"CosmosDbIoTLab\""
      ]
    },
    {
      "cell_type": "code",
      "execution_count": null,
      "outputs": [
        {
          "output_type": "display_data",
          "data": {
            "application/vnd.livy.statement-meta+json": {
              "spark_pool": "spark1",
              "session_id": 31,
              "statement_id": 6,
              "state": "submitted",
              "livy_statement_state": "available",
              "queued_time": "2020-09-01T23:10:40.8429966Z",
              "execution_start_time": "2020-09-01T23:13:31.7486849Z",
              "execution_finish_time": null
            },
            "text/plain": "StatementMeta(spark1, 31, 6, Submitted, Available)"
          },
          "metadata": {}
        }
      ],
      "metadata": {
        "jupyter": {
          "source_hidden": false,
          "outputs_hidden": false
        },
        "nteract": {
          "transient": {
            "deleting": false
          }
        },
        "collapsed": true
      },
      "source": [
        "sa_uri = \"abfss://workspace@\" + storage_acct_name + \".dfs.core.windows.net/\" + storage_path_scored"
      ]
    },
    {
      "cell_type": "code",
      "execution_count": 6,
      "outputs": [
        {
          "output_type": "display_data",
          "data": {
            "application/vnd.livy.statement-meta+json": {
              "spark_pool": "spark1",
              "session_id": 31,
              "statement_id": 8,
              "state": "finished",
              "livy_statement_state": "available",
              "queued_time": "2020-09-01T23:16:18.8015054Z",
              "execution_start_time": "2020-09-01T23:16:19.2359144Z",
              "execution_finish_time": "2020-09-01T23:16:21.6762065Z"
            },
            "text/plain": "StatementMeta(spark1, 31, 8, Finished, Available)"
          },
          "metadata": {}
        },
        {
          "execution_count": 6,
          "output_type": "execute_result",
          "data": {
            "text/plain": ""
          },
          "metadata": {}
        }
      ],
      "metadata": {
        "jupyter": {
          "source_hidden": false,
          "outputs_hidden": false
        },
        "nteract": {
          "transient": {
            "deleting": false
          }
        },
        "collapsed": true
      },
      "source": [
        "scored_maintenance_df = spark.read.parquet(sa_uri)"
      ]
    },
    {
      "cell_type": "code",
      "execution_count": 7,
      "outputs": [
        {
          "output_type": "display_data",
          "data": {
            "application/vnd.livy.statement-meta+json": {
              "spark_pool": "spark1",
              "session_id": 31,
              "statement_id": 9,
              "state": "finished",
              "livy_statement_state": "available",
              "queued_time": "2020-09-01T23:16:22.6574142Z",
              "execution_start_time": "2020-09-01T23:16:23.0636035Z",
              "execution_finish_time": "2020-09-01T23:16:25.5465487Z"
            },
            "text/plain": "StatementMeta(spark1, 31, 9, Finished, Available)"
          },
          "metadata": {}
        },
        {
          "execution_count": 7,
          "output_type": "execute_result",
          "data": {
            "text/plain": "110\nroot\n |-- vin: string (nullable = true)\n |-- batteryAgeDays: long (nullable = true)\n |-- batteryRatedCycles: long (nullable = true)\n |-- lifetimeBatteryCyclesUsed: double (nullable = true)\n |-- tripDurationMinutes: double (nullable = true)\n |-- result: long (nullable = true)"
          },
          "metadata": {}
        }
      ],
      "metadata": {
        "jupyter": {
          "source_hidden": false,
          "outputs_hidden": false
        },
        "nteract": {
          "transient": {
            "deleting": false
          }
        },
        "collapsed": true
      },
      "source": [
        "print(scored_maintenance_df.count())\r\n",
        "\r\n",
        "scored_maintenance_df.printSchema()"
      ]
    },
    {
      "cell_type": "code",
      "execution_count": 8,
      "outputs": [
        {
          "output_type": "display_data",
          "data": {
            "application/vnd.livy.statement-meta+json": {
              "spark_pool": "spark1",
              "session_id": 31,
              "statement_id": 10,
              "state": "finished",
              "livy_statement_state": "available",
              "queued_time": "2020-09-01T23:16:27.8391139Z",
              "execution_start_time": "2020-09-01T23:16:28.2890903Z",
              "execution_finish_time": "2020-09-01T23:16:30.683375Z"
            },
            "text/plain": "StatementMeta(spark1, 31, 10, Finished, Available)"
          },
          "metadata": {}
        },
        {
          "execution_count": 8,
          "output_type": "execute_result",
          "data": {
            "text/plain": "+-----------------+--------------+------------------+-------------------------+-------------------+------+\n|              vin|batteryAgeDays|batteryRatedCycles|lifetimeBatteryCyclesUsed|tripDurationMinutes|result|\n+-----------------+--------------+------------------+-------------------------+-------------------+------+\n|3OQE2DL51SU3H6SOA|           572|               200|        99.84783502151362|          40.333333|     0|\n|NMGCY7X5J1PJ2UA94|           428|               200|        76.34864138288938|          19.233333|     0|\n|F0MHIDSCCW3U5GYLM|            35|               200|        3.777722508852241|          13.666667|     0|\n|C1L2DIPNXT6NMTY0Y|           240|               200|        43.90140376332281|          34.566667|     0|\n|HVL5A6XYMSSLTJOGX|           799|               200|       134.34802319883033|          25.216667|     0|\n|E0IFFYJHBQ9KGBL26|            40|               200|        7.037303141905602|          29.833333|     0|\n|GN363ZCEXYXJDESOH|           578|               200|        95.41661195234313|          14.866667|     0|\n|LQS47SYHDPU7PY659|          1267|               200|        233.0405767904599|          20.016667|     1|\n|DZ9OJAMDUDQIFWG45|          1306|               200|        211.0990692129172|          24.566667|     1|\n|6AHIENBQ3IE0BX63L|          1530|               200|       171.12650378615152|          25.383333|     0|\n|Q8GLGAECVVBV4YDL5|            42|               200|        4.733837810416631|              39.55|     0|\n|NW8XPQ2KV5IK9F13E|           483|               200|        79.45181729689716|         114.683333|     0|\n|E5X1LZVX86QN3CV2R|           610|               200|        99.40212476910378|          26.866667|     0|\n|3F4D4PXZWAA3USWXT|            66|               200|        7.710122397834678|               42.0|     0|\n|6BTD6NHP7DS1W7SJX|          1555|               200|        219.7450183093655|              35.45|     1|\n|3H2YWQ17MULYF5FTA|          1068|               200|       144.85794949920492|               21.2|     0|\n|2H2KRFWQT3W4A8RL2|           471|               200|        68.11936947818462|             325.55|     0|\n|U4P0RTX0KIORVCVU3|           187|               200|       30.622839095079918|          36.033333|     0|\n|DHPVT5LN2MSGSMEMP|           101|               200|       13.192021335696065|          28.733333|     0|\n|0IBN9W4FLJTNDM6G4|           691|               200|       112.50023534963609|          17.416667|     0|\n+-----------------+--------------+------------------+-------------------------+-------------------+------+\nonly showing top 20 rows"
          },
          "metadata": {}
        }
      ],
      "metadata": {
        "jupyter": {
          "source_hidden": false,
          "outputs_hidden": false
        },
        "nteract": {
          "transient": {
            "deleting": false
          }
        },
        "collapsed": true
      },
      "source": [
        "scored_maintenance_df.show()"
      ]
    },
    {
      "cell_type": "markdown",
      "metadata": {
        "nteract": {
          "transient": {
            "deleting": false
          }
        }
      },
      "source": [
        "# Write scored metadata back to Cosmos DB maintenance container"
      ]
    },
    {
      "cell_type": "code",
      "execution_count": null,
      "outputs": [],
      "metadata": {
        "jupyter": {
          "source_hidden": false,
          "outputs_hidden": false
        },
        "nteract": {
          "transient": {
            "deleting": false
          }
        },
        "collapsed": true
      },
      "source": [
        "# Retrieve connection string and key from linked service\r\n",
        "import sys\r\n",
        "import re\r\n",
        "\r\n",
        "from pyspark.sql import SparkSession\r\n",
        "sc = SparkSession.builder.getOrCreate()\r\n",
        "token_library = sc._jvm.com.microsoft.azure.synapse.tokenlibrary.TokenLibrary\r\n",
        "\r\n",
        "connection_string = token_library.getConnectionString(synapse_cosmos_db_linked_service)\r\n",
        "matchObj = re.match( r'AccountEndpoint=(.*);Database=(.*);AccountKey=\"(.*)\";', connection_string, re.M|re.I)\r\n",
        "endpoint = matchObj.group(1)\r\n",
        "masterkey = matchObj.group(3)"
      ]
    },
    {
      "cell_type": "code",
      "execution_count": null,
      "outputs": [],
      "metadata": {
        "jupyter": {
          "source_hidden": false,
          "outputs_hidden": false
        },
        "nteract": {
          "transient": {
            "deleting": false
          }
        },
        "collapsed": true
      },
      "source": [
        "read_config_maintenance = {\r\n",
        "    \"Endpoint\" : endpoint,\r\n",
        "    \"Masterkey\" : masterkey,\r\n",
        "    \"Database\" : cosmos_db_database,\r\n",
        "    \"Collection\" : cosmos_db_container_maintenance\r\n",
        "}"
      ]
    },
    {
      "cell_type": "code",
      "execution_count": null,
      "outputs": [],
      "metadata": {
        "jupyter": {
          "source_hidden": false,
          "outputs_hidden": false
        },
        "nteract": {
          "transient": {
            "deleting": false
          }
        },
        "collapsed": true
      },
      "source": [
        "# Read existing maintenance records (if any)\r\n",
        "\r\n",
        "existing_maintenance_df = spark.read.format(\"com.microsoft.azure.cosmosdb.spark\").options(**read_config_maintenance).load()"
      ]
    },
    {
      "cell_type": "code",
      "execution_count": null,
      "outputs": [],
      "metadata": {
        "jupyter": {
          "source_hidden": false,
          "outputs_hidden": false
        },
        "nteract": {
          "transient": {
            "deleting": false
          }
        },
        "collapsed": true
      },
      "source": [
        "print(existing_maintenance_df.count())\r\n",
        "\r\n",
        "existing_maintenance_df.show()"
      ]
    },
    {
      "cell_type": "code",
      "execution_count": null,
      "outputs": [],
      "metadata": {
        "jupyter": {
          "source_hidden": false,
          "outputs_hidden": false
        },
        "nteract": {
          "transient": {
            "deleting": false
          }
        },
        "collapsed": true
      },
      "source": [
        "# If we had existing maintenance records from Cosmos DB, let's join them to the batch predictions on VIN. This is so we get the Cosmos DB-assigned\r\n",
        "# unique id on each document, and can do an update instead of a redundant insert for the same VIN.\r\n",
        "# If there are no maintenance records, we do not join, so we will not pass an id field, which means Cosmos DB will auto-generate it and insert it with the new document.\r\n",
        "\r\n",
        "if existing_maintenance_df.count() > 0:\r\n",
        "    maintenance_records_to_write_df = scored_maintenance_df\\\r\n",
        "        .join(existing_maintenance_df, scored_maintenance_df.vin == existing_maintenance_df.vin)\\\r\n",
        "        .select(scored_maintenance_df[\"*\"], existing_maintenance_df[\"id\"])\r\n",
        "else:\r\n",
        "    maintenance_records_to_write_df = scored_maintenance_df"
      ]
    },
    {
      "cell_type": "code",
      "execution_count": null,
      "outputs": [],
      "metadata": {
        "jupyter": {
          "source_hidden": false,
          "outputs_hidden": false
        },
        "nteract": {
          "transient": {
            "deleting": false
          }
        },
        "collapsed": true
      },
      "source": [
        "print(maintenance_records_to_write_df.count())\r\n",
        "\r\n",
        "maintenance_records_to_write_df.show()"
      ]
    },
    {
      "cell_type": "code",
      "execution_count": null,
      "outputs": [],
      "metadata": {
        "jupyter": {
          "source_hidden": false,
          "outputs_hidden": false
        },
        "nteract": {
          "transient": {
            "deleting": false
          }
        },
        "collapsed": true
      },
      "source": [
        "write_config_maintenance = {\r\n",
        "    \"Endpoint\": endpoint,\r\n",
        "    \"Masterkey\": masterkey,\r\n",
        "    \"Database\": cosmos_db_database,\r\n",
        "    \"Collection\": cosmos_db_container_maintenance,\r\n",
        "    \"Upsert\": \"true\"\r\n",
        "}"
      ]
    },
    {
      "cell_type": "code",
      "execution_count": null,
      "outputs": [],
      "metadata": {
        "jupyter": {
          "source_hidden": false,
          "outputs_hidden": false
        },
        "nteract": {
          "transient": {
            "deleting": false
          }
        },
        "collapsed": true
      },
      "source": [
        "maintenance_records_to_write_df.write.mode(\"overwrite\").format(\"com.microsoft.azure.cosmosdb.spark\").options(**write_config_maintenance).save()"
      ]
    },
    {
      "cell_type": "code",
      "execution_count": null,
      "outputs": [],
      "metadata": {
        "jupyter": {
          "source_hidden": false,
          "outputs_hidden": false
        },
        "nteract": {
          "transient": {
            "deleting": false
          }
        },
        "collapsed": true
      },
      "source": [
        ""
      ]
    }
  ]
}